{
 "cells": [
  {
   "cell_type": "code",
   "execution_count": 1,
   "metadata": {},
   "outputs": [],
   "source": [
    "# user-friendly print\n",
    "from IPython.core.interactiveshell import InteractiveShell\n",
    "InteractiveShell.ast_node_interactivity = \"all\""
   ]
  },
  {
   "cell_type": "markdown",
   "metadata": {},
   "source": [
    "## Crystal structure generation\n",
    "\n",
    "To generate legal structure under a given space group with specific chemical composition, basicly the following four steps are needed.\n",
    "\n",
    "1. calculate possible Wyckoff configurations under a given space group for each chemical composition.\n",
    "2. generate fraction positions for each element with given a Wyckoff configuration which is calculated from step 1), randomly.\n",
    "3. generate lattice for the given space group which is used in step 1), randomly.\n",
    "4. combine the results from step 2) and 3) to obtain a legal structure.\n",
    "\n",
    "Usually, we also have to check the `volume` and `atomic distances` of generated structure, only keep the structures which have reasonable `volume` and `atomic distances`.\n",
    "\n",
    "To facilitate these jobs, our `crystallus` library provides four modules:\n",
    "\n",
    "* `WyckoffCfgGenerator`: generate possible Wyckoff configurations for the given space group and composition of primitive cell.\n",
    "* `CrystalGenerator`: generate crystal structures for the given space group and Wyckoff configurations.\n",
    "* `WyckoffDB, SpaceGroupDB`: database include space group and corresponding Wyckoff information.\n",
    "\n",
    "We will show how to use `crystallus` to generate legal structures."
   ]
  },
  {
   "cell_type": "markdown",
   "metadata": {},
   "source": [
    "### 1. generate Wyckoff configurations\n",
    "\n",
    "As an example, we will try to generate structures for `Ca2C2O6`. The true space group of this structure is `167`, and the Wyckoff configuration is `{Ca: 2b, C: 2a, O: 6e}`.\n",
    "You can use `SpaceGroupDB` to get the information of Wyckoff position about space group `167`."
   ]
  },
  {
   "cell_type": "code",
   "execution_count": 2,
   "metadata": {},
   "outputs": [
    {
     "data": {
      "text/plain": [
       "[{'Wyckoff letter': 'f',\n",
       "  'multiplicity': 12,\n",
       "  'reusable': True,\n",
       "  'Wyckoff position': '(x,y,z), (z,x,y), (y,z,x), (-y+1/2,-x+1/2,-z+1/2), (-x+1/2,-z+1/2,-y+1/2), (-z+1/2,-y+1/2,-x+1/2), (-x,-y,-z), (-z,-x,-y), (-y,-z,-x), (y+1/2,x+1/2,z+1/2), (x+1/2,z+1/2,y+1/2), (z+1/2,y+1/2,x+1/2)'},\n",
       " {'Wyckoff letter': 'e',\n",
       "  'multiplicity': 6,\n",
       "  'reusable': True,\n",
       "  'Wyckoff position': '(x,-x+1/2,1/4), (1/4,x,-x+1/2), (-x+1/2,1/4,x), (-x,x+1/2,3/4), (3/4,-x,x+1/2), (x+1/2,3/4,-x)'},\n",
       " {'Wyckoff letter': 'd',\n",
       "  'multiplicity': 6,\n",
       "  'reusable': False,\n",
       "  'Wyckoff position': '(1/2,0,0), (0,1/2,0), (0,0,1/2), (1/2,0,1/2), (0,1/2,1/2), (1/2,1/2,0)'},\n",
       " {'Wyckoff letter': 'c',\n",
       "  'multiplicity': 4,\n",
       "  'reusable': True,\n",
       "  'Wyckoff position': '(x,x,x), (-x+1/2,-x+1/2,-x+1/2), (-x,-x,-x), (x+1/2,x+1/2,x+1/2)'},\n",
       " {'Wyckoff letter': 'b',\n",
       "  'multiplicity': 2,\n",
       "  'reusable': False,\n",
       "  'Wyckoff position': '(0,0,0), (1/2,1/2,1/2)'},\n",
       " {'Wyckoff letter': 'a',\n",
       "  'multiplicity': 2,\n",
       "  'reusable': False,\n",
       "  'Wyckoff position': '(1/4,1/4,1/4), (3/4,3/4,3/4)'}]"
      ]
     },
     "execution_count": 2,
     "metadata": {},
     "output_type": "execute_result"
    }
   ],
   "source": [
    "from crystallus import SpaceGroupDB\n",
    "\n",
    "wys = SpaceGroupDB.get(spacegroup_num=167).wyckoffs\n",
    "[{'Wyckoff letter': w.letter, 'multiplicity': w.multiplicity, 'reusable': w.reuse, 'Wyckoff position': w.positions} for w in wys ]"
   ]
  },
  {
   "cell_type": "markdown",
   "metadata": {},
   "source": [
    "Let's generate some possible Wyckoff configurations for the composition `Ca2C2O6` under space group `167`."
   ]
  },
  {
   "cell_type": "code",
   "execution_count": 3,
   "metadata": {},
   "outputs": [
    {
     "data": {
      "text/plain": [
       "\u001b[0;31mInit signature:\u001b[0m \u001b[0mWyckoffCfgGenerator\u001b[0m\u001b[0;34m(\u001b[0m\u001b[0;34m*\u001b[0m\u001b[0;34m,\u001b[0m \u001b[0mmax_recurrent\u001b[0m\u001b[0;34m=\u001b[0m\u001b[0;36m1000\u001b[0m\u001b[0;34m,\u001b[0m \u001b[0mn_jobs\u001b[0m\u001b[0;34m=\u001b[0m\u001b[0;34m-\u001b[0m\u001b[0;36m1\u001b[0m\u001b[0;34m,\u001b[0m \u001b[0;34m**\u001b[0m\u001b[0mcomposition\u001b[0m\u001b[0;34m)\u001b[0m\u001b[0;34m\u001b[0m\u001b[0;34m\u001b[0m\u001b[0m\n",
       "\u001b[0;31mDocstring:\u001b[0m      <no docstring>\n",
       "\u001b[0;31mInit docstring:\u001b[0m\n",
       "A generator for possible Wyckoff configuration generation.\n",
       "\n",
       "Parameters\n",
       "----------\n",
       "max_recurrent : int, optional\n",
       "    Max recurrent until generate a reasonable structure, by default 5_000\n",
       "n_jobs : int, optional\n",
       "    Number of cpu cores when parallel calculation, by default -1\n",
       "composition: Dict\n",
       "    Composition of compounds in the primitive cell; should be formated\n",
       "    as {<element symbol>: <ratio in float>}.\n",
       "\u001b[0;31mFile:\u001b[0m           /usr/local/miniconda3/envs/crystallus/lib/python3.7/site-packages/crystallus/wyckoff_cfg_generator.py\n",
       "\u001b[0;31mType:\u001b[0m           type\n",
       "\u001b[0;31mSubclasses:\u001b[0m     \n"
      ]
     },
     "metadata": {},
     "output_type": "display_data"
    }
   ],
   "source": [
    "from crystallus import WyckoffCfgGenerator\n",
    "\n",
    "WyckoffCfgGenerator?"
   ]
  },
  {
   "cell_type": "code",
   "execution_count": 4,
   "metadata": {},
   "outputs": [
    {
     "data": {
      "text/plain": [
       "WyckoffCfgGenerator(            \n",
       "    max_recurrent=1000,            \n",
       "    n_jobs=-1            \n",
       "    composition={'Ca': 2, 'C': 2, 'O': 6}            \n",
       ")"
      ]
     },
     "execution_count": 4,
     "metadata": {},
     "output_type": "execute_result"
    }
   ],
   "source": [
    "composition = {'Ca': 2, 'C': 2, 'O': 6}\n",
    "\n",
    "wyg = WyckoffCfgGenerator(**composition)\n",
    "wyg"
   ]
  },
  {
   "cell_type": "markdown",
   "metadata": {},
   "source": [
    "You have noticed that the minimum input for the initialization of a `WyckoffCfgGenerator` is just a composition.\n",
    "Now, we can try to use this generator to generate Wyckoff configuration(s). First, let's try to generate one. This can be done by the `gen_one` method."
   ]
  },
  {
   "cell_type": "code",
   "execution_count": 5,
   "metadata": {},
   "outputs": [
    {
     "data": {
      "text/plain": [
       "\u001b[0;31mSignature:\u001b[0m \u001b[0mwyg\u001b[0m\u001b[0;34m.\u001b[0m\u001b[0mgen_one\u001b[0m\u001b[0;34m(\u001b[0m\u001b[0mspacegroup_num\u001b[0m\u001b[0;34m:\u001b[0m \u001b[0mint\u001b[0m\u001b[0;34m)\u001b[0m\u001b[0;34m\u001b[0m\u001b[0;34m\u001b[0m\u001b[0m\n",
       "\u001b[0;31mDocstring:\u001b[0m\n",
       "Try to generate a possible Wyckoff configuration under the given space group.\n",
       "\n",
       "Parameters\n",
       "----------\n",
       "spacegroup_num : int\n",
       "    Space group number.\n",
       "\n",
       "Returns\n",
       "-------\n",
       "Dict\n",
       "    Wyckoff configuration set, which is a dict with format like:\n",
       "    {\"Li\": [\"a\", \"c\"], \"O\": [\"i\"]}. Here, the \"Li\" is an available element\n",
       "    symbol and [\"a\", \"c\"] is a list which contains coresponding Wyckoff\n",
       "    letters. For convenience, dict will be sorted by keys.\n",
       "\u001b[0;31mFile:\u001b[0m      /usr/local/miniconda3/envs/crystallus/lib/python3.7/site-packages/crystallus/wyckoff_cfg_generator.py\n",
       "\u001b[0;31mType:\u001b[0m      method\n"
      ]
     },
     "metadata": {},
     "output_type": "display_data"
    }
   ],
   "source": [
    "wyg.gen_one?"
   ]
  },
  {
   "cell_type": "code",
   "execution_count": 6,
   "metadata": {},
   "outputs": [
    {
     "data": {
      "text/plain": [
       "{'C': ['a'], 'Ca': ['b'], 'O': ['d']}"
      ]
     },
     "execution_count": 6,
     "metadata": {},
     "output_type": "execute_result"
    }
   ],
   "source": [
    "cfg = wyg.gen_one(spacegroup_num=167)\n",
    "cfg"
   ]
  },
  {
   "cell_type": "markdown",
   "metadata": {},
   "source": [
    "If everything goes well, the above cell will return you a dict with something like: `{'C': ['b'], 'Ca': ['a'], 'O': ['d']}`.\n",
    "Here, `C`, `Ca`, and `O` are the element names that had been sorted by the alphabet. `['b']`, `['a']`, and `['d']` are the corresponding Wyckoff positions which are provided by Wyckoff letters.\n",
    "\n",
    "Maybe you are confused that the return of this cell is not unique. That makes sense because all the possible configurations for composition `Ca2C2O6` under space group `167` are four. This means if you run this cell many times, you will get all these configurations. Because in almost all the cases, the possible configurations are not one, so instead of using `gen_one`, you should use `gen_many`."
   ]
  },
  {
   "cell_type": "code",
   "execution_count": 7,
   "metadata": {},
   "outputs": [
    {
     "data": {
      "text/plain": [
       "\u001b[0;31mSignature:\u001b[0m \u001b[0mwyg\u001b[0m\u001b[0;34m.\u001b[0m\u001b[0mgen_many\u001b[0m\u001b[0;34m(\u001b[0m\u001b[0msize\u001b[0m\u001b[0;34m:\u001b[0m \u001b[0mint\u001b[0m\u001b[0;34m,\u001b[0m \u001b[0;34m*\u001b[0m\u001b[0mspacegroup_num\u001b[0m\u001b[0;34m:\u001b[0m \u001b[0mint\u001b[0m\u001b[0;34m)\u001b[0m\u001b[0;34m\u001b[0m\u001b[0;34m\u001b[0m\u001b[0m\n",
       "\u001b[0;31mDocstring:\u001b[0m\n",
       "Try to generate possible Wyckoff configuration sets.\n",
       "\n",
       "Parameters\n",
       "----------\n",
       "size : int\n",
       "    How many times to try for one space group.\n",
       "spacegroup_num: int\n",
       "    The spacegroup numbers.\n",
       "\n",
       "Returns\n",
       "-------\n",
       "Dict[int, List[Dict]], List[Dict]\n",
       "    A collection contains spacegroup number and it's corresponding Wyckoff\n",
       "    configurations (wy_cfg). If only one spacegroup number was given,\n",
       "    will only return the list of wy_cfgs, otherwise return in dict with\n",
       "    spacegroup number as key. wy_cfgs will be formated as\n",
       "    {element 1: [Wyckoff_letter, Wyckoff_letter, ...], element 2: [...], ...}.\n",
       "\u001b[0;31mFile:\u001b[0m      /usr/local/miniconda3/envs/crystallus/lib/python3.7/site-packages/crystallus/wyckoff_cfg_generator.py\n",
       "\u001b[0;31mType:\u001b[0m      method\n"
      ]
     },
     "metadata": {},
     "output_type": "display_data"
    }
   ],
   "source": [
    "wyg.gen_many?"
   ]
  },
  {
   "cell_type": "code",
   "execution_count": 8,
   "metadata": {},
   "outputs": [
    {
     "data": {
      "text/plain": [
       "[{'C': ['b'], 'Ca': ['a'], 'O': ['d']},\n",
       " {'C': ['a'], 'Ca': ['b'], 'O': ['d']},\n",
       " {'C': ['a'], 'Ca': ['b'], 'O': ['e']},\n",
       " {'C': ['b'], 'Ca': ['a'], 'O': ['e']}]"
      ]
     },
     "execution_count": 8,
     "metadata": {},
     "output_type": "execute_result"
    }
   ],
   "source": [
    "cfgs = wyg.gen_many(100, 167)\n",
    "cfgs"
   ]
  },
  {
   "cell_type": "markdown",
   "metadata": {},
   "source": [
    "You can calculate more than one space group in one call. Just list space group numbers as `*` parameters. In this case, the return will be a dict with space group number as key and configuration list as value. For example, if our space group candidate are `[194, 148, 167]`, you can call `gen_many` like this:"
   ]
  },
  {
   "cell_type": "code",
   "execution_count": 9,
   "metadata": {},
   "outputs": [
    {
     "name": "stdout",
     "output_type": "stream",
     "text": [
      "CPU times: user 7.4 ms, sys: 3.19 ms, total: 10.6 ms\n",
      "Wall time: 2.62 ms\n"
     ]
    },
    {
     "data": {
      "text/plain": [
       "{194: [{'C': ['d'], 'Ca': ['b'], 'O': ['c', 'f']},\n",
       "  {'C': ['b'], 'Ca': ['c'], 'O': ['a', 'e']},\n",
       "  {'C': ['b'], 'Ca': ['d'], 'O': ['g']},\n",
       "  {'C': ['d'], 'Ca': ['a'], 'O': ['h']},\n",
       "  {'C': ['c'], 'Ca': ['a'], 'O': ['g']},\n",
       "  {'C': ['c'], 'Ca': ['a'], 'O': ['d', 'e']},\n",
       "  {'C': ['b'], 'Ca': ['c'], 'O': ['h']},\n",
       "  {'C': ['a'], 'Ca': ['c'], 'O': ['h']},\n",
       "  {'C': ['a'], 'Ca': ['c'], 'O': ['b', 'f']},\n",
       "  {'C': ['d'], 'Ca': ['b'], 'O': ['a', 'e']},\n",
       "  {'C': ['a'], 'Ca': ['b'], 'O': ['d', 'e']},\n",
       "  {'C': ['a'], 'Ca': ['b'], 'O': ['c', 'f']},\n",
       "  {'C': ['d'], 'Ca': ['a'], 'O': ['g']},\n",
       "  {'C': ['b'], 'Ca': ['a'], 'O': ['h']},\n",
       "  {'C': ['b'], 'Ca': ['d'], 'O': ['a', 'e']},\n",
       "  {'C': ['b'], 'Ca': ['a'], 'O': ['g']},\n",
       "  {'C': ['a'], 'Ca': ['b'], 'O': ['h']},\n",
       "  {'C': ['c'], 'Ca': ['a'], 'O': ['b', 'f']},\n",
       "  {'C': ['d'], 'Ca': ['a'], 'O': ['b', 'e']}],\n",
       " 148: [{'C': ['c'], 'Ca': ['a', 'b'], 'O': ['d', 'e']},\n",
       "  {'C': ['c'], 'Ca': ['c'], 'O': ['f']},\n",
       "  {'C': ['c'], 'Ca': ['c'], 'O': ['a', 'c', 'e']},\n",
       "  {'C': ['c'], 'Ca': ['c'], 'O': ['d', 'e']},\n",
       "  {'C': ['c'], 'Ca': ['c'], 'O': ['b', 'c', 'e']},\n",
       "  {'C': ['c'], 'Ca': ['c'], 'O': ['b', 'c', 'd']},\n",
       "  {'C': ['c'], 'Ca': ['a', 'b'], 'O': ['f']}],\n",
       " 167: [{'C': ['a'], 'Ca': ['b'], 'O': ['d']},\n",
       "  {'C': ['b'], 'Ca': ['a'], 'O': ['d']},\n",
       "  {'C': ['a'], 'Ca': ['b'], 'O': ['e']},\n",
       "  {'C': ['b'], 'Ca': ['a'], 'O': ['e']}]}"
      ]
     },
     "execution_count": 9,
     "metadata": {},
     "output_type": "execute_result"
    }
   ],
   "source": [
    "%%time\n",
    "\n",
    "cfgs = wyg.gen_many(20, 194, 148, 167)\n",
    "cfgs"
   ]
  },
  {
   "cell_type": "markdown",
   "metadata": {},
   "source": [
    "An iterative version of `gen_many` name `gen_many_iter` is also provided. You can use this method to render a progress bar during generation."
   ]
  },
  {
   "cell_type": "code",
   "execution_count": 10,
   "metadata": {},
   "outputs": [
    {
     "data": {
      "application/vnd.jupyter.widget-view+json": {
       "model_id": "4826c01d2d034423ba93aa1a4b3a7442",
       "version_major": 2,
       "version_minor": 0
      },
      "text/plain": [
       "HBox(children=(FloatProgress(value=0.0, max=9.0), HTML(value='')))"
      ]
     },
     "metadata": {},
     "output_type": "display_data"
    },
    {
     "name": "stdout",
     "output_type": "stream",
     "text": [
      "space group: 194, size of generated samples: 72\n",
      "space group: 148, size of generated samples: 14\n",
      "space group: 167, size of generated samples: 4\n",
      "space group: 161, size of generated samples: 2\n",
      "space group: 11, size of generated samples: 199\n",
      "space group: 12, size of generated samples: 2401\n",
      "space group: 65, size of generated samples: 4340\n",
      "space group: 140, size of generated samples: 96\n",
      "space group: 225, size of generated samples: 4\n",
      "\n",
      "CPU times: user 26.8 s, sys: 98.2 ms, total: 26.9 s\n",
      "Wall time: 3.8 s\n"
     ]
    }
   ],
   "source": [
    "%%time\n",
    "\n",
    "from tqdm.notebook import tqdm\n",
    "\n",
    "space_group_cans = [194, 148, 167, 161, 11, 12, 65, 140, 225]\n",
    "\n",
    "with tqdm(total=len(space_group_cans)) as pbar:\n",
    "    for spacegroup_num, cfg_list in wyg.gen_many_iter(5000, *space_group_cans):\n",
    "        print(f'space group: {spacegroup_num}, size of generated samples: {len(cfg_list)}')\n",
    "        pbar.update()"
   ]
  },
  {
   "cell_type": "markdown",
   "metadata": {},
   "source": [
    "### 2. generate crystal structures\n",
    "\n",
    "Since we have generated many configurations, we will use `CrystalGenerator` to consume these configurations and return some reasonable crystal structures."
   ]
  },
  {
   "cell_type": "code",
   "execution_count": 11,
   "metadata": {},
   "outputs": [
    {
     "data": {
      "text/plain": [
       "\u001b[0;31mInit signature:\u001b[0m\n",
       "\u001b[0mCrystalGenerator\u001b[0m\u001b[0;34m(\u001b[0m\u001b[0;34m\u001b[0m\n",
       "\u001b[0;34m\u001b[0m    \u001b[0mspacegroup_num\u001b[0m\u001b[0;34m:\u001b[0m \u001b[0mint\u001b[0m\u001b[0;34m,\u001b[0m\u001b[0;34m\u001b[0m\n",
       "\u001b[0;34m\u001b[0m    \u001b[0mestimated_volume\u001b[0m\u001b[0;34m:\u001b[0m \u001b[0mfloat\u001b[0m\u001b[0;34m,\u001b[0m\u001b[0;34m\u001b[0m\n",
       "\u001b[0;34m\u001b[0m    \u001b[0mestimated_variance\u001b[0m\u001b[0;34m:\u001b[0m \u001b[0mfloat\u001b[0m\u001b[0;34m,\u001b[0m\u001b[0;34m\u001b[0m\n",
       "\u001b[0;34m\u001b[0m    \u001b[0;34m*\u001b[0m\u001b[0;34m,\u001b[0m\u001b[0;34m\u001b[0m\n",
       "\u001b[0;34m\u001b[0m    \u001b[0mmin_distance_tolerance\u001b[0m\u001b[0;34m:\u001b[0m \u001b[0mfloat\u001b[0m \u001b[0;34m=\u001b[0m \u001b[0;36m0.15\u001b[0m\u001b[0;34m,\u001b[0m\u001b[0;34m\u001b[0m\n",
       "\u001b[0;34m\u001b[0m    \u001b[0mangle_range\u001b[0m\u001b[0;34m:\u001b[0m \u001b[0mTuple\u001b[0m\u001b[0;34m[\u001b[0m\u001b[0mfloat\u001b[0m\u001b[0;34m,\u001b[0m \u001b[0mfloat\u001b[0m\u001b[0;34m]\u001b[0m \u001b[0;34m=\u001b[0m \u001b[0;34m(\u001b[0m\u001b[0;36m30.0\u001b[0m\u001b[0;34m,\u001b[0m \u001b[0;36m150.0\u001b[0m\u001b[0;34m)\u001b[0m\u001b[0;34m,\u001b[0m\u001b[0;34m\u001b[0m\n",
       "\u001b[0;34m\u001b[0m    \u001b[0mangle_tolerance\u001b[0m\u001b[0;34m:\u001b[0m \u001b[0mfloat\u001b[0m \u001b[0;34m=\u001b[0m \u001b[0;36m20.0\u001b[0m\u001b[0;34m,\u001b[0m\u001b[0;34m\u001b[0m\n",
       "\u001b[0;34m\u001b[0m    \u001b[0mmax_recurrent\u001b[0m\u001b[0;34m:\u001b[0m \u001b[0mint\u001b[0m \u001b[0;34m=\u001b[0m \u001b[0;36m5000\u001b[0m\u001b[0;34m,\u001b[0m\u001b[0;34m\u001b[0m\n",
       "\u001b[0;34m\u001b[0m    \u001b[0mn_jobs\u001b[0m\u001b[0;34m:\u001b[0m \u001b[0mint\u001b[0m \u001b[0;34m=\u001b[0m \u001b[0;34m-\u001b[0m\u001b[0;36m1\u001b[0m\u001b[0;34m,\u001b[0m\u001b[0;34m\u001b[0m\n",
       "\u001b[0;34m\u001b[0m    \u001b[0mverbose\u001b[0m\u001b[0;34m:\u001b[0m \u001b[0mbool\u001b[0m \u001b[0;34m=\u001b[0m \u001b[0;32mFalse\u001b[0m\u001b[0;34m,\u001b[0m\u001b[0;34m\u001b[0m\n",
       "\u001b[0;34m\u001b[0m\u001b[0;34m)\u001b[0m\u001b[0;34m\u001b[0m\u001b[0;34m\u001b[0m\u001b[0m\n",
       "\u001b[0;31mDocstring:\u001b[0m      <no docstring>\n",
       "\u001b[0;31mInit docstring:\u001b[0m\n",
       "A generator for possible crystal structure generation.\n",
       "\n",
       "Parameters\n",
       "----------\n",
       "spacegroup_num : int\n",
       "    Specify the spacegroup.\n",
       "estimated_volume : float\n",
       "    The estimated volume of primitive cell. Unit is Å^3.\n",
       "estimated_variance : float\n",
       "    The estimated variance of volume prediction. Unit is Å^3.\n",
       "    ``estimated_volume`` and ``estimated_variance`` will be used to build\n",
       "    a Gaussion distribution for the sampling of volume of primitive cell.\n",
       "    We will use the abstract valuse if sampled volume is negative.\n",
       "min_distance_tolerance : float, optional\n",
       "    The tolerance of atomic distances when distance checking. Unit is Å,\n",
       "    by default 0.15\n",
       "angle_range : Tuple[float, float], optional\n",
       "    The range of the degree of angles when lattice generation. by default (30., 150.)\n",
       "angle_tolerance : float, optional\n",
       "    The Tolerance of minimum of the degree of angles when lattice generation, by default 20.\n",
       "max_recurrent : int, optional\n",
       "    Max recurrent until generate a reasonable structure, by default 5_000\n",
       "n_jobs : int, optional\n",
       "    Number of cpu cores when parallel calculation, by default -1\n",
       "verbose: bool, optional\n",
       "    Set to ``True`` to show more information.\n",
       "\u001b[0;31mFile:\u001b[0m           /usr/local/miniconda3/envs/crystallus/lib/python3.7/site-packages/crystallus/crystal_generator.py\n",
       "\u001b[0;31mType:\u001b[0m           type\n",
       "\u001b[0;31mSubclasses:\u001b[0m     \n"
      ]
     },
     "metadata": {},
     "output_type": "display_data"
    }
   ],
   "source": [
    "from crystallus import CrystalGenerator\n",
    "\n",
    "CrystalGenerator?"
   ]
  },
  {
   "cell_type": "markdown",
   "metadata": {},
   "source": [
    "To initialize a `CrystalGenerator`, you have to give the `spacegroup_num`, and a `estimated_volume` of primitive cell with `estimated_variance`."
   ]
  },
  {
   "cell_type": "code",
   "execution_count": 12,
   "metadata": {},
   "outputs": [
    {
     "data": {
      "text/plain": [
       "CrystalGenerator(            \n",
       "    spacegroup_num=167,            \n",
       "    estimated_volume=127.170256,            \n",
       "    estimated_variance=20.0,            \n",
       "    min_distance_tolerance=0.15,            \n",
       "    angle_range=(30.0, 150.0),            \n",
       "    angle_tolerance=20.0,            \n",
       "    max_recurrent=5000,            \n",
       "    n_jobs=-1            \n",
       ")"
      ]
     },
     "execution_count": 12,
     "metadata": {},
     "output_type": "execute_result"
    }
   ],
   "source": [
    "estimated_volume = 127.170256\n",
    "estimated_variance = 20.\n",
    "sp_num = 167\n",
    "\n",
    "cg = CrystalGenerator(sp_num, estimated_volume, estimated_variance)\n",
    "cg"
   ]
  },
  {
   "cell_type": "markdown",
   "metadata": {},
   "source": [
    "There are also `gen_one`, `gen_many`, and `gen_may_iter` methods attached with `CrystalGenerator` object. We can ues `gen_one` for a simple try."
   ]
  },
  {
   "cell_type": "code",
   "execution_count": 13,
   "metadata": {},
   "outputs": [
    {
     "data": {
      "text/plain": [
       "\u001b[0;31mSignature:\u001b[0m \u001b[0mcg\u001b[0m\u001b[0;34m.\u001b[0m\u001b[0mgen_one\u001b[0m\u001b[0;34m(\u001b[0m\u001b[0;34m**\u001b[0m\u001b[0mcfg\u001b[0m\u001b[0;34m:\u001b[0m \u001b[0mDict\u001b[0m\u001b[0;34m[\u001b[0m\u001b[0mstr\u001b[0m\u001b[0;34m,\u001b[0m \u001b[0mTuple\u001b[0m\u001b[0;34m[\u001b[0m\u001b[0mstr\u001b[0m\u001b[0;34m]\u001b[0m\u001b[0;34m]\u001b[0m\u001b[0;34m)\u001b[0m\u001b[0;34m\u001b[0m\u001b[0;34m\u001b[0m\u001b[0m\n",
       "\u001b[0;31mDocstring:\u001b[0m\n",
       "Try to generate a legal crystal structure with given configuration set.\n",
       "\n",
       "Parameters\n",
       "----------\n",
       "**cfg: Dict[str, Tuple[str]]\n",
       "    Wyckoff Configuration set, which is a dict with format like:\n",
       "    {\"Li\": [\"a\", \"c\"], \"O\": [\"i\"]}. Here, the \"Li\" is an available element\n",
       "    symbol and [\"a\", \"c\"] is a list which contains coresponding Wyckoff\n",
       "    letters. For convenience, dict will be sorted by keys.\n",
       "\n",
       "Returns\n",
       "-------\n",
       "Dict\n",
       "    Structure information contains ``spacegroup_mun: int``,\n",
       "    ``volume: float``, ``lattice: list``, ``wyckoff_letters: list``,\n",
       "    and ``coords: list``.\n",
       "\u001b[0;31mFile:\u001b[0m      /usr/local/miniconda3/envs/crystallus/lib/python3.7/site-packages/crystallus/crystal_generator.py\n",
       "\u001b[0;31mType:\u001b[0m      method\n"
      ]
     },
     "metadata": {},
     "output_type": "display_data"
    }
   ],
   "source": [
    "cg.gen_one?"
   ]
  },
  {
   "cell_type": "code",
   "execution_count": 14,
   "metadata": {},
   "outputs": [
    {
     "name": "stdout",
     "output_type": "stream",
     "text": [
      "CPU times: user 85.2 ms, sys: 49 ms, total: 134 ms\n",
      "Wall time: 3.15 s\n"
     ]
    },
    {
     "data": {
      "text/plain": [
       "{'spacegroup_num': 167,\n",
       " 'volume': 165.06435913100785,\n",
       " 'lattice': [[5.314564106857303, 0.0, 3.22896013320912],\n",
       "  [1.8163998076637735, 4.994525341272679, 3.22896013320912],\n",
       "  [0.0, 0.0, 6.2185830530555615]],\n",
       " 'species': ['C', 'C', 'Ca', 'Ca', 'O', 'O', 'O', 'O', 'O', 'O'],\n",
       " 'wyckoff_letters': ['a', 'a', 'b', 'b', 'd', 'd', 'd', 'd', 'd', 'd'],\n",
       " 'coords': [[0.25, 0.25, 0.25],\n",
       "  [0.75, 0.75, 0.75],\n",
       "  [0.0, 0.0, 0.0],\n",
       "  [0.5, 0.5, 0.5],\n",
       "  [0.5, 0.0, 0.0],\n",
       "  [0.0, 0.5, 0.0],\n",
       "  [0.0, 0.0, 0.5],\n",
       "  [0.5, 0.0, 0.5],\n",
       "  [0.0, 0.5, 0.5],\n",
       "  [0.5, 0.5, 0.0]]}"
      ]
     },
     "execution_count": 14,
     "metadata": {},
     "output_type": "execute_result"
    }
   ],
   "source": [
    "%%time\n",
    "\n",
    "cfgs[sp_num][0]\n",
    "\n",
    "raw_s = cg.gen_one(**cfgs[sp_num][0])\n",
    "raw_s"
   ]
  },
  {
   "cell_type": "markdown",
   "metadata": {},
   "source": [
    "The result contains `species`, `lattice`, and `coords`. These information can be consumed by `pymatgen.Structure` class."
   ]
  },
  {
   "cell_type": "code",
   "execution_count": 15,
   "metadata": {},
   "outputs": [
    {
     "data": {
      "text/plain": [
       "Structure Summary\n",
       "Lattice\n",
       "    abc : 6.2185830530555615 6.2185830530555615 6.2185830530555615\n",
       " angles : 58.71846530171658 58.71846530171658 58.718465301716584\n",
       " volume : 165.06435913100782\n",
       "      A : 5.314564106857303 0.0 3.22896013320912\n",
       "      B : 1.8163998076637735 4.994525341272679 3.22896013320912\n",
       "      C : 0.0 0.0 6.2185830530555615\n",
       "PeriodicSite: C (1.7827, 1.2486, 3.1691) [0.2500, 0.2500, 0.2500]\n",
       "PeriodicSite: C (5.3482, 3.7459, 9.5074) [0.7500, 0.7500, 0.7500]\n",
       "PeriodicSite: Ca (0.0000, 0.0000, 0.0000) [0.0000, 0.0000, 0.0000]\n",
       "PeriodicSite: Ca (3.5655, 2.4973, 6.3383) [0.5000, 0.5000, 0.5000]\n",
       "PeriodicSite: O (2.6573, 0.0000, 1.6145) [0.5000, 0.0000, 0.0000]\n",
       "PeriodicSite: O (0.9082, 2.4973, 1.6145) [0.0000, 0.5000, 0.0000]\n",
       "PeriodicSite: O (0.0000, 0.0000, 3.1093) [0.0000, 0.0000, 0.5000]\n",
       "PeriodicSite: O (2.6573, 0.0000, 4.7238) [0.5000, 0.0000, 0.5000]\n",
       "PeriodicSite: O (0.9082, 2.4973, 4.7238) [0.0000, 0.5000, 0.5000]\n",
       "PeriodicSite: O (3.5655, 2.4973, 3.2290) [0.5000, 0.5000, 0.0000]"
      ]
     },
     "execution_count": 15,
     "metadata": {},
     "output_type": "execute_result"
    }
   ],
   "source": [
    "from pymatgen import Structure\n",
    "\n",
    "s = Structure(lattice=raw_s['lattice'], species=raw_s['species'], coords=raw_s['coords'])\n",
    "s"
   ]
  },
  {
   "cell_type": "markdown",
   "metadata": {},
   "source": [
    "You can feed `gen_many` a list of configurations."
   ]
  },
  {
   "cell_type": "code",
   "execution_count": 16,
   "metadata": {},
   "outputs": [
    {
     "name": "stdout",
     "output_type": "stream",
     "text": [
      "type of raw_ss: <class 'tuple'>, size: 400\n",
      "CPU times: user 800 ms, sys: 8.26 ms, total: 808 ms\n",
      "Wall time: 115 ms\n"
     ]
    }
   ],
   "source": [
    "%%time\n",
    "\n",
    "raw_ss = cg.gen_many(100, *cfgs[sp_num])\n",
    "\n",
    "print(f\"type of raw_ss: {raw_ss.__class__}, size: {len(raw_ss)}\")"
   ]
  },
  {
   "cell_type": "markdown",
   "metadata": {},
   "source": [
    "Also, the iterative version"
   ]
  },
  {
   "cell_type": "code",
   "execution_count": 17,
   "metadata": {},
   "outputs": [
    {
     "data": {
      "application/vnd.jupyter.widget-view+json": {
       "model_id": "3d6ebdbe486847a2ab2e8013146458c5",
       "version_major": 2,
       "version_minor": 0
      },
      "text/plain": [
       "HBox(children=(FloatProgress(value=0.0, max=4.0), HTML(value='')))"
      ]
     },
     "metadata": {},
     "output_type": "display_data"
    },
    {
     "name": "stdout",
     "output_type": "stream",
     "text": [
      "configuration: {'C': ['a'], 'Ca': ['b'], 'O': ['d']}, size of structures: 500\n",
      "configuration: {'C': ['b'], 'Ca': ['a'], 'O': ['d']}, size of structures: 500\n",
      "configuration: {'C': ['a'], 'Ca': ['b'], 'O': ['e']}, size of structures: 500\n",
      "configuration: {'C': ['b'], 'Ca': ['a'], 'O': ['e']}, size of structures: 500\n",
      "\n",
      "CPU times: user 3.5 s, sys: 29.6 ms, total: 3.53 s\n",
      "Wall time: 537 ms\n"
     ]
    }
   ],
   "source": [
    "%%time\n",
    "\n",
    "with tqdm(total=len(cfgs[sp_num])) as pbar:\n",
    "    for cfg, structures in cg.gen_many_iter(500, *cfgs[sp_num]):\n",
    "        print(f'configuration: {cfg}, size of structures: {len(structures)}')\n",
    "        pbar.update()"
   ]
  },
  {
   "cell_type": "code",
   "execution_count": null,
   "metadata": {},
   "outputs": [],
   "source": []
  }
 ],
 "metadata": {
  "kernelspec": {
   "display_name": "Python 3",
   "language": "python",
   "name": "python3"
  },
  "language_info": {
   "codemirror_mode": {
    "name": "ipython",
    "version": 3
   },
   "file_extension": ".py",
   "mimetype": "text/x-python",
   "name": "python",
   "nbconvert_exporter": "python",
   "pygments_lexer": "ipython3",
   "version": "3.7.7"
  }
 },
 "nbformat": 4,
 "nbformat_minor": 4
}
