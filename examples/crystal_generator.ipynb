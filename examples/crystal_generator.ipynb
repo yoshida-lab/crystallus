{
 "cells": [
  {
   "cell_type": "code",
   "execution_count": 1,
   "metadata": {},
   "outputs": [],
   "source": [
    "# user-friendly print\n",
    "from IPython.core.interactiveshell import InteractiveShell\n",
    "InteractiveShell.ast_node_interactivity = \"all\""
   ]
  },
  {
   "cell_type": "markdown",
   "metadata": {},
   "source": [
    "## Crystal structure generation\n",
    "\n",
    "To generate reasonable crystal structure under a given space group with a specific chemical composition, basicly the following four steps are needed.\n",
    "\n",
    "1. calculate possible Wyckoff configurations under a given space group for each chemical composition.\n",
    "2. generate fraction positions for each element with given a Wyckoff configuration which is calculated from step 1), randomly.\n",
    "3. generate lattice for the given space group which is used in step 1), randomly.\n",
    "4. combine the results from step 2) and 3) to obtain a crystal structure.\n",
    "\n",
    "Usually, we also have to check the `volume` and `atomic distances` of generated structure, only keep the structures which have reasonable `volume` and `atomic distances`.\n",
    "\n",
    "To facilitate all these jobs, our `crystallus` library provides three modules:\n",
    "\n",
    "* `WyckoffCfgGenerator`: generate possible Wyckoff configurations for the given space group and composition of primitive cell.\n",
    "* `CrystalGenerator`: generate crystal structures for the given space group and Wyckoff configurations.\n",
    "* `WyckoffDB, SpaceGroupDB`: database include space group and corresponding Wyckoff information.\n",
    "\n",
    "The folloing content shows how to use `crystallus`."
   ]
  },
  {
   "cell_type": "markdown",
   "metadata": {},
   "source": [
    "### 1. generate Wyckoff configurations\n",
    "\n",
    "As an example, we will try to generate structures for `Ca2C2O6`. The true space group of this structure is `167`, and the Wyckoff configuration is `{Ca: 2b, C: 2a, O: 6e}`.\n",
    "You can use `SpaceGroupDB` to get the information of Wyckoff position about space group `167`."
   ]
  },
  {
   "cell_type": "code",
   "execution_count": 2,
   "metadata": {},
   "outputs": [
    {
     "output_type": "execute_result",
     "data": {
      "text/plain": [
       "[{'Wyckoff letter': 'f',\n",
       "  'multiplicity': 12,\n",
       "  'reusable': True,\n",
       "  'Wyckoff position': '(x,y,z), (z,x,y), (y,z,x), (-y+1/2,-x+1/2,-z+1/2), (-x+1/2,-z+1/2,-y+1/2), (-z+1/2,-y+1/2,-x+1/2), (-x,-y,-z), (-z,-x,-y), (-y,-z,-x), (y+1/2,x+1/2,z+1/2), (x+1/2,z+1/2,y+1/2), (z+1/2,y+1/2,x+1/2)'},\n",
       " {'Wyckoff letter': 'e',\n",
       "  'multiplicity': 6,\n",
       "  'reusable': True,\n",
       "  'Wyckoff position': '(x,-x+1/2,1/4), (1/4,x,-x+1/2), (-x+1/2,1/4,x), (-x,x+1/2,3/4), (3/4,-x,x+1/2), (x+1/2,3/4,-x)'},\n",
       " {'Wyckoff letter': 'd',\n",
       "  'multiplicity': 6,\n",
       "  'reusable': False,\n",
       "  'Wyckoff position': '(1/2,0,0), (0,1/2,0), (0,0,1/2), (1/2,0,1/2), (0,1/2,1/2), (1/2,1/2,0)'},\n",
       " {'Wyckoff letter': 'c',\n",
       "  'multiplicity': 4,\n",
       "  'reusable': True,\n",
       "  'Wyckoff position': '(x,x,x), (-x+1/2,-x+1/2,-x+1/2), (-x,-x,-x), (x+1/2,x+1/2,x+1/2)'},\n",
       " {'Wyckoff letter': 'b',\n",
       "  'multiplicity': 2,\n",
       "  'reusable': False,\n",
       "  'Wyckoff position': '(0,0,0), (1/2,1/2,1/2)'},\n",
       " {'Wyckoff letter': 'a',\n",
       "  'multiplicity': 2,\n",
       "  'reusable': False,\n",
       "  'Wyckoff position': '(1/4,1/4,1/4), (3/4,3/4,3/4)'}]"
      ]
     },
     "metadata": {},
     "execution_count": 2
    }
   ],
   "source": [
    "from crystallus import SpaceGroupDB\n",
    "\n",
    "wys = SpaceGroupDB.get(spacegroup_num=167).wyckoffs\n",
    "[{'Wyckoff letter': w.letter, 'multiplicity': w.multiplicity, 'reusable': w.reuse, 'Wyckoff position': w.positions} for w in wys ]"
   ]
  },
  {
   "cell_type": "markdown",
   "metadata": {},
   "source": [
    "Let's generate some possible Wyckoff configurations for the composition `Ca2C2O6` under space group `167`."
   ]
  },
  {
   "cell_type": "code",
   "execution_count": 3,
   "metadata": {},
   "outputs": [
    {
     "output_type": "stream",
     "text": [
      "\u001b[0;31mInit signature:\u001b[0m\n",
      "\u001b[0mWyckoffCfgGenerator\u001b[0m\u001b[0;34m(\u001b[0m\u001b[0;34m\u001b[0m\n",
      "\u001b[0;34m\u001b[0m    \u001b[0;34m*\u001b[0m\u001b[0;34m,\u001b[0m\u001b[0;34m\u001b[0m\n",
      "\u001b[0;34m\u001b[0m    \u001b[0mmax_recurrent\u001b[0m\u001b[0;34m:\u001b[0m \u001b[0mint\u001b[0m \u001b[0;34m=\u001b[0m \u001b[0;36m1000\u001b[0m\u001b[0;34m,\u001b[0m\u001b[0;34m\u001b[0m\n",
      "\u001b[0;34m\u001b[0m    \u001b[0mn_jobs\u001b[0m\u001b[0;34m:\u001b[0m \u001b[0mint\u001b[0m \u001b[0;34m=\u001b[0m \u001b[0;34m-\u001b[0m\u001b[0;36m1\u001b[0m\u001b[0;34m,\u001b[0m\u001b[0;34m\u001b[0m\n",
      "\u001b[0;34m\u001b[0m    \u001b[0mpriority\u001b[0m\u001b[0;34m:\u001b[0m \u001b[0mDict\u001b[0m\u001b[0;34m[\u001b[0m\u001b[0mstr\u001b[0m\u001b[0;34m,\u001b[0m \u001b[0mfloat\u001b[0m\u001b[0;34m]\u001b[0m \u001b[0;34m=\u001b[0m \u001b[0;32mNone\u001b[0m\u001b[0;34m,\u001b[0m\u001b[0;34m\u001b[0m\n",
      "\u001b[0;34m\u001b[0m    \u001b[0;34m**\u001b[0m\u001b[0mcomposition\u001b[0m\u001b[0;34m,\u001b[0m\u001b[0;34m\u001b[0m\n",
      "\u001b[0;34m\u001b[0m\u001b[0;34m)\u001b[0m\u001b[0;34m\u001b[0m\u001b[0;34m\u001b[0m\u001b[0m\n",
      "\u001b[0;31mDocstring:\u001b[0m      <no docstring>\n",
      "\u001b[0;31mInit docstring:\u001b[0m\n",
      "A generator for possible Wyckoff configuration generation.\n",
      "\n",
      "Parameters\n",
      "----------\n",
      "max_recurrent : int, optional\n",
      "    Max recurrent until generate a reasonable structure, by default 5_000\n",
      "n_jobs : int, optional\n",
      "    Number of cpu cores when parallel calculation, by default -1\n",
      "priority:\n",
      "    Priority for Wyckoff position (WP). Select a WP is equal to sampling\n",
      "    from an Uniform distribution. By default, all possible WPs have a\n",
      "    priority `1`. Using this parameter to overwrite the default values.\n",
      "    For example, by default, space group 167 has WP `[a, b, c, d, e, f]`\n",
      "    with priority `1` for each. When we give `priority` a values like\n",
      "    `{a: 2, b: 2, e: 0}`, then the new priority will be\n",
      "    `{a: 2, b: 2, c: 1, d: 1, e: 0, f: 1}`. We generating, the selection\n",
      "    probability of each WP will be `{a: 2/7, b: 2/7, c: 1/7, d: 1,/7 e: 0, f: 1/7}`.\n",
      "composition: Dict\n",
      "    Composition of compounds in the primitive cell; should be formated\n",
      "    as {<element symbol>: <ratio in float>}.\n",
      "\u001b[0;31mFile:\u001b[0m           /usr/local/miniconda3/envs/crystallus/lib/python3.7/site-packages/crystallus/wyckoff_cfg_generator.py\n",
      "\u001b[0;31mType:\u001b[0m           type\n",
      "\u001b[0;31mSubclasses:\u001b[0m     \n"
     ],
     "name": "stdout"
    }
   ],
   "source": [
    "from crystallus import WyckoffCfgGenerator\n",
    "\n",
    "WyckoffCfgGenerator?"
   ]
  },
  {
   "cell_type": "code",
   "execution_count": 4,
   "metadata": {},
   "outputs": [
    {
     "output_type": "execute_result",
     "data": {
      "text/plain": [
       "WyckoffCfgGenerator(            \n",
       "    max_recurrent=1000,            \n",
       "    n_jobs=-1            \n",
       "    priority=None            \n",
       "    composition={'Ca': 2, 'C': 2, 'O': 6}            \n",
       ")"
      ]
     },
     "metadata": {},
     "execution_count": 4
    }
   ],
   "source": [
    "composition = {'Ca': 2, 'C': 2, 'O': 6}\n",
    "\n",
    "wyg = WyckoffCfgGenerator(**composition)\n",
    "wyg"
   ]
  },
  {
   "cell_type": "markdown",
   "metadata": {},
   "source": [
    "You have noticed that the minimum input for the initialization of a `WyckoffCfgGenerator` is just a composition.\n",
    "Now, we can try to use this generator to generate Wyckoff configuration(s). First, let's try to generate one. This can be done by the `gen_one` method."
   ]
  },
  {
   "cell_type": "code",
   "execution_count": 5,
   "metadata": {},
   "outputs": [
    {
     "output_type": "stream",
     "text": [
      "\u001b[0;31mSignature:\u001b[0m \u001b[0mwyg\u001b[0m\u001b[0;34m.\u001b[0m\u001b[0mgen_one\u001b[0m\u001b[0;34m(\u001b[0m\u001b[0mspacegroup_num\u001b[0m\u001b[0;34m:\u001b[0m \u001b[0mint\u001b[0m\u001b[0;34m)\u001b[0m\u001b[0;34m\u001b[0m\u001b[0;34m\u001b[0m\u001b[0m\n",
      "\u001b[0;31mDocstring:\u001b[0m\n",
      "Try to generate a possible Wyckoff configuration under the given space group.\n",
      "\n",
      "Parameters\n",
      "----------\n",
      "spacegroup_num : int\n",
      "    Space group number.\n",
      "\n",
      "Returns\n",
      "-------\n",
      "Dict\n",
      "    Wyckoff configuration set, which is a dict with format like:\n",
      "    {\"Li\": [\"a\", \"c\"], \"O\": [\"i\"]}. Here, the \"Li\" is an available element\n",
      "    symbol and [\"a\", \"c\"] is a list which contains coresponding Wyckoff\n",
      "    letters. For convenience, dict will be sorted by keys.\n",
      "\u001b[0;31mFile:\u001b[0m      /usr/local/miniconda3/envs/crystallus/lib/python3.7/site-packages/crystallus/wyckoff_cfg_generator.py\n",
      "\u001b[0;31mType:\u001b[0m      method\n"
     ],
     "name": "stdout"
    }
   ],
   "source": [
    "wyg.gen_one?"
   ]
  },
  {
   "cell_type": "code",
   "execution_count": 6,
   "metadata": {},
   "outputs": [
    {
     "output_type": "execute_result",
     "data": {
      "text/plain": [
       "{'C': ['a'], 'Ca': ['b'], 'O': ['e']}"
      ]
     },
     "metadata": {},
     "execution_count": 6
    }
   ],
   "source": [
    "cfg = wyg.gen_one(spacegroup_num=167)\n",
    "cfg"
   ]
  },
  {
   "cell_type": "markdown",
   "metadata": {},
   "source": [
    "If everything goes well, the above cell will return a dict contains something like: `{'C': ['b'], 'Ca': ['a'], 'O': ['d']}`.\n",
    "Here, `C`, `Ca`, and `O` are the element names. All elements are sorted by the alphabet. The `['b']`, `['a']`, and `['d']` are the corresponding Wyckoff positions which are provided by Wyckoff letters.\n",
    "\n",
    "Maybe you are confused that the return of this method is not unique. That makes sense because under space group `167`, there are four possible configurations for the composition `Ca2C2O6`. Call the `gen_one` method will execute a random search in all possible configurations. When it finds one, it returns the result and stops searching. This means if you want to get more configurations, you should call the `gen_one` method many times. We know that for almost all the cases, the possible configurations are not one, to simplify your works, we provide the `gen_many` method."
   ]
  },
  {
   "cell_type": "code",
   "execution_count": 7,
   "metadata": {},
   "outputs": [
    {
     "output_type": "stream",
     "text": [
      "\u001b[0;31mSignature:\u001b[0m \u001b[0mwyg\u001b[0m\u001b[0;34m.\u001b[0m\u001b[0mgen_many\u001b[0m\u001b[0;34m(\u001b[0m\u001b[0msize\u001b[0m\u001b[0;34m:\u001b[0m \u001b[0mint\u001b[0m\u001b[0;34m,\u001b[0m \u001b[0;34m*\u001b[0m\u001b[0mspacegroup_num\u001b[0m\u001b[0;34m:\u001b[0m \u001b[0mint\u001b[0m\u001b[0;34m)\u001b[0m\u001b[0;34m\u001b[0m\u001b[0;34m\u001b[0m\u001b[0m\n",
      "\u001b[0;31mDocstring:\u001b[0m\n",
      "Try to generate possible Wyckoff configuration sets.\n",
      "\n",
      "Parameters\n",
      "----------\n",
      "size : int\n",
      "    How many times to try for one space group.\n",
      "spacegroup_num: int\n",
      "    The spacegroup numbers.\n",
      "\n",
      "Returns\n",
      "-------\n",
      "Dict[int, List[Dict]], List[Dict]\n",
      "    A collection contains spacegroup number and it's corresponding Wyckoff\n",
      "    configurations (wy_cfg). If only one spacegroup number was given,\n",
      "    will only return the list of wy_cfgs, otherwise return in dict with\n",
      "    spacegroup number as key. wy_cfgs will be formated as\n",
      "    {element 1: [Wyckoff_letter, Wyckoff_letter, ...], element 2: [...], ...}.\n",
      "\u001b[0;31mFile:\u001b[0m      /usr/local/miniconda3/envs/crystallus/lib/python3.7/site-packages/crystallus/wyckoff_cfg_generator.py\n",
      "\u001b[0;31mType:\u001b[0m      method\n"
     ],
     "name": "stdout"
    }
   ],
   "source": [
    "wyg.gen_many?"
   ]
  },
  {
   "cell_type": "code",
   "execution_count": 8,
   "metadata": {},
   "outputs": [
    {
     "output_type": "execute_result",
     "data": {
      "text/plain": [
       "[{'C': ['b'], 'Ca': ['a'], 'O': ['e']},\n",
       " {'C': ['a'], 'Ca': ['b'], 'O': ['e']},\n",
       " {'C': ['a'], 'Ca': ['b'], 'O': ['d']},\n",
       " {'C': ['b'], 'Ca': ['a'], 'O': ['d']}]"
      ]
     },
     "metadata": {},
     "execution_count": 8
    }
   ],
   "source": [
    "cfgs = wyg.gen_many(100, 167)\n",
    "cfgs"
   ]
  },
  {
   "cell_type": "markdown",
   "metadata": {},
   "source": [
    "You can calculate more multiply space group in one call. Just list space group numbers as `*` parameters. In this case, the return will be a dict with space group number as key and configuration list as value. For example, if our space group candidate are `[194, 148, 167]`, you can call `gen_many` like this:"
   ]
  },
  {
   "cell_type": "code",
   "execution_count": 9,
   "metadata": {
    "tags": []
   },
   "outputs": [
    {
     "output_type": "stream",
     "name": "stdout",
     "text": [
      "CPU times: user 5.69 ms, sys: 2.11 ms, total: 7.8 ms\nWall time: 3.19 ms\n"
     ]
    },
    {
     "output_type": "execute_result",
     "data": {
      "text/plain": [
       "{194: [{'C': ['d'], 'Ca': ['a'], 'O': ['b', 'f']},\n",
       "  {'C': ['b'], 'Ca': ['d'], 'O': ['g']},\n",
       "  {'C': ['c'], 'Ca': ['d'], 'O': ['a', 'f']},\n",
       "  {'C': ['c'], 'Ca': ['a'], 'O': ['g']},\n",
       "  {'C': ['b'], 'Ca': ['c'], 'O': ['a', 'f']},\n",
       "  {'C': ['d'], 'Ca': ['b'], 'O': ['c', 'e']},\n",
       "  {'C': ['a'], 'Ca': ['d'], 'O': ['c', 'f']},\n",
       "  {'C': ['d'], 'Ca': ['a'], 'O': ['g']},\n",
       "  {'C': ['a'], 'Ca': ['c'], 'O': ['h']},\n",
       "  {'C': ['c'], 'Ca': ['b'], 'O': ['a', 'e']},\n",
       "  {'C': ['c'], 'Ca': ['d'], 'O': ['b', 'f']},\n",
       "  {'C': ['a'], 'Ca': ['c'], 'O': ['b', 'f']},\n",
       "  {'C': ['a'], 'Ca': ['d'], 'O': ['g']},\n",
       "  {'C': ['d'], 'Ca': ['c'], 'O': ['g']},\n",
       "  {'C': ['c'], 'Ca': ['a'], 'O': ['d', 'f']},\n",
       "  {'C': ['d'], 'Ca': ['b'], 'O': ['g']},\n",
       "  {'C': ['a'], 'Ca': ['d'], 'O': ['h']},\n",
       "  {'C': ['a'], 'Ca': ['d'], 'O': ['c', 'e']}],\n",
       " 148: [{'C': ['c'], 'Ca': ['c'], 'O': ['f']},\n",
       "  {'C': ['a', 'b'], 'Ca': ['c'], 'O': ['d', 'e']},\n",
       "  {'C': ['c'], 'Ca': ['c'], 'O': ['b', 'c', 'd']},\n",
       "  {'C': ['c'], 'Ca': ['c'], 'O': ['b', 'c', 'e']},\n",
       "  {'C': ['a', 'b'], 'Ca': ['c'], 'O': ['f']},\n",
       "  {'C': ['c'], 'Ca': ['a', 'b'], 'O': ['d', 'e']}],\n",
       " 167: [{'C': ['a'], 'Ca': ['b'], 'O': ['e']},\n",
       "  {'C': ['b'], 'Ca': ['a'], 'O': ['e']},\n",
       "  {'C': ['b'], 'Ca': ['a'], 'O': ['d']},\n",
       "  {'C': ['a'], 'Ca': ['b'], 'O': ['d']}]}"
      ]
     },
     "metadata": {},
     "execution_count": 9
    }
   ],
   "source": [
    "%%time\n",
    "\n",
    "cfgs = wyg.gen_many(20, 194, 148, 167)\n",
    "cfgs"
   ]
  },
  {
   "cell_type": "markdown",
   "metadata": {},
   "source": [
    "`gen_many_iter` is an iterative version of `gen_many`. You can use this method to render a progress bar during generation, or something else you want."
   ]
  },
  {
   "cell_type": "code",
   "execution_count": 10,
   "metadata": {
    "tags": []
   },
   "outputs": [
    {
     "output_type": "display_data",
     "data": {
      "text/plain": "HBox(children=(HTML(value=''), FloatProgress(value=0.0, max=9.0), HTML(value='')))",
      "application/vnd.jupyter.widget-view+json": {
       "version_major": 2,
       "version_minor": 0,
       "model_id": "0d18187f8aa54c8cb9afd50ab6aa230e"
      }
     },
     "metadata": {}
    },
    {
     "output_type": "stream",
     "name": "stdout",
     "text": [
      "space group: 194, size of generated samples: 72\n",
      "space group: 148, size of generated samples: 14\n",
      "space group: 167, size of generated samples: 4\n",
      "space group: 161, size of generated samples: 2\n",
      "space group: 11, size of generated samples: 199\n",
      "space group: 12, size of generated samples: 2368\n",
      "space group: 65, size of generated samples: 4365\n",
      "space group: 140, size of generated samples: 96\n",
      "space group: 225, size of generated samples: 4\n",
      "\n",
      "CPU times: user 33.4 s, sys: 304 ms, total: 33.7 s\n",
      "Wall time: 5.79 s\n"
     ]
    }
   ],
   "source": [
    "%%time\n",
    "\n",
    "from tqdm.notebook import tqdm\n",
    "\n",
    "space_group_cans = [194, 148, 167, 161, 11, 12, 65, 140, 225]\n",
    "\n",
    "with tqdm(total=len(space_group_cans)) as pbar:\n",
    "    for spacegroup_num, cfg_list in wyg.gen_many_iter(5000, *space_group_cans):\n",
    "        print(f'space group: {spacegroup_num}, size of generated samples: {len(cfg_list)}')\n",
    "        pbar.update()"
   ]
  },
  {
   "cell_type": "markdown",
   "metadata": {},
   "source": [
    "### 2. generate crystal structures\n",
    "\n",
    "We have generated some Wyckoff configurations, the next is consuming the Wyckoff configurations to generate crystal structures. To facilitate the task, we provide the `CrystalGenerator` class."
   ]
  },
  {
   "cell_type": "code",
   "execution_count": 11,
   "metadata": {},
   "outputs": [
    {
     "output_type": "stream",
     "text": [
      "\u001b[0;31mInit signature:\u001b[0m\n",
      "\u001b[0mCrystalGenerator\u001b[0m\u001b[0;34m(\u001b[0m\u001b[0;34m\u001b[0m\n",
      "\u001b[0;34m\u001b[0m    \u001b[0mspacegroup_num\u001b[0m\u001b[0;34m:\u001b[0m \u001b[0mint\u001b[0m\u001b[0;34m,\u001b[0m\u001b[0;34m\u001b[0m\n",
      "\u001b[0;34m\u001b[0m    \u001b[0mestimated_volume\u001b[0m\u001b[0;34m:\u001b[0m \u001b[0mfloat\u001b[0m\u001b[0;34m,\u001b[0m\u001b[0;34m\u001b[0m\n",
      "\u001b[0;34m\u001b[0m    \u001b[0mestimated_variance\u001b[0m\u001b[0;34m:\u001b[0m \u001b[0mfloat\u001b[0m\u001b[0;34m,\u001b[0m\u001b[0;34m\u001b[0m\n",
      "\u001b[0;34m\u001b[0m    \u001b[0;34m*\u001b[0m\u001b[0;34m,\u001b[0m\u001b[0;34m\u001b[0m\n",
      "\u001b[0;34m\u001b[0m    \u001b[0mangle_range\u001b[0m\u001b[0;34m:\u001b[0m \u001b[0mTuple\u001b[0m\u001b[0;34m[\u001b[0m\u001b[0mfloat\u001b[0m\u001b[0;34m,\u001b[0m \u001b[0mfloat\u001b[0m\u001b[0;34m]\u001b[0m \u001b[0;34m=\u001b[0m \u001b[0;34m(\u001b[0m\u001b[0;36m30.0\u001b[0m\u001b[0;34m,\u001b[0m \u001b[0;36m150.0\u001b[0m\u001b[0;34m)\u001b[0m\u001b[0;34m,\u001b[0m\u001b[0;34m\u001b[0m\n",
      "\u001b[0;34m\u001b[0m    \u001b[0mangle_tolerance\u001b[0m\u001b[0;34m:\u001b[0m \u001b[0mfloat\u001b[0m \u001b[0;34m=\u001b[0m \u001b[0;36m20.0\u001b[0m\u001b[0;34m,\u001b[0m\u001b[0;34m\u001b[0m\n",
      "\u001b[0;34m\u001b[0m    \u001b[0mempirical_coords\u001b[0m\u001b[0;34m:\u001b[0m \u001b[0mDict\u001b[0m\u001b[0;34m[\u001b[0m\u001b[0mstr\u001b[0m\u001b[0;34m,\u001b[0m \u001b[0mSequence\u001b[0m\u001b[0;34m[\u001b[0m\u001b[0mTuple\u001b[0m\u001b[0;34m[\u001b[0m\u001b[0mfloat\u001b[0m\u001b[0;34m,\u001b[0m \u001b[0mfloat\u001b[0m\u001b[0;34m,\u001b[0m \u001b[0mfloat\u001b[0m\u001b[0;34m]\u001b[0m\u001b[0;34m]\u001b[0m\u001b[0;34m]\u001b[0m \u001b[0;34m=\u001b[0m \u001b[0;32mNone\u001b[0m\u001b[0;34m,\u001b[0m\u001b[0;34m\u001b[0m\n",
      "\u001b[0;34m\u001b[0m    \u001b[0mempirical_coords_variance\u001b[0m\u001b[0;34m:\u001b[0m \u001b[0mfloat\u001b[0m \u001b[0;34m=\u001b[0m \u001b[0;36m0.01\u001b[0m\u001b[0;34m,\u001b[0m\u001b[0;34m\u001b[0m\n",
      "\u001b[0;34m\u001b[0m    \u001b[0mmax_attempts_number\u001b[0m\u001b[0;34m:\u001b[0m \u001b[0mint\u001b[0m \u001b[0;34m=\u001b[0m \u001b[0;36m5000\u001b[0m\u001b[0;34m,\u001b[0m\u001b[0;34m\u001b[0m\n",
      "\u001b[0;34m\u001b[0m    \u001b[0mn_jobs\u001b[0m\u001b[0;34m:\u001b[0m \u001b[0mint\u001b[0m \u001b[0;34m=\u001b[0m \u001b[0;34m-\u001b[0m\u001b[0;36m1\u001b[0m\u001b[0;34m,\u001b[0m\u001b[0;34m\u001b[0m\n",
      "\u001b[0;34m\u001b[0m    \u001b[0mverbose\u001b[0m\u001b[0;34m:\u001b[0m \u001b[0mbool\u001b[0m \u001b[0;34m=\u001b[0m \u001b[0;32mFalse\u001b[0m\u001b[0;34m,\u001b[0m\u001b[0;34m\u001b[0m\n",
      "\u001b[0;34m\u001b[0m\u001b[0;34m)\u001b[0m\u001b[0;34m\u001b[0m\u001b[0;34m\u001b[0m\u001b[0m\n",
      "\u001b[0;31mDocstring:\u001b[0m      <no docstring>\n",
      "\u001b[0;31mInit docstring:\u001b[0m\n",
      "A generator for possible crystal structure generation.\n",
      "\n",
      "Parameters\n",
      "----------\n",
      "spacegroup_num : int\n",
      "    Specify the spacegroup.\n",
      "estimated_volume : float\n",
      "    The estimated volume of primitive cell. Unit is Å^3.\n",
      "estimated_variance : float\n",
      "    The estimated variance of volume prediction. Unit is Å^3.\n",
      "    ``estimated_volume`` and ``estimated_variance`` will be used to build\n",
      "    a Gaussion distribution for the sampling of volume of primitive cell.\n",
      "    We will use the abstract valuse if sampled volume is negative.\n",
      "angle_range : Tuple[float, float], optional\n",
      "    The range of the degree of angles when lattice generation. by default (30., 150.)\n",
      "angle_tolerance : float, optional\n",
      "    The Tolerance of minimum of the degree of angles when lattice generation, by default 20.\n",
      "empirical_coords:\n",
      "    Empirical distributuion of atomic coordinations. The coordinations should be give as Wyckoff position\n",
      "    format. For example: for Wyckoff postion `c` in space group 167, the corresponding coordinations are\n",
      "    `(0,0,z) (0,0,-z+1/2) (0,0,-z) (0,0,z+1/2)`. So for some fraction coordination such as\n",
      "    `(0,0,0.3) (0,0,0.2) (0,0,0.7) (0,0,0.8)`, should give the empirical_coords as `(0, 0, 0.3)`.\n",
      "empirical_coords_variance:\n",
      "    The variance of empirical_coords. This parameter will be used to build a Gaussian distribution.\n",
      "    The generator will sample values from the distribution as the perturbation of empirical coordinations.\n",
      "max_attempts_number : int, optional\n",
      "    Max recurrent until generate a reasonable lattice, by default is 5_000\n",
      "n_jobs : int, optional\n",
      "    Number of cpu cores when parallel calculation, by default -1\n",
      "verbose: bool, optional\n",
      "    Set to ``True`` to show more information.\n",
      "\u001b[0;31mFile:\u001b[0m           /usr/local/miniconda3/envs/crystallus/lib/python3.7/site-packages/crystallus/crystal_generator.py\n",
      "\u001b[0;31mType:\u001b[0m           type\n",
      "\u001b[0;31mSubclasses:\u001b[0m     \n"
     ],
     "name": "stdout"
    }
   ],
   "source": [
    "from crystallus import CrystalGenerator\n",
    "\n",
    "CrystalGenerator?"
   ]
  },
  {
   "cell_type": "markdown",
   "metadata": {},
   "source": [
    "To initialize a `CrystalGenerator`, parameter `spacegroup_num`, `estimated_volume` of primitive cell and the `estimated_variance` are needed at least."
   ]
  },
  {
   "cell_type": "code",
   "execution_count": 12,
   "metadata": {},
   "outputs": [
    {
     "output_type": "execute_result",
     "data": {
      "text/plain": [
       "CrystalGenerator(            \n",
       "    spacegroup_num=167,            \n",
       "    estimated_volume=127.170256,            \n",
       "    estimated_variance=20.0,            \n",
       "    angle_range=(30.0, 150.0),            \n",
       "    angle_tolerance=20.0,            \n",
       "    max_attempts_number=5000,            \n",
       "    n_jobs=-1            \n",
       ")"
      ]
     },
     "metadata": {},
     "execution_count": 12
    }
   ],
   "source": [
    "estimated_volume = 127.170256\n",
    "estimated_variance = 20.\n",
    "sp_num = 167\n",
    "\n",
    "cg = CrystalGenerator(sp_num, estimated_volume, estimated_variance)\n",
    "cg"
   ]
  },
  {
   "cell_type": "markdown",
   "metadata": {},
   "source": [
    "Like the `WyckoffCfgGenerator`, there are also `gen_one`, `gen_many`, and `gen_may_iter` methods attached with `CrystalGenerator` object. Let's ues the `gen_one` method for a quick try."
   ]
  },
  {
   "cell_type": "code",
   "execution_count": 13,
   "metadata": {},
   "outputs": [
    {
     "output_type": "stream",
     "text": [
      "\u001b[0;31mSignature:\u001b[0m\n",
      "\u001b[0mcg\u001b[0m\u001b[0;34m.\u001b[0m\u001b[0mgen_one\u001b[0m\u001b[0;34m(\u001b[0m\u001b[0;34m\u001b[0m\n",
      "\u001b[0;34m\u001b[0m    \u001b[0;34m*\u001b[0m\u001b[0;34m,\u001b[0m\u001b[0;34m\u001b[0m\n",
      "\u001b[0;34m\u001b[0m    \u001b[0mcheck_distance\u001b[0m\u001b[0;34m:\u001b[0m \u001b[0mbool\u001b[0m \u001b[0;34m=\u001b[0m \u001b[0;32mTrue\u001b[0m\u001b[0;34m,\u001b[0m\u001b[0;34m\u001b[0m\n",
      "\u001b[0;34m\u001b[0m    \u001b[0mdistance_scale_factor\u001b[0m\u001b[0;34m:\u001b[0m \u001b[0mfloat\u001b[0m \u001b[0;34m=\u001b[0m \u001b[0;36m0.1\u001b[0m\u001b[0;34m,\u001b[0m\u001b[0;34m\u001b[0m\n",
      "\u001b[0;34m\u001b[0m    \u001b[0;34m**\u001b[0m\u001b[0mcfg\u001b[0m\u001b[0;34m:\u001b[0m \u001b[0mDict\u001b[0m\u001b[0;34m[\u001b[0m\u001b[0mstr\u001b[0m\u001b[0;34m,\u001b[0m \u001b[0mTuple\u001b[0m\u001b[0;34m[\u001b[0m\u001b[0mstr\u001b[0m\u001b[0;34m]\u001b[0m\u001b[0;34m]\u001b[0m\u001b[0;34m,\u001b[0m\u001b[0;34m\u001b[0m\n",
      "\u001b[0;34m\u001b[0m\u001b[0;34m)\u001b[0m\u001b[0;34m\u001b[0m\u001b[0;34m\u001b[0m\u001b[0m\n",
      "\u001b[0;31mDocstring:\u001b[0m\n",
      "Try to generate a legal crystal structure with given configuration set.\n",
      "\n",
      "Parameters\n",
      "----------\n",
      "check_distance: bool, optional\n",
      "    Whether the atomic distance should be checked. default ``True``\n",
      "distance_scale_factor : float, optional\n",
      "    Scale factor to determine the tolerance of atomic distances when distance checking. Unit is Å,\n",
      "    When ``check_distance`` is ``True``, Any structure has\n",
      "    all_atomic_distance < (A_atom_covalent_radius + B_atom_covalent_radius) * (1 - distance_scale_factor) will be rejected,\n",
      "    by default 0.1\n",
      "**cfg: Dict[str, Tuple[str]]\n",
      "    Wyckoff Configuration set, which is a dict with format like:\n",
      "    {\"Li\": [\"a\", \"c\"], \"O\": [\"i\"]}. Here, the \"Li\" is an available element\n",
      "    symbol and [\"a\", \"c\"] is a list which contains coresponding Wyckoff\n",
      "    letters. For convenience, dict will be sorted by keys.\n",
      "\n",
      "Returns\n",
      "-------\n",
      "Dict\n",
      "    Structure information contains ``spacegroup_mun: int``,\n",
      "    ``volume: float``, ``lattice: list``, ``wyckoff_letters: list``,\n",
      "    and ``coords: list``.\n",
      "\u001b[0;31mFile:\u001b[0m      /usr/local/miniconda3/envs/crystallus/lib/python3.7/site-packages/crystallus/crystal_generator.py\n",
      "\u001b[0;31mType:\u001b[0m      method\n"
     ],
     "name": "stdout"
    }
   ],
   "source": [
    "cg.gen_one?"
   ]
  },
  {
   "cell_type": "markdown",
   "metadata": {},
   "source": [
    "All `gen_xxx` methods consume Wyckoff configurations to generate crystal structures. Please note the parameter `distance_scale_factor`, generator use this parameter to determine the acceptabel atomic distance. Here is the accept condition:\n",
    "> distance between atom `a` and `b` > (radius of `a` + radius of `b`) x (1 – `distance_scale_factor`).\n",
    "\n",
    "If the generator cannot generate any structure after multiple attempts, you can try to relax the atomic distance constraint by increasing this parameter."
   ]
  },
  {
   "cell_type": "code",
   "execution_count": 14,
   "metadata": {
    "tags": []
   },
   "outputs": [
    {
     "output_type": "stream",
     "name": "stdout",
     "text": [
      "CPU times: user 62.4 ms, sys: 12.8 ms, total: 75.1 ms\nWall time: 80 ms\n"
     ]
    },
    {
     "output_type": "execute_result",
     "data": {
      "text/plain": [
       "{'spacegroup_num': 167,\n",
       " 'volume': 161.02187020709746,\n",
       " 'lattice': [[5.439331385109984, 0.0, 0.47107169497766643],\n",
       "  [0.4320379763826813, 5.422146171397969, 0.47107169497766643],\n",
       "  [0.0, 0.0, 5.4596917915621965]],\n",
       " 'species': ['C', 'C', 'Ca', 'Ca', 'O', 'O', 'O', 'O', 'O', 'O'],\n",
       " 'wyckoff_letters': ['a', 'a', 'b', 'b', 'e', 'e', 'e', 'e', 'e', 'e'],\n",
       " 'coords': [[0.25, 0.25, 0.25],\n",
       "  [0.75, 0.75, 0.75],\n",
       "  [0.0, 0.0, 0.0],\n",
       "  [0.5, 0.5, 0.5],\n",
       "  [0.5500384606073927, 0.9499615393926073, 0.25],\n",
       "  [0.25, 0.5500384606073927, 0.9499615393926073],\n",
       "  [0.9499615393926073, 0.25, 0.5500384606073927],\n",
       "  [0.4499615393926073, 0.0500384606073927, 0.75],\n",
       "  [0.75, 0.4499615393926073, 0.0500384606073927],\n",
       "  [0.0500384606073927, 0.75, 0.4499615393926073]]}"
      ]
     },
     "metadata": {},
     "execution_count": 14
    }
   ],
   "source": [
    "%%time\n",
    "\n",
    "cfgs[sp_num][0]\n",
    "\n",
    "raw_s = cg.gen_one(**cfgs[sp_num][0])\n",
    "raw_s"
   ]
  },
  {
   "cell_type": "markdown",
   "metadata": {},
   "source": [
    "The result is a dict contains `species`, `lattice`, `coords` and other information. These information can be used to build the  `pymatgen.Structure` and `ase.Structure` object."
   ]
  },
  {
   "cell_type": "code",
   "execution_count": 15,
   "metadata": {},
   "outputs": [
    {
     "output_type": "execute_result",
     "data": {
      "text/plain": [
       "Structure Summary\n",
       "Lattice\n",
       "    abc : 5.4596917915621965 5.4596917915621965 5.4596917915621965\n",
       " angles : 85.05026616421641 85.05026616421641 85.05026616421641\n",
       " volume : 161.02187020709744\n",
       "      A : 5.439331385109984 0.0 0.47107169497766643\n",
       "      B : 0.4320379763826813 5.422146171397969 0.47107169497766643\n",
       "      C : 0.0 0.0 5.4596917915621965\n",
       "PeriodicSite: C (1.4678, 1.3555, 1.6005) [0.2500, 0.2500, 0.2500]\n",
       "PeriodicSite: C (4.4035, 4.0666, 4.8014) [0.7500, 0.7500, 0.7500]\n",
       "PeriodicSite: Ca (0.0000, 0.0000, 0.0000) [0.0000, 0.0000, 0.0000]\n",
       "PeriodicSite: Ca (2.9357, 2.7111, 3.2009) [0.5000, 0.5000, 0.5000]\n",
       "PeriodicSite: O (3.4023, 5.1508, 2.0715) [0.5500, 0.9500, 0.2500]\n",
       "PeriodicSite: O (1.5975, 2.9824, 5.5634) [0.2500, 0.5500, 0.9500]\n",
       "PeriodicSite: O (5.2752, 1.3555, 3.5683) [0.9500, 0.2500, 0.5500]\n",
       "PeriodicSite: O (2.4691, 0.2713, 4.3303) [0.4500, 0.0500, 0.7500]\n",
       "PeriodicSite: O (4.2739, 2.4398, 0.8385) [0.7500, 0.4500, 0.0500]\n",
       "PeriodicSite: O (0.5962, 4.0666, 2.8335) [0.0500, 0.7500, 0.4500]"
      ]
     },
     "metadata": {},
     "execution_count": 15
    }
   ],
   "source": [
    "from pymatgen import Structure\n",
    "\n",
    "s = Structure(lattice=raw_s['lattice'], species=raw_s['species'], coords=raw_s['coords'])\n",
    "s"
   ]
  },
  {
   "cell_type": "markdown",
   "metadata": {},
   "source": [
    "The following is batched generation."
   ]
  },
  {
   "cell_type": "code",
   "execution_count": 16,
   "metadata": {
    "tags": []
   },
   "outputs": [
    {
     "output_type": "stream",
     "name": "stdout",
     "text": [
      "type of raw_ss: <class 'tuple'>, size: 131\nCPU times: user 17.3 ms, sys: 3.69 ms, total: 21 ms\nWall time: 5.32 ms\n"
     ]
    }
   ],
   "source": [
    "%%time\n",
    "\n",
    "raw_ss = cg.gen_many(100, *cfgs[sp_num])\n",
    "\n",
    "print(f\"type of raw_ss: {raw_ss.__class__}, size: {len(raw_ss)}\")"
   ]
  },
  {
   "cell_type": "markdown",
   "metadata": {},
   "source": [
    "Also, the iterative version"
   ]
  },
  {
   "cell_type": "code",
   "execution_count": 17,
   "metadata": {
    "tags": []
   },
   "outputs": [
    {
     "output_type": "display_data",
     "data": {
      "text/plain": "HBox(children=(HTML(value=''), FloatProgress(value=0.0, max=4.0), HTML(value='')))",
      "application/vnd.jupyter.widget-view+json": {
       "version_major": 2,
       "version_minor": 0,
       "model_id": "9a5a43fa49164a8d9dfe3219c1b90182"
      }
     },
     "metadata": {}
    },
    {
     "output_type": "stream",
     "name": "stdout",
     "text": [
      "configuration: {'C': ['a'], 'Ca': ['b'], 'O': ['e']}, size of structures: 127\nconfiguration: {'C': ['b'], 'Ca': ['a'], 'O': ['e']}, size of structures: 82\nconfiguration: {'C': ['b'], 'Ca': ['a'], 'O': ['d']}, size of structures: 18\nconfiguration: {'C': ['a'], 'Ca': ['b'], 'O': ['d']}, size of structures: 449\n\nCPU times: user 123 ms, sys: 10.5 ms, total: 133 ms\nWall time: 66.9 ms\n"
     ]
    }
   ],
   "source": [
    "%%time\n",
    "\n",
    "with tqdm(total=len(cfgs[sp_num])) as pbar:\n",
    "    for cfg, structures in cg.gen_many_iter(500, *cfgs[sp_num]):\n",
    "        print(f'configuration: {cfg}, size of structures: {len(structures)}')\n",
    "        pbar.update()"
   ]
  },
  {
   "cell_type": "code",
   "execution_count": null,
   "metadata": {},
   "outputs": [],
   "source": []
  }
 ],
 "metadata": {
  "kernelspec": {
   "name": "Python 3.7.6 64-bit ('crystallus': conda)",
   "display_name": "Python 3.7.6 64-bit ('crystallus': conda)",
   "metadata": {
    "interpreter": {
     "hash": "9589c57e46372cc0fd1d5cce49afd7c2bbe15e8be8be9479e78a527a601602c3"
    }
   }
  },
  "language_info": {
   "codemirror_mode": {
    "name": "ipython",
    "version": 3
   },
   "file_extension": ".py",
   "mimetype": "text/x-python",
   "name": "python",
   "nbconvert_exporter": "python",
   "pygments_lexer": "ipython3",
   "version": "3.7.6-final"
  }
 },
 "nbformat": 4,
 "nbformat_minor": 4
}