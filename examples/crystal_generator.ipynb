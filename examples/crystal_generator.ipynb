{
 "cells": [
  {
   "cell_type": "code",
   "execution_count": 1,
   "metadata": {},
   "outputs": [],
   "source": [
    "# user-friendly print\n",
    "from IPython.core.interactiveshell import InteractiveShell\n",
    "InteractiveShell.ast_node_interactivity = \"all\""
   ]
  },
  {
   "cell_type": "markdown",
   "metadata": {},
   "source": [
    "## Crystal structure generation\n",
    "\n",
    "To generate reasonable crystal structure under a given space group with a specific chemical composition, basicly the following four steps are needed.\n",
    "\n",
    "1. calculate possible Wyckoff configurations under a given space group for each chemical composition.\n",
    "2. generate fraction positions for each element with given a Wyckoff configuration which is calculated from step 1), randomly.\n",
    "3. generate lattice for the given space group which is used in step 1), randomly.\n",
    "4. combine the results from step 2) and 3) to obtain a crystal structure.\n",
    "\n",
    "Usually, we also have to check the `volume` and `atomic distances` of generated structure, only keep the structures which have reasonable `volume` and `atomic distances`.\n",
    "\n",
    "To facilitate all these jobs, our `crystallus` library provides three modules:\n",
    "\n",
    "* `WyckoffCfgGenerator`: generate possible Wyckoff configurations for the given space group and composition of primitive cell.\n",
    "* `CrystalGenerator`: generate crystal structures for the given space group and Wyckoff configurations.\n",
    "* `WyckoffDB, SpaceGroupDB`: database include space group and corresponding Wyckoff information.\n",
    "\n",
    "The folloing content shows how to use `crystallus`."
   ]
  },
  {
   "cell_type": "markdown",
   "metadata": {},
   "source": [
    "### 1. generate Wyckoff configurations\n",
    "\n",
    "As an example, we will try to generate structures for `Ca2C2O6`. The true space group of this structure is `167`, and the Wyckoff configuration is `{Ca: 2b, C: 2a, O: 6e}`.\n",
    "You can use `SpaceGroupDB` to get the information of Wyckoff position about space group `167`."
   ]
  },
  {
   "cell_type": "code",
   "execution_count": 2,
   "metadata": {},
   "outputs": [
    {
     "data": {
      "text/plain": [
       "[{'Wyckoff letter': 'f',\n",
       "  'multiplicity': 12,\n",
       "  'reusable': True,\n",
       "  'Wyckoff position': '(x,y,z), (z,x,y), (y,z,x), (-y+1/2,-x+1/2,-z+1/2), (-x+1/2,-z+1/2,-y+1/2), (-z+1/2,-y+1/2,-x+1/2), (-x,-y,-z), (-z,-x,-y), (-y,-z,-x), (y+1/2,x+1/2,z+1/2), (x+1/2,z+1/2,y+1/2), (z+1/2,y+1/2,x+1/2)'},\n",
       " {'Wyckoff letter': 'e',\n",
       "  'multiplicity': 6,\n",
       "  'reusable': True,\n",
       "  'Wyckoff position': '(x,-x+1/2,1/4), (1/4,x,-x+1/2), (-x+1/2,1/4,x), (-x,x+1/2,3/4), (3/4,-x,x+1/2), (x+1/2,3/4,-x)'},\n",
       " {'Wyckoff letter': 'd',\n",
       "  'multiplicity': 6,\n",
       "  'reusable': False,\n",
       "  'Wyckoff position': '(1/2,0,0), (0,1/2,0), (0,0,1/2), (1/2,0,1/2), (0,1/2,1/2), (1/2,1/2,0)'},\n",
       " {'Wyckoff letter': 'c',\n",
       "  'multiplicity': 4,\n",
       "  'reusable': True,\n",
       "  'Wyckoff position': '(x,x,x), (-x+1/2,-x+1/2,-x+1/2), (-x,-x,-x), (x+1/2,x+1/2,x+1/2)'},\n",
       " {'Wyckoff letter': 'b',\n",
       "  'multiplicity': 2,\n",
       "  'reusable': False,\n",
       "  'Wyckoff position': '(0,0,0), (1/2,1/2,1/2)'},\n",
       " {'Wyckoff letter': 'a',\n",
       "  'multiplicity': 2,\n",
       "  'reusable': False,\n",
       "  'Wyckoff position': '(1/4,1/4,1/4), (3/4,3/4,3/4)'}]"
      ]
     },
     "execution_count": 2,
     "metadata": {},
     "output_type": "execute_result"
    }
   ],
   "source": [
    "from crystallus import SpaceGroupDB\n",
    "\n",
    "wys = SpaceGroupDB.get(spacegroup_num=167).wyckoffs\n",
    "[{'Wyckoff letter': w.letter, 'multiplicity': w.multiplicity, 'reusable': w.reuse, 'Wyckoff position': w.positions} for w in wys ]"
   ]
  },
  {
   "cell_type": "markdown",
   "metadata": {},
   "source": [
    "Let's generate some possible Wyckoff configurations for the composition `Ca2C2O6` under space group `167`."
   ]
  },
  {
   "cell_type": "code",
   "execution_count": 3,
   "metadata": {},
   "outputs": [
    {
     "data": {
      "text/plain": [
       "\u001b[0;31mInit signature:\u001b[0m\n",
       "\u001b[0mWyckoffCfgGenerator\u001b[0m\u001b[0;34m(\u001b[0m\u001b[0;34m\u001b[0m\n",
       "\u001b[0;34m\u001b[0m    \u001b[0;34m*\u001b[0m\u001b[0;34m,\u001b[0m\u001b[0;34m\u001b[0m\n",
       "\u001b[0;34m\u001b[0m    \u001b[0mmax_recurrent\u001b[0m\u001b[0;34m:\u001b[0m \u001b[0mint\u001b[0m \u001b[0;34m=\u001b[0m \u001b[0;36m1000\u001b[0m\u001b[0;34m,\u001b[0m\u001b[0;34m\u001b[0m\n",
       "\u001b[0;34m\u001b[0m    \u001b[0mn_jobs\u001b[0m\u001b[0;34m:\u001b[0m \u001b[0mint\u001b[0m \u001b[0;34m=\u001b[0m \u001b[0;34m-\u001b[0m\u001b[0;36m1\u001b[0m\u001b[0;34m,\u001b[0m\u001b[0;34m\u001b[0m\n",
       "\u001b[0;34m\u001b[0m    \u001b[0mpriority\u001b[0m\u001b[0;34m:\u001b[0m \u001b[0mOptional\u001b[0m\u001b[0;34m[\u001b[0m\u001b[0mDict\u001b[0m\u001b[0;34m[\u001b[0m\u001b[0mint\u001b[0m\u001b[0;34m,\u001b[0m \u001b[0mDict\u001b[0m\u001b[0;34m[\u001b[0m\u001b[0mstr\u001b[0m\u001b[0;34m,\u001b[0m \u001b[0mfloat\u001b[0m\u001b[0;34m]\u001b[0m\u001b[0;34m]\u001b[0m\u001b[0;34m]\u001b[0m \u001b[0;34m=\u001b[0m \u001b[0;32mNone\u001b[0m\u001b[0;34m,\u001b[0m\u001b[0;34m\u001b[0m\n",
       "\u001b[0;34m\u001b[0m    \u001b[0;34m**\u001b[0m\u001b[0mcomposition\u001b[0m\u001b[0;34m,\u001b[0m\u001b[0;34m\u001b[0m\n",
       "\u001b[0;34m\u001b[0m\u001b[0;34m)\u001b[0m\u001b[0;34m\u001b[0m\u001b[0;34m\u001b[0m\u001b[0m\n",
       "\u001b[0;31mDocstring:\u001b[0m      <no docstring>\n",
       "\u001b[0;31mInit docstring:\u001b[0m\n",
       "A generator for possible Wyckoff configuration generation.\n",
       "\n",
       "Parameters\n",
       "----------\n",
       "max_recurrent : int, optional\n",
       "    Max recurrent until generate a reasonable structure, by default 5_000\n",
       "n_jobs : int, optional\n",
       "    Number of cpu cores when parallel calculation, by default -1\n",
       "priority:\n",
       "    Priorities for Wyckoff position (WP). WP selection is equal to sampling\n",
       "    from an Uniform distribution of the pool of all availables.\n",
       "    By default, all possible WPs have a priority value `1`.\n",
       "    Give this parameter will overwrite the corresponding WP priority value.\n",
       "    For example, space group 167 has WP `[a, b, c, d, e, f]`\n",
       "    By default, all their priority values are `1`. Now, we want to lift the\n",
       "    priority of PW `a`, `b` and `d` and never use `e`, we can give parameter `priority`\n",
       "    a values like this: `{167: {a: 2, b: 2, d: 2, e: 0}}`. After that, the\n",
       "    new priority change to `{a: 2, b: 2, c: 1, d: 2, e: 0, f: 1}`. When generating,\n",
       "    the selection probability of each WP will be `{a: 2/8, b: 2/8, c: 1/8, d: 2/8 e: 0, f: 1/8}`.\n",
       "composition: Dict\n",
       "    Composition of compounds in the primitive cell; should be formated\n",
       "    as {<element symbol>: <ratio in float>}.\n",
       "\u001b[0;31mFile:\u001b[0m           ~/mambaforge/envs/crystallus/lib/python3.9/site-packages/crystallus/wyckoff_cfg_generator.py\n",
       "\u001b[0;31mType:\u001b[0m           type\n",
       "\u001b[0;31mSubclasses:\u001b[0m     \n"
      ]
     },
     "metadata": {},
     "output_type": "display_data"
    }
   ],
   "source": [
    "from crystallus import WyckoffCfgGenerator\n",
    "\n",
    "WyckoffCfgGenerator?"
   ]
  },
  {
   "cell_type": "code",
   "execution_count": 4,
   "metadata": {},
   "outputs": [],
   "source": [
    "from crystallus.crystallus import WyckoffCfgGenerator"
   ]
  },
  {
   "cell_type": "code",
   "execution_count": 5,
   "metadata": {},
   "outputs": [
    {
     "data": {
      "text/plain": [
       "\u001b[0;31mInit signature:\u001b[0m \u001b[0mWyckoffCfgGenerator\u001b[0m\u001b[0;34m(\u001b[0m\u001b[0mmax_recurrent\u001b[0m\u001b[0;34m,\u001b[0m \u001b[0mn_jobs\u001b[0m\u001b[0;34m,\u001b[0m \u001b[0;34m**\u001b[0m\u001b[0mcomposition\u001b[0m\u001b[0;34m)\u001b[0m\u001b[0;34m\u001b[0m\u001b[0;34m\u001b[0m\u001b[0m\n",
       "\u001b[0;31mFile:\u001b[0m           ~/mambaforge/envs/crystallus/lib/python3.9/site-packages/crystallus/__init__.py\n",
       "\u001b[0;31mType:\u001b[0m           type\n",
       "\u001b[0;31mSubclasses:\u001b[0m     \n"
      ]
     },
     "metadata": {},
     "output_type": "display_data"
    }
   ],
   "source": [
    "WyckoffCfgGenerator?"
   ]
  },
  {
   "cell_type": "code",
   "execution_count": 7,
   "metadata": {},
   "outputs": [],
   "source": [
    "composition = {'Ca': 2, 'C': 2, 'O': 6}\n",
    "wyg = WyckoffCfgGenerator(**composition)"
   ]
  },
  {
   "cell_type": "code",
   "execution_count": 9,
   "metadata": {},
   "outputs": [
    {
     "data": {
      "text/plain": [
       "1000"
      ]
     },
     "execution_count": 9,
     "metadata": {},
     "output_type": "execute_result"
    }
   ],
   "source": [
    "wyg.max_recurrent"
   ]
  },
  {
   "cell_type": "code",
   "execution_count": 22,
   "metadata": {},
   "outputs": [
    {
     "data": {
      "text/plain": [
       "<crystallus.WyckoffCfgGenerator at 0x1a4dc1a40>"
      ]
     },
     "execution_count": 22,
     "metadata": {},
     "output_type": "execute_result"
    }
   ],
   "source": [
    "wyg"
   ]
  },
  {
   "cell_type": "code",
   "execution_count": 5,
   "metadata": {},
   "outputs": [
    {
     "ename": "AttributeError",
     "evalue": "'crystallus.WyckoffCfgGenerator' object has no attribute 'n_jobs'",
     "output_type": "error",
     "traceback": [
      "\u001b[0;31m---------------------------------------------------------------------------\u001b[0m",
      "\u001b[0;31mAttributeError\u001b[0m                            Traceback (most recent call last)",
      "File \u001b[0;32m~/mambaforge/envs/crystallus/lib/python3.9/site-packages/IPython/core/formatters.py:707\u001b[0m, in \u001b[0;36mPlainTextFormatter.__call__\u001b[0;34m(self, obj)\u001b[0m\n\u001b[1;32m    700\u001b[0m stream \u001b[38;5;241m=\u001b[39m StringIO()\n\u001b[1;32m    701\u001b[0m printer \u001b[38;5;241m=\u001b[39m pretty\u001b[38;5;241m.\u001b[39mRepresentationPrinter(stream, \u001b[38;5;28mself\u001b[39m\u001b[38;5;241m.\u001b[39mverbose,\n\u001b[1;32m    702\u001b[0m     \u001b[38;5;28mself\u001b[39m\u001b[38;5;241m.\u001b[39mmax_width, \u001b[38;5;28mself\u001b[39m\u001b[38;5;241m.\u001b[39mnewline,\n\u001b[1;32m    703\u001b[0m     max_seq_length\u001b[38;5;241m=\u001b[39m\u001b[38;5;28mself\u001b[39m\u001b[38;5;241m.\u001b[39mmax_seq_length,\n\u001b[1;32m    704\u001b[0m     singleton_pprinters\u001b[38;5;241m=\u001b[39m\u001b[38;5;28mself\u001b[39m\u001b[38;5;241m.\u001b[39msingleton_printers,\n\u001b[1;32m    705\u001b[0m     type_pprinters\u001b[38;5;241m=\u001b[39m\u001b[38;5;28mself\u001b[39m\u001b[38;5;241m.\u001b[39mtype_printers,\n\u001b[1;32m    706\u001b[0m     deferred_pprinters\u001b[38;5;241m=\u001b[39m\u001b[38;5;28mself\u001b[39m\u001b[38;5;241m.\u001b[39mdeferred_printers)\n\u001b[0;32m--> 707\u001b[0m \u001b[43mprinter\u001b[49m\u001b[38;5;241;43m.\u001b[39;49m\u001b[43mpretty\u001b[49m\u001b[43m(\u001b[49m\u001b[43mobj\u001b[49m\u001b[43m)\u001b[49m\n\u001b[1;32m    708\u001b[0m printer\u001b[38;5;241m.\u001b[39mflush()\n\u001b[1;32m    709\u001b[0m \u001b[38;5;28;01mreturn\u001b[39;00m stream\u001b[38;5;241m.\u001b[39mgetvalue()\n",
      "File \u001b[0;32m~/mambaforge/envs/crystallus/lib/python3.9/site-packages/IPython/lib/pretty.py:410\u001b[0m, in \u001b[0;36mRepresentationPrinter.pretty\u001b[0;34m(self, obj)\u001b[0m\n\u001b[1;32m    407\u001b[0m                         \u001b[38;5;28;01mreturn\u001b[39;00m meth(obj, \u001b[38;5;28mself\u001b[39m, cycle)\n\u001b[1;32m    408\u001b[0m                 \u001b[38;5;28;01mif\u001b[39;00m \u001b[38;5;28mcls\u001b[39m \u001b[38;5;129;01mis\u001b[39;00m \u001b[38;5;129;01mnot\u001b[39;00m \u001b[38;5;28mobject\u001b[39m \\\n\u001b[1;32m    409\u001b[0m                         \u001b[38;5;129;01mand\u001b[39;00m callable(\u001b[38;5;28mcls\u001b[39m\u001b[38;5;241m.\u001b[39m\u001b[38;5;18m__dict__\u001b[39m\u001b[38;5;241m.\u001b[39mget(\u001b[38;5;124m'\u001b[39m\u001b[38;5;124m__repr__\u001b[39m\u001b[38;5;124m'\u001b[39m)):\n\u001b[0;32m--> 410\u001b[0m                     \u001b[38;5;28;01mreturn\u001b[39;00m \u001b[43m_repr_pprint\u001b[49m\u001b[43m(\u001b[49m\u001b[43mobj\u001b[49m\u001b[43m,\u001b[49m\u001b[43m \u001b[49m\u001b[38;5;28;43mself\u001b[39;49m\u001b[43m,\u001b[49m\u001b[43m \u001b[49m\u001b[43mcycle\u001b[49m\u001b[43m)\u001b[49m\n\u001b[1;32m    412\u001b[0m     \u001b[38;5;28;01mreturn\u001b[39;00m _default_pprint(obj, \u001b[38;5;28mself\u001b[39m, cycle)\n\u001b[1;32m    413\u001b[0m \u001b[38;5;28;01mfinally\u001b[39;00m:\n",
      "File \u001b[0;32m~/mambaforge/envs/crystallus/lib/python3.9/site-packages/IPython/lib/pretty.py:778\u001b[0m, in \u001b[0;36m_repr_pprint\u001b[0;34m(obj, p, cycle)\u001b[0m\n\u001b[1;32m    776\u001b[0m \u001b[38;5;124;03m\"\"\"A pprint that just redirects to the normal repr function.\"\"\"\u001b[39;00m\n\u001b[1;32m    777\u001b[0m \u001b[38;5;66;03m# Find newlines and replace them with p.break_()\u001b[39;00m\n\u001b[0;32m--> 778\u001b[0m output \u001b[38;5;241m=\u001b[39m \u001b[38;5;28;43mrepr\u001b[39;49m\u001b[43m(\u001b[49m\u001b[43mobj\u001b[49m\u001b[43m)\u001b[49m\n\u001b[1;32m    779\u001b[0m lines \u001b[38;5;241m=\u001b[39m output\u001b[38;5;241m.\u001b[39msplitlines()\n\u001b[1;32m    780\u001b[0m \u001b[38;5;28;01mwith\u001b[39;00m p\u001b[38;5;241m.\u001b[39mgroup():\n",
      "File \u001b[0;32m~/mambaforge/envs/crystallus/lib/python3.9/site-packages/crystallus/wyckoff_cfg_generator.py:143\u001b[0m, in \u001b[0;36mWyckoffCfgGenerator.__repr__\u001b[0;34m(self)\u001b[0m\n\u001b[1;32m    140\u001b[0m \u001b[38;5;28;01mdef\u001b[39;00m \u001b[38;5;21m__repr__\u001b[39m(\u001b[38;5;28mself\u001b[39m):\n\u001b[1;32m    141\u001b[0m     \u001b[38;5;28;01mreturn\u001b[39;00m \u001b[38;5;124mf\u001b[39m\u001b[38;5;124m\"\u001b[39m\u001b[38;5;124mWyckoffCfgGenerator(\u001b[39m\u001b[38;5;130;01m\\\u001b[39;00m\n\u001b[1;32m    142\u001b[0m \u001b[38;5;124m        \u001b[39m\u001b[38;5;130;01m\\n\u001b[39;00m\u001b[38;5;124m    max_recurrent=\u001b[39m\u001b[38;5;132;01m{\u001b[39;00m\u001b[38;5;28mself\u001b[39m\u001b[38;5;241m.\u001b[39mmax_recurrent\u001b[38;5;132;01m}\u001b[39;00m\u001b[38;5;124m,\u001b[39m\u001b[38;5;130;01m\\\u001b[39;00m\n\u001b[0;32m--> 143\u001b[0m \u001b[38;5;124m        \u001b[39m\u001b[38;5;130;01m\\n\u001b[39;00m\u001b[38;5;124m    n_jobs=\u001b[39m\u001b[38;5;132;01m{\u001b[39;00m\u001b[38;5;28mself\u001b[39m\u001b[38;5;241m.\u001b[39mn_jobs\u001b[38;5;132;01m}\u001b[39;00m\u001b[38;5;130;01m\\\u001b[39;00m\n\u001b[1;32m    144\u001b[0m \u001b[38;5;124m        \u001b[39m\u001b[38;5;130;01m\\n\u001b[39;00m\u001b[38;5;124m    priority=\u001b[39m\u001b[38;5;132;01m{\u001b[39;00m\u001b[38;5;28mself\u001b[39m\u001b[38;5;241m.\u001b[39m_priority\u001b[38;5;132;01m}\u001b[39;00m\u001b[38;5;130;01m\\\u001b[39;00m\n\u001b[1;32m    145\u001b[0m \u001b[38;5;124m        \u001b[39m\u001b[38;5;130;01m\\n\u001b[39;00m\u001b[38;5;124m    composition=\u001b[39m\u001b[38;5;132;01m{\u001b[39;00m\u001b[38;5;28mself\u001b[39m\u001b[38;5;241m.\u001b[39m_composition\u001b[38;5;132;01m}\u001b[39;00m\u001b[38;5;130;01m\\\u001b[39;00m\n\u001b[1;32m    146\u001b[0m \u001b[38;5;124m        \u001b[39m\u001b[38;5;130;01m\\n\u001b[39;00m\u001b[38;5;124m)\u001b[39m\u001b[38;5;124m\"\u001b[39m\n",
      "File \u001b[0;32m~/mambaforge/envs/crystallus/lib/python3.9/site-packages/crystallus/wyckoff_cfg_generator.py:65\u001b[0m, in \u001b[0;36mWyckoffCfgGenerator.n_jobs\u001b[0;34m(self)\u001b[0m\n\u001b[1;32m     63\u001b[0m \u001b[38;5;129m@property\u001b[39m\n\u001b[1;32m     64\u001b[0m \u001b[38;5;28;01mdef\u001b[39;00m \u001b[38;5;21mn_jobs\u001b[39m(\u001b[38;5;28mself\u001b[39m):\n\u001b[0;32m---> 65\u001b[0m     \u001b[38;5;28;01mreturn\u001b[39;00m \u001b[38;5;28;43mself\u001b[39;49m\u001b[38;5;241;43m.\u001b[39;49m\u001b[43m_wyg\u001b[49m\u001b[38;5;241;43m.\u001b[39;49m\u001b[43mn_jobs\u001b[49m\n",
      "\u001b[0;31mAttributeError\u001b[0m: 'crystallus.WyckoffCfgGenerator' object has no attribute 'n_jobs'"
     ]
    }
   ],
   "source": [
    "composition = {'Ca': 2, 'C': 2, 'O': 6}\n",
    "\n",
    "wyg = WyckoffCfgGenerator(**composition)\n",
    "wyg"
   ]
  },
  {
   "cell_type": "markdown",
   "metadata": {},
   "source": [
    "You have noticed that the minimum input for the initialization of a `WyckoffCfgGenerator` is just a composition.\n",
    "Now, we can try to use this generator to generate Wyckoff configuration(s). First, let's try to generate one. This can be done by the `gen_one` method."
   ]
  },
  {
   "cell_type": "code",
   "execution_count": 15,
   "metadata": {},
   "outputs": [
    {
     "data": {
      "text/plain": [
       "\u001b[0;31mSignature:\u001b[0m \u001b[0mwyg\u001b[0m\u001b[0;34m.\u001b[0m\u001b[0mgen_one\u001b[0m\u001b[0;34m(\u001b[0m\u001b[0mspacegroup_num\u001b[0m\u001b[0;34m)\u001b[0m\u001b[0;34m\u001b[0m\u001b[0;34m\u001b[0m\u001b[0m\n",
       "\u001b[0;31mDocstring:\u001b[0m <no docstring>\n",
       "\u001b[0;31mType:\u001b[0m      builtin_function_or_method\n"
      ]
     },
     "metadata": {},
     "output_type": "display_data"
    }
   ],
   "source": [
    "wyg.gen_one?"
   ]
  },
  {
   "cell_type": "code",
   "execution_count": 16,
   "metadata": {},
   "outputs": [
    {
     "data": {
      "text/plain": [
       "{'C': ['b'], 'Ca': ['a'], 'O': ['d']}"
      ]
     },
     "execution_count": 16,
     "metadata": {},
     "output_type": "execute_result"
    }
   ],
   "source": [
    "cfg = wyg.gen_one(spacegroup_num=167)\n",
    "cfg"
   ]
  },
  {
   "cell_type": "markdown",
   "metadata": {},
   "source": [
    "If everything goes well, the above cell will return a dict contains something like: `{'C': ['b'], 'Ca': ['a'], 'O': ['d']}`.\n",
    "Here, `C`, `Ca`, and `O` are the element names. All elements are sorted by the alphabet. The `['b']`, `['a']`, and `['d']` are the corresponding Wyckoff positions which are provided by Wyckoff letters.\n",
    "\n",
    "Maybe you are confused that the return of this method is not unique. That makes sense because under space group `167`, there are four possible configurations for the composition `Ca2C2O6`. Call the `gen_one` method will execute a random search in all possible configurations. When it finds one, it returns the result and stops searching. This means if you want to get more configurations, you should call the `gen_one` method many times. We know that for almost all the cases, the possible configurations are not one, to simplify your works, we provide the `gen_many` method."
   ]
  },
  {
   "cell_type": "code",
   "execution_count": 17,
   "metadata": {},
   "outputs": [
    {
     "data": {
      "text/plain": [
       "\u001b[0;31mSignature:\u001b[0m \u001b[0mwyg\u001b[0m\u001b[0;34m.\u001b[0m\u001b[0mgen_many\u001b[0m\u001b[0;34m(\u001b[0m\u001b[0msize\u001b[0m\u001b[0;34m,\u001b[0m \u001b[0;34m/\u001b[0m\u001b[0;34m,\u001b[0m \u001b[0;34m*\u001b[0m\u001b[0mspacegroup_num\u001b[0m\u001b[0;34m)\u001b[0m\u001b[0;34m\u001b[0m\u001b[0;34m\u001b[0m\u001b[0m\n",
       "\u001b[0;31mDocstring:\u001b[0m <no docstring>\n",
       "\u001b[0;31mType:\u001b[0m      builtin_function_or_method\n"
      ]
     },
     "metadata": {},
     "output_type": "display_data"
    }
   ],
   "source": [
    "wyg.gen_many?"
   ]
  },
  {
   "cell_type": "code",
   "execution_count": 18,
   "metadata": {},
   "outputs": [
    {
     "data": {
      "text/plain": [
       "[{'C': ['a'], 'Ca': ['b'], 'O': ['d']},\n",
       " {'C': ['b'], 'Ca': ['a'], 'O': ['d']},\n",
       " {'C': ['b'], 'Ca': ['a'], 'O': ['e']},\n",
       " {'C': ['a'], 'Ca': ['b'], 'O': ['e']}]"
      ]
     },
     "execution_count": 18,
     "metadata": {},
     "output_type": "execute_result"
    }
   ],
   "source": [
    "cfgs = wyg.gen_many(100, 167)\n",
    "cfgs"
   ]
  },
  {
   "cell_type": "markdown",
   "metadata": {},
   "source": [
    "You can calculate more multiply space group in one call. Just list space group numbers as `*` parameters. In this case, the return will be a dict with space group number as key and configuration list as value. For example, if our space group candidate are `[194, 148, 167]`, you can call `gen_many` like this:"
   ]
  },
  {
   "cell_type": "code",
   "execution_count": 9,
   "metadata": {
    "tags": []
   },
   "outputs": [
    {
     "name": "stdout",
     "output_type": "stream",
     "text": [
      "CPU times: user 9.2 ms, sys: 3.44 ms, total: 12.6 ms\n",
      "Wall time: 2.61 ms\n"
     ]
    },
    {
     "data": {
      "text/plain": [
       "{194: [{'C': ['a'], 'Ca': ['d'], 'O': ['g']},\n",
       "  {'C': ['d'], 'Ca': ['c'], 'O': ['g']},\n",
       "  {'C': ['d'], 'Ca': ['c'], 'O': ['b', 'e']},\n",
       "  {'C': ['b'], 'Ca': ['d'], 'O': ['g']},\n",
       "  {'C': ['b'], 'Ca': ['c'], 'O': ['h']},\n",
       "  {'C': ['c'], 'Ca': ['d'], 'O': ['g']},\n",
       "  {'C': ['c'], 'Ca': ['a'], 'O': ['b', 'e']},\n",
       "  {'C': ['c'], 'Ca': ['b'], 'O': ['a', 'f']},\n",
       "  {'C': ['d'], 'Ca': ['a'], 'O': ['c', 'e']},\n",
       "  {'C': ['b'], 'Ca': ['d'], 'O': ['c', 'f']},\n",
       "  {'C': ['b'], 'Ca': ['c'], 'O': ['g']},\n",
       "  {'C': ['a'], 'Ca': ['c'], 'O': ['h']},\n",
       "  {'C': ['a'], 'Ca': ['c'], 'O': ['d', 'f']},\n",
       "  {'C': ['b'], 'Ca': ['d'], 'O': ['h']},\n",
       "  {'C': ['a'], 'Ca': ['c'], 'O': ['d', 'e']},\n",
       "  {'C': ['b'], 'Ca': ['d'], 'O': ['a', 'e']},\n",
       "  {'C': ['d'], 'Ca': ['a'], 'O': ['h']}],\n",
       " 148: [{'C': ['c'], 'Ca': ['a', 'b'], 'O': ['d', 'e']},\n",
       "  {'C': ['a', 'b'], 'Ca': ['c'], 'O': ['f']},\n",
       "  {'C': ['c'], 'Ca': ['c'], 'O': ['f']},\n",
       "  {'C': ['a', 'b'], 'Ca': ['c'], 'O': ['c', 'c', 'c']},\n",
       "  {'C': ['c'], 'Ca': ['c'], 'O': ['a', 'b', 'c', 'c']}],\n",
       " 167: [{'C': ['b'], 'Ca': ['a'], 'O': ['e']},\n",
       "  {'C': ['a'], 'Ca': ['b'], 'O': ['e']},\n",
       "  {'C': ['b'], 'Ca': ['a'], 'O': ['d']},\n",
       "  {'C': ['a'], 'Ca': ['b'], 'O': ['d']}]}"
      ]
     },
     "execution_count": 9,
     "metadata": {},
     "output_type": "execute_result"
    }
   ],
   "source": [
    "%%time\n",
    "\n",
    "cfgs = wyg.gen_many(20, 194, 148, 167)\n",
    "cfgs"
   ]
  },
  {
   "cell_type": "markdown",
   "metadata": {},
   "source": [
    "`gen_many_iter` is an iterative version of `gen_many`. You can use this method to render a progress bar during generation, or something else you want."
   ]
  },
  {
   "cell_type": "code",
   "execution_count": 10,
   "metadata": {
    "tags": []
   },
   "outputs": [
    {
     "data": {
      "application/vnd.jupyter.widget-view+json": {
       "model_id": "68c0732c98064484891df74528837b68",
       "version_major": 2,
       "version_minor": 0
      },
      "text/plain": [
       "HBox(children=(HTML(value=''), FloatProgress(value=0.0, max=9.0), HTML(value='')))"
      ]
     },
     "metadata": {},
     "output_type": "display_data"
    },
    {
     "name": "stdout",
     "output_type": "stream",
     "text": [
      "space group: 194, size of generated samples: 72\n",
      "space group: 148, size of generated samples: 14\n",
      "space group: 167, size of generated samples: 4\n",
      "space group: 161, size of generated samples: 2\n",
      "space group: 11, size of generated samples: 199\n",
      "space group: 12, size of generated samples: 2441\n",
      "space group: 65, size of generated samples: 4307\n",
      "space group: 140, size of generated samples: 96\n",
      "space group: 225, size of generated samples: 4\n",
      "\n",
      "CPU times: user 34 s, sys: 69.4 ms, total: 34.1 s\n",
      "Wall time: 4.61 s\n"
     ]
    }
   ],
   "source": [
    "%%time\n",
    "\n",
    "from tqdm.notebook import tqdm\n",
    "\n",
    "space_group_cans = [194, 148, 167, 161, 11, 12, 65, 140, 225]\n",
    "\n",
    "with tqdm(total=len(space_group_cans)) as pbar:\n",
    "    for spacegroup_num, cfg_list in wyg.gen_many_iter(5000, *space_group_cans):\n",
    "        print(f'space group: {spacegroup_num}, size of generated samples: {len(cfg_list)}')\n",
    "        pbar.update()"
   ]
  },
  {
   "cell_type": "markdown",
   "metadata": {},
   "source": [
    "### 2. generate crystal structures\n",
    "\n",
    "We have generated some Wyckoff configurations, the next is consuming the Wyckoff configurations to generate crystal structures. To facilitate the task, we provide the `CrystalGenerator` class."
   ]
  },
  {
   "cell_type": "code",
   "execution_count": 19,
   "metadata": {},
   "outputs": [
    {
     "data": {
      "text/plain": [
       "\u001b[0;31mInit signature:\u001b[0m\n",
       "\u001b[0mCrystalGenerator\u001b[0m\u001b[0;34m(\u001b[0m\u001b[0;34m\u001b[0m\n",
       "\u001b[0;34m\u001b[0m    \u001b[0mspacegroup_num\u001b[0m\u001b[0;34m:\u001b[0m \u001b[0mint\u001b[0m\u001b[0;34m,\u001b[0m\u001b[0;34m\u001b[0m\n",
       "\u001b[0;34m\u001b[0m    \u001b[0mvolume_of_cell\u001b[0m\u001b[0;34m:\u001b[0m \u001b[0mfloat\u001b[0m\u001b[0;34m,\u001b[0m\u001b[0;34m\u001b[0m\n",
       "\u001b[0;34m\u001b[0m    \u001b[0mvariance_of_volume\u001b[0m\u001b[0;34m:\u001b[0m \u001b[0mfloat\u001b[0m\u001b[0;34m,\u001b[0m\u001b[0;34m\u001b[0m\n",
       "\u001b[0;34m\u001b[0m    \u001b[0;34m*\u001b[0m\u001b[0;34m,\u001b[0m\u001b[0;34m\u001b[0m\n",
       "\u001b[0;34m\u001b[0m    \u001b[0mangle_range\u001b[0m\u001b[0;34m:\u001b[0m \u001b[0mTuple\u001b[0m\u001b[0;34m[\u001b[0m\u001b[0mfloat\u001b[0m\u001b[0;34m,\u001b[0m \u001b[0mfloat\u001b[0m\u001b[0;34m]\u001b[0m \u001b[0;34m=\u001b[0m \u001b[0;34m(\u001b[0m\u001b[0;36m30.0\u001b[0m\u001b[0;34m,\u001b[0m \u001b[0;36m150.0\u001b[0m\u001b[0;34m)\u001b[0m\u001b[0;34m,\u001b[0m\u001b[0;34m\u001b[0m\n",
       "\u001b[0;34m\u001b[0m    \u001b[0mangle_tolerance\u001b[0m\u001b[0;34m:\u001b[0m \u001b[0mfloat\u001b[0m \u001b[0;34m=\u001b[0m \u001b[0;36m20.0\u001b[0m\u001b[0;34m,\u001b[0m\u001b[0;34m\u001b[0m\n",
       "\u001b[0;34m\u001b[0m    \u001b[0mlattice\u001b[0m\u001b[0;34m:\u001b[0m \u001b[0mOptional\u001b[0m\u001b[0;34m[\u001b[0m\u001b[0mTuple\u001b[0m\u001b[0;34m[\u001b[0m\u001b[0mfloat\u001b[0m\u001b[0;34m]\u001b[0m\u001b[0;34m]\u001b[0m \u001b[0;34m=\u001b[0m \u001b[0;32mNone\u001b[0m\u001b[0;34m,\u001b[0m\u001b[0;34m\u001b[0m\n",
       "\u001b[0;34m\u001b[0m    \u001b[0mempirical_coords\u001b[0m\u001b[0;34m:\u001b[0m \u001b[0mOptional\u001b[0m\u001b[0;34m[\u001b[0m\u001b[0mList\u001b[0m\u001b[0;34m[\u001b[0m\u001b[0mTuple\u001b[0m\u001b[0;34m[\u001b[0m\u001b[0mstr\u001b[0m\u001b[0;34m,\u001b[0m \u001b[0mList\u001b[0m\u001b[0;34m[\u001b[0m\u001b[0mfloat\u001b[0m\u001b[0;34m]\u001b[0m\u001b[0;34m]\u001b[0m\u001b[0;34m]\u001b[0m\u001b[0;34m]\u001b[0m \u001b[0;34m=\u001b[0m \u001b[0;32mNone\u001b[0m\u001b[0;34m,\u001b[0m\u001b[0;34m\u001b[0m\n",
       "\u001b[0;34m\u001b[0m    \u001b[0mempirical_coords_variance\u001b[0m\u001b[0;34m:\u001b[0m \u001b[0mfloat\u001b[0m \u001b[0;34m=\u001b[0m \u001b[0;36m0.01\u001b[0m\u001b[0;34m,\u001b[0m\u001b[0;34m\u001b[0m\n",
       "\u001b[0;34m\u001b[0m    \u001b[0mempirical_coords_sampling_rate\u001b[0m\u001b[0;34m:\u001b[0m \u001b[0mfloat\u001b[0m \u001b[0;34m=\u001b[0m \u001b[0;36m1.0\u001b[0m\u001b[0;34m,\u001b[0m\u001b[0;34m\u001b[0m\n",
       "\u001b[0;34m\u001b[0m    \u001b[0mempirical_coords_loose_sampling\u001b[0m\u001b[0;34m:\u001b[0m \u001b[0mbool\u001b[0m \u001b[0;34m=\u001b[0m \u001b[0;32mTrue\u001b[0m\u001b[0;34m,\u001b[0m\u001b[0;34m\u001b[0m\n",
       "\u001b[0;34m\u001b[0m    \u001b[0mmax_attempts_number\u001b[0m\u001b[0;34m:\u001b[0m \u001b[0mint\u001b[0m \u001b[0;34m=\u001b[0m \u001b[0;36m5000\u001b[0m\u001b[0;34m,\u001b[0m\u001b[0;34m\u001b[0m\n",
       "\u001b[0;34m\u001b[0m    \u001b[0mn_jobs\u001b[0m\u001b[0;34m:\u001b[0m \u001b[0mint\u001b[0m \u001b[0;34m=\u001b[0m \u001b[0;34m-\u001b[0m\u001b[0;36m1\u001b[0m\u001b[0;34m,\u001b[0m\u001b[0;34m\u001b[0m\n",
       "\u001b[0;34m\u001b[0m    \u001b[0mverbose\u001b[0m\u001b[0;34m:\u001b[0m \u001b[0mbool\u001b[0m \u001b[0;34m=\u001b[0m \u001b[0;32mFalse\u001b[0m\u001b[0;34m,\u001b[0m\u001b[0;34m\u001b[0m\n",
       "\u001b[0;34m\u001b[0m\u001b[0;34m)\u001b[0m\u001b[0;34m\u001b[0m\u001b[0;34m\u001b[0m\u001b[0m\n",
       "\u001b[0;31mDocstring:\u001b[0m      <no docstring>\n",
       "\u001b[0;31mInit docstring:\u001b[0m\n",
       "A generator for possible crystal structure generation.\n",
       "\n",
       "Parameters\n",
       "----------\n",
       "spacegroup_num:\n",
       "    Specify the spacegroup.\n",
       "volume_of_cell:\n",
       "    The estimated volume of primitive cell. Unit is Å^3.\n",
       "variance_of_volume:\n",
       "    The estimated variance of volume prediction. Unit is Å^3.\n",
       "    ``volume_of_cell`` and ``variance_of_volume`` will be used to build\n",
       "    a Gaussion distribution for the sampling of volume of primitive cell.\n",
       "    We will use the abstract valuse if sampled volume is negative.\n",
       "angle_range:\n",
       "    The range of the degree of angles when lattice generation. by default (30., 150.)\n",
       "angle_tolerance:\n",
       "    The Tolerance of minimum of the degree of angles when lattice generation, by default 20.\n",
       "lattice:\n",
       "    Lattice in symmetric cell. optional.\n",
       "    Given this parameter will specify all angles and the aspect ration between lengths of the lattice.\n",
       "    The certain lengths will be calculated from volume. Default ``None``.\n",
       "empirical_coords:\n",
       "    Empirical distributuion of atomic coordinates. The coordinates should be given in Wyckoff position\n",
       "    format. For example: for Wyckoff letter `c` in space group 167, the corresponding positions are\n",
       "    `(0,0,z) (0,0,-z+1/2) (0,0,-z) (0,0,z+1/2)`. So a fraction coordinate in lattice such as\n",
       "    `[[0,0,0.3] [0,0,0.2] [0,0,0.7] [0,0,0.8]]` should be converted to `([0, 0, 0.3])`.\n",
       "    The key of each coordinates pool has two mode, the one is using Wyckoff position letter, for example\n",
       "    `[('a', [0, 0, 0.3]), ('b': [...])]`, the other is by element and Wyckoff position letter,\n",
       "    for example `[('Ca:a': [0, 0, 0.3]), ('Ca:b': [...])], ('C:a': [...])]`. You can use parameter\n",
       "    `empirical_coords_loose_sampling` to switch modes.\n",
       "empirical_coords_variance:\n",
       "    The variance of empirical_coords. This parameter will be used to build a Gaussian distribution.\n",
       "    The generator will sample values from the distribution as the perturbation of empirical coordinates.\n",
       "empirical_coords_sampling_rate:\n",
       "    The sampling rate when sampling the empirical coordinates.\n",
       "    A higher rate means instead of random generation,\n",
       "    sampling from empirical coordinate distribution as more as possible when generating.\n",
       "    Must be in 0 ~ 1, default 1.\n",
       "empirical_coords_loose_sampling:\n",
       "    Specify the sampling mode. `True` for using Wyckoff position letter, `False` means using\n",
       "    element and Wyckoff position letter. See parameter `empirical_coords` for details.\n",
       "max_attempts_number : int, optional\n",
       "    Max recurrent until generate a reasonable lattice, by default is 5_000\n",
       "n_jobs : int, optional\n",
       "    Number of cpu cores when parallel calculation, by default -1\n",
       "verbose: bool, optional\n",
       "    Set to ``True`` to show more information.\n",
       "\u001b[0;31mFile:\u001b[0m           ~/mambaforge/envs/crystallus/lib/python3.9/site-packages/crystallus/crystal_generator.py\n",
       "\u001b[0;31mType:\u001b[0m           type\n",
       "\u001b[0;31mSubclasses:\u001b[0m     \n"
      ]
     },
     "metadata": {},
     "output_type": "display_data"
    }
   ],
   "source": [
    "from crystallus import CrystalGenerator\n",
    "\n",
    "CrystalGenerator?"
   ]
  },
  {
   "cell_type": "markdown",
   "metadata": {},
   "source": [
    "To initialize a `CrystalGenerator`, parameter `spacegroup_num`, `volume_of_cell` of primitive cell and the `variance_of_volume` are needed at least."
   ]
  },
  {
   "cell_type": "code",
   "execution_count": 20,
   "metadata": {},
   "outputs": [
    {
     "ename": "AttributeError",
     "evalue": "'CrystalGenerator' object has no attribute 'verbose'",
     "output_type": "error",
     "traceback": [
      "\u001b[0;31m---------------------------------------------------------------------------\u001b[0m",
      "\u001b[0;31mAttributeError\u001b[0m                            Traceback (most recent call last)",
      "File \u001b[0;32m~/mambaforge/envs/crystallus/lib/python3.9/site-packages/IPython/core/formatters.py:707\u001b[0m, in \u001b[0;36mPlainTextFormatter.__call__\u001b[0;34m(self, obj)\u001b[0m\n\u001b[1;32m    700\u001b[0m stream \u001b[38;5;241m=\u001b[39m StringIO()\n\u001b[1;32m    701\u001b[0m printer \u001b[38;5;241m=\u001b[39m pretty\u001b[38;5;241m.\u001b[39mRepresentationPrinter(stream, \u001b[38;5;28mself\u001b[39m\u001b[38;5;241m.\u001b[39mverbose,\n\u001b[1;32m    702\u001b[0m     \u001b[38;5;28mself\u001b[39m\u001b[38;5;241m.\u001b[39mmax_width, \u001b[38;5;28mself\u001b[39m\u001b[38;5;241m.\u001b[39mnewline,\n\u001b[1;32m    703\u001b[0m     max_seq_length\u001b[38;5;241m=\u001b[39m\u001b[38;5;28mself\u001b[39m\u001b[38;5;241m.\u001b[39mmax_seq_length,\n\u001b[1;32m    704\u001b[0m     singleton_pprinters\u001b[38;5;241m=\u001b[39m\u001b[38;5;28mself\u001b[39m\u001b[38;5;241m.\u001b[39msingleton_printers,\n\u001b[1;32m    705\u001b[0m     type_pprinters\u001b[38;5;241m=\u001b[39m\u001b[38;5;28mself\u001b[39m\u001b[38;5;241m.\u001b[39mtype_printers,\n\u001b[1;32m    706\u001b[0m     deferred_pprinters\u001b[38;5;241m=\u001b[39m\u001b[38;5;28mself\u001b[39m\u001b[38;5;241m.\u001b[39mdeferred_printers)\n\u001b[0;32m--> 707\u001b[0m \u001b[43mprinter\u001b[49m\u001b[38;5;241;43m.\u001b[39;49m\u001b[43mpretty\u001b[49m\u001b[43m(\u001b[49m\u001b[43mobj\u001b[49m\u001b[43m)\u001b[49m\n\u001b[1;32m    708\u001b[0m printer\u001b[38;5;241m.\u001b[39mflush()\n\u001b[1;32m    709\u001b[0m \u001b[38;5;28;01mreturn\u001b[39;00m stream\u001b[38;5;241m.\u001b[39mgetvalue()\n",
      "File \u001b[0;32m~/mambaforge/envs/crystallus/lib/python3.9/site-packages/IPython/lib/pretty.py:410\u001b[0m, in \u001b[0;36mRepresentationPrinter.pretty\u001b[0;34m(self, obj)\u001b[0m\n\u001b[1;32m    407\u001b[0m                         \u001b[38;5;28;01mreturn\u001b[39;00m meth(obj, \u001b[38;5;28mself\u001b[39m, cycle)\n\u001b[1;32m    408\u001b[0m                 \u001b[38;5;28;01mif\u001b[39;00m \u001b[38;5;28mcls\u001b[39m \u001b[38;5;129;01mis\u001b[39;00m \u001b[38;5;129;01mnot\u001b[39;00m \u001b[38;5;28mobject\u001b[39m \\\n\u001b[1;32m    409\u001b[0m                         \u001b[38;5;129;01mand\u001b[39;00m callable(\u001b[38;5;28mcls\u001b[39m\u001b[38;5;241m.\u001b[39m\u001b[38;5;18m__dict__\u001b[39m\u001b[38;5;241m.\u001b[39mget(\u001b[38;5;124m'\u001b[39m\u001b[38;5;124m__repr__\u001b[39m\u001b[38;5;124m'\u001b[39m)):\n\u001b[0;32m--> 410\u001b[0m                     \u001b[38;5;28;01mreturn\u001b[39;00m \u001b[43m_repr_pprint\u001b[49m\u001b[43m(\u001b[49m\u001b[43mobj\u001b[49m\u001b[43m,\u001b[49m\u001b[43m \u001b[49m\u001b[38;5;28;43mself\u001b[39;49m\u001b[43m,\u001b[49m\u001b[43m \u001b[49m\u001b[43mcycle\u001b[49m\u001b[43m)\u001b[49m\n\u001b[1;32m    412\u001b[0m     \u001b[38;5;28;01mreturn\u001b[39;00m _default_pprint(obj, \u001b[38;5;28mself\u001b[39m, cycle)\n\u001b[1;32m    413\u001b[0m \u001b[38;5;28;01mfinally\u001b[39;00m:\n",
      "File \u001b[0;32m~/mambaforge/envs/crystallus/lib/python3.9/site-packages/IPython/lib/pretty.py:778\u001b[0m, in \u001b[0;36m_repr_pprint\u001b[0;34m(obj, p, cycle)\u001b[0m\n\u001b[1;32m    776\u001b[0m \u001b[38;5;124;03m\"\"\"A pprint that just redirects to the normal repr function.\"\"\"\u001b[39;00m\n\u001b[1;32m    777\u001b[0m \u001b[38;5;66;03m# Find newlines and replace them with p.break_()\u001b[39;00m\n\u001b[0;32m--> 778\u001b[0m output \u001b[38;5;241m=\u001b[39m \u001b[38;5;28;43mrepr\u001b[39;49m\u001b[43m(\u001b[49m\u001b[43mobj\u001b[49m\u001b[43m)\u001b[49m\n\u001b[1;32m    779\u001b[0m lines \u001b[38;5;241m=\u001b[39m output\u001b[38;5;241m.\u001b[39msplitlines()\n\u001b[1;32m    780\u001b[0m \u001b[38;5;28;01mwith\u001b[39;00m p\u001b[38;5;241m.\u001b[39mgroup():\n",
      "File \u001b[0;32m~/mambaforge/envs/crystallus/lib/python3.9/site-packages/crystallus/crystal_generator.py:324\u001b[0m, in \u001b[0;36mCrystalGenerator.__repr__\u001b[0;34m(self)\u001b[0m\n\u001b[1;32m    311\u001b[0m \u001b[38;5;28;01mdef\u001b[39;00m \u001b[38;5;21m__repr__\u001b[39m(\u001b[38;5;28mself\u001b[39m):\n\u001b[1;32m    312\u001b[0m     \u001b[38;5;28;01mreturn\u001b[39;00m \u001b[38;5;124mf\u001b[39m\u001b[38;5;124m\"\u001b[39m\u001b[38;5;124mCrystalGenerator(\u001b[39m\u001b[38;5;130;01m\\\u001b[39;00m\n\u001b[1;32m    313\u001b[0m \u001b[38;5;124m        \u001b[39m\u001b[38;5;130;01m\\n\u001b[39;00m\u001b[38;5;124m    spacegroup_num=\u001b[39m\u001b[38;5;132;01m{\u001b[39;00m\u001b[38;5;28mself\u001b[39m\u001b[38;5;241m.\u001b[39mspacegroup_num\u001b[38;5;132;01m}\u001b[39;00m\u001b[38;5;124m,\u001b[39m\u001b[38;5;130;01m\\\u001b[39;00m\n\u001b[1;32m    314\u001b[0m \u001b[38;5;124m        \u001b[39m\u001b[38;5;130;01m\\n\u001b[39;00m\u001b[38;5;124m    volume_of_cell=\u001b[39m\u001b[38;5;132;01m{\u001b[39;00m\u001b[38;5;28mself\u001b[39m\u001b[38;5;241m.\u001b[39mvolume_of_cell\u001b[38;5;132;01m}\u001b[39;00m\u001b[38;5;124m,\u001b[39m\u001b[38;5;130;01m\\\u001b[39;00m\n\u001b[1;32m    315\u001b[0m \u001b[38;5;124m        \u001b[39m\u001b[38;5;130;01m\\n\u001b[39;00m\u001b[38;5;124m    variance_of_volume=\u001b[39m\u001b[38;5;132;01m{\u001b[39;00m\u001b[38;5;28mself\u001b[39m\u001b[38;5;241m.\u001b[39mvariance_of_volume\u001b[38;5;132;01m}\u001b[39;00m\u001b[38;5;124m,\u001b[39m\u001b[38;5;130;01m\\\u001b[39;00m\n\u001b[1;32m    316\u001b[0m \u001b[38;5;124m        \u001b[39m\u001b[38;5;130;01m\\n\u001b[39;00m\u001b[38;5;124m    angle_range=\u001b[39m\u001b[38;5;132;01m{\u001b[39;00m\u001b[38;5;28mself\u001b[39m\u001b[38;5;241m.\u001b[39mangle_range\u001b[38;5;132;01m}\u001b[39;00m\u001b[38;5;124m,\u001b[39m\u001b[38;5;130;01m\\\u001b[39;00m\n\u001b[1;32m    317\u001b[0m \u001b[38;5;124m        \u001b[39m\u001b[38;5;130;01m\\n\u001b[39;00m\u001b[38;5;124m    angle_tolerance=\u001b[39m\u001b[38;5;132;01m{\u001b[39;00m\u001b[38;5;28mself\u001b[39m\u001b[38;5;241m.\u001b[39mangle_tolerance\u001b[38;5;132;01m}\u001b[39;00m\u001b[38;5;124m,\u001b[39m\u001b[38;5;130;01m\\\u001b[39;00m\n\u001b[1;32m    318\u001b[0m \u001b[38;5;124m        \u001b[39m\u001b[38;5;130;01m\\n\u001b[39;00m\u001b[38;5;124m    max_attempts_number=\u001b[39m\u001b[38;5;132;01m{\u001b[39;00m\u001b[38;5;28mself\u001b[39m\u001b[38;5;241m.\u001b[39mmax_attempts_number\u001b[38;5;132;01m}\u001b[39;00m\u001b[38;5;124m,\u001b[39m\u001b[38;5;130;01m\\\u001b[39;00m\n\u001b[1;32m    319\u001b[0m \u001b[38;5;124m        \u001b[39m\u001b[38;5;130;01m\\n\u001b[39;00m\u001b[38;5;124m    lattice=\u001b[39m\u001b[38;5;132;01m{\u001b[39;00m\u001b[38;5;124m'\u001b[39m\u001b[38;5;124m...\u001b[39m\u001b[38;5;124m'\u001b[39m \u001b[38;5;28;01mif\u001b[39;00m \u001b[38;5;28mself\u001b[39m\u001b[38;5;241m.\u001b[39m_lattice \u001b[38;5;129;01mis\u001b[39;00m \u001b[38;5;129;01mnot\u001b[39;00m \u001b[38;5;28;01mNone\u001b[39;00m \u001b[38;5;28;01melse\u001b[39;00m \u001b[38;5;28;01mNone\u001b[39;00m\u001b[38;5;132;01m}\u001b[39;00m\u001b[38;5;124m,\u001b[39m\u001b[38;5;130;01m\\\u001b[39;00m\n\u001b[1;32m    320\u001b[0m \u001b[38;5;124m        \u001b[39m\u001b[38;5;130;01m\\n\u001b[39;00m\u001b[38;5;124m    empirical_coords=\u001b[39m\u001b[38;5;132;01m{\u001b[39;00m\u001b[38;5;124m'\u001b[39m\u001b[38;5;124m...\u001b[39m\u001b[38;5;124m'\u001b[39m \u001b[38;5;28;01mif\u001b[39;00m \u001b[38;5;28mself\u001b[39m\u001b[38;5;241m.\u001b[39m_empirical_coords \u001b[38;5;129;01mis\u001b[39;00m \u001b[38;5;129;01mnot\u001b[39;00m \u001b[38;5;28;01mNone\u001b[39;00m \u001b[38;5;28;01melse\u001b[39;00m \u001b[38;5;28;01mNone\u001b[39;00m\u001b[38;5;132;01m}\u001b[39;00m\u001b[38;5;124m,\u001b[39m\u001b[38;5;130;01m\\\u001b[39;00m\n\u001b[1;32m    321\u001b[0m \u001b[38;5;124m        \u001b[39m\u001b[38;5;130;01m\\n\u001b[39;00m\u001b[38;5;124m    empirical_coords_variance=\u001b[39m\u001b[38;5;132;01m{\u001b[39;00m\u001b[38;5;28mself\u001b[39m\u001b[38;5;241m.\u001b[39mempirical_coords_variance\u001b[38;5;132;01m}\u001b[39;00m\u001b[38;5;124m,\u001b[39m\u001b[38;5;130;01m\\\u001b[39;00m\n\u001b[1;32m    322\u001b[0m \u001b[38;5;124m        \u001b[39m\u001b[38;5;130;01m\\n\u001b[39;00m\u001b[38;5;124m    empirical_coords_sampling_rate=\u001b[39m\u001b[38;5;132;01m{\u001b[39;00m\u001b[38;5;28mself\u001b[39m\u001b[38;5;241m.\u001b[39mempirical_coords_sampling_rate\u001b[38;5;132;01m}\u001b[39;00m\u001b[38;5;124m,\u001b[39m\u001b[38;5;130;01m\\\u001b[39;00m\n\u001b[1;32m    323\u001b[0m \u001b[38;5;124m        \u001b[39m\u001b[38;5;130;01m\\n\u001b[39;00m\u001b[38;5;124m    empirical_coords_loose_sampling=\u001b[39m\u001b[38;5;132;01m{\u001b[39;00m\u001b[38;5;28mself\u001b[39m\u001b[38;5;241m.\u001b[39mempirical_coords_loose_sampling\u001b[38;5;132;01m}\u001b[39;00m\u001b[38;5;124m,\u001b[39m\u001b[38;5;130;01m\\\u001b[39;00m\n\u001b[0;32m--> 324\u001b[0m \u001b[38;5;124m        \u001b[39m\u001b[38;5;130;01m\\n\u001b[39;00m\u001b[38;5;124m    verbose=\u001b[39m\u001b[38;5;132;01m{\u001b[39;00m\u001b[38;5;28mself\u001b[39m\u001b[38;5;241m.\u001b[39mverbose\u001b[38;5;132;01m}\u001b[39;00m\u001b[38;5;130;01m\\\u001b[39;00m\n\u001b[1;32m    325\u001b[0m \u001b[38;5;124m        \u001b[39m\u001b[38;5;130;01m\\n\u001b[39;00m\u001b[38;5;124m    n_jobs=\u001b[39m\u001b[38;5;132;01m{\u001b[39;00m\u001b[38;5;28mself\u001b[39m\u001b[38;5;241m.\u001b[39mn_jobs\u001b[38;5;132;01m}\u001b[39;00m\u001b[38;5;130;01m\\\u001b[39;00m\n\u001b[1;32m    326\u001b[0m \u001b[38;5;124m        \u001b[39m\u001b[38;5;130;01m\\n\u001b[39;00m\u001b[38;5;124m)\u001b[39m\u001b[38;5;124m\"\u001b[39m\n",
      "\u001b[0;31mAttributeError\u001b[0m: 'CrystalGenerator' object has no attribute 'verbose'"
     ]
    }
   ],
   "source": [
    "volume_of_cell = 127.170256\n",
    "variance_of_volume = 20.\n",
    "sp_num = 167\n",
    "\n",
    "cg = CrystalGenerator(sp_num, volume_of_cell, variance_of_volume)\n",
    "cg"
   ]
  },
  {
   "cell_type": "markdown",
   "metadata": {},
   "source": [
    "Like the `WyckoffCfgGenerator`, there are also `gen_one`, `gen_many`, and `gen_may_iter` methods attached with `CrystalGenerator` object. Let's ues the `gen_one` method for a quick try."
   ]
  },
  {
   "cell_type": "code",
   "execution_count": 13,
   "metadata": {},
   "outputs": [
    {
     "data": {
      "text/plain": [
       "\u001b[0;31mSignature:\u001b[0m\n",
       "\u001b[0mcg\u001b[0m\u001b[0;34m.\u001b[0m\u001b[0mgen_one\u001b[0m\u001b[0;34m(\u001b[0m\u001b[0;34m\u001b[0m\n",
       "\u001b[0;34m\u001b[0m    \u001b[0;34m*\u001b[0m\u001b[0;34m,\u001b[0m\u001b[0;34m\u001b[0m\n",
       "\u001b[0;34m\u001b[0m    \u001b[0mcheck_distance\u001b[0m\u001b[0;34m:\u001b[0m \u001b[0mbool\u001b[0m \u001b[0;34m=\u001b[0m \u001b[0;32mTrue\u001b[0m\u001b[0;34m,\u001b[0m\u001b[0;34m\u001b[0m\n",
       "\u001b[0;34m\u001b[0m    \u001b[0mdistance_scale_factor\u001b[0m\u001b[0;34m:\u001b[0m \u001b[0mfloat\u001b[0m \u001b[0;34m=\u001b[0m \u001b[0;36m0.1\u001b[0m\u001b[0;34m,\u001b[0m\u001b[0;34m\u001b[0m\n",
       "\u001b[0;34m\u001b[0m    \u001b[0;34m**\u001b[0m\u001b[0mcfg\u001b[0m\u001b[0;34m:\u001b[0m \u001b[0mDict\u001b[0m\u001b[0;34m[\u001b[0m\u001b[0mstr\u001b[0m\u001b[0;34m,\u001b[0m \u001b[0mTuple\u001b[0m\u001b[0;34m[\u001b[0m\u001b[0mstr\u001b[0m\u001b[0;34m]\u001b[0m\u001b[0;34m]\u001b[0m\u001b[0;34m,\u001b[0m\u001b[0;34m\u001b[0m\n",
       "\u001b[0;34m\u001b[0m\u001b[0;34m)\u001b[0m\u001b[0;34m\u001b[0m\u001b[0;34m\u001b[0m\u001b[0m\n",
       "\u001b[0;31mDocstring:\u001b[0m\n",
       "Try to generate a legal crystal structure with given configuration set.\n",
       "\n",
       "Parameters\n",
       "----------\n",
       "check_distance: bool, optional\n",
       "    Whether the atomic distance should be checked. default ``True``\n",
       "distance_scale_factor : float, optional\n",
       "    Scale factor to determine the tolerance of atomic distances when distance checking. Unit is Å,\n",
       "    When ``check_distance`` is ``True``, Any structure has\n",
       "    all_atomic_distance < (A_atom_covalent_radius + B_atom_covalent_radius) * (1 - distance_scale_factor) will be rejected,\n",
       "    by default 0.1\n",
       "**cfg: Dict[str, Tuple[str]]\n",
       "    Wyckoff Configuration set, which is a dict with format like:\n",
       "    {\"Li\": [\"a\", \"c\"], \"O\": [\"i\"]}. Here, the \"Li\" is an available element\n",
       "    symbol and [\"a\", \"c\"] is a list which contains coresponding Wyckoff\n",
       "    letters. For convenience, dict will be sorted by keys.\n",
       "\n",
       "Returns\n",
       "-------\n",
       "Dict\n",
       "    Structure information contains ``spacegroup_mun: int``,\n",
       "    ``volume: float``, ``lattice: list``, ``wyckoff_letters: list``,\n",
       "    and ``coords: list``.\n",
       "\u001b[0;31mFile:\u001b[0m      /usr/local/miniconda3/envs/crystallus/lib/python3.7/site-packages/crystallus/crystal_generator.py\n",
       "\u001b[0;31mType:\u001b[0m      method\n"
      ]
     },
     "metadata": {},
     "output_type": "display_data"
    }
   ],
   "source": [
    "cg.gen_one?"
   ]
  },
  {
   "cell_type": "markdown",
   "metadata": {},
   "source": [
    "All `gen_xxx` methods consume Wyckoff configurations to generate crystal structures. Please note the parameter `distance_scale_factor`, generator use this parameter to determine the acceptabel atomic distance. Here is the accept condition:\n",
    "> distance between atom `a` and `b` > (radius of `a` + radius of `b`) x (1 – `distance_scale_factor`).\n",
    "\n",
    "If the generator cannot generate any structure after multiple attempts, you can try to relax the atomic distance constraint by increasing this parameter."
   ]
  },
  {
   "cell_type": "code",
   "execution_count": 22,
   "metadata": {
    "tags": []
   },
   "outputs": [
    {
     "name": "stdout",
     "output_type": "stream",
     "text": [
      "CPU times: user 101 µs, sys: 1e+03 ns, total: 102 µs\n",
      "Wall time: 105 µs\n"
     ]
    },
    {
     "data": {
      "text/plain": [
       "{'spacegroup_num': 167,\n",
       " 'volume': 120.08597186492635,\n",
       " 'lattice': [[4.932912846778897, 0.0, 0.3835001248470154],\n",
       "  [0.35484281230671005, 4.920133710832515, 0.3835001248470154],\n",
       "  [0.0, 0.0, 4.947797641342455]],\n",
       " 'species': ['C', 'C', 'Ca', 'Ca', 'O', 'O', 'O', 'O', 'O', 'O'],\n",
       " 'wyckoff_letters': ['b', 'b', 'a', 'a', 'e', 'e', 'e', 'e', 'e', 'e'],\n",
       " 'coords': [[0.0, 0.0, 0.0],\n",
       "  [0.5, 0.5, 0.5],\n",
       "  [0.25, 0.25, 0.25],\n",
       "  [0.75, 0.75, 0.75],\n",
       "  [0.8205210681590107, 0.6794789318409893, 0.25],\n",
       "  [0.25, 0.8205210681590107, 0.6794789318409893],\n",
       "  [0.6794789318409893, 0.25, 0.8205210681590107],\n",
       "  [0.1794789318409893, 0.3205210681590107, 0.75],\n",
       "  [0.75, 0.1794789318409893, 0.3205210681590107],\n",
       "  [0.3205210681590107, 0.75, 0.1794789318409893]]}"
      ]
     },
     "execution_count": 22,
     "metadata": {},
     "output_type": "execute_result"
    }
   ],
   "source": [
    "%%time\n",
    "\n",
    "cfgs[sp_num][0]\n",
    "\n",
    "raw_s = cg.gen_one(**cfgs[sp_num][0])\n",
    "raw_s"
   ]
  },
  {
   "cell_type": "markdown",
   "metadata": {},
   "source": [
    "The result is a dict contains `species`, `lattice`, `coords` and other information. These information can be used to build the  `pymatgen.Structure` and `ase.Structure` object."
   ]
  },
  {
   "cell_type": "code",
   "execution_count": 15,
   "metadata": {},
   "outputs": [
    {
     "data": {
      "text/plain": [
       "Structure Summary\n",
       "Lattice\n",
       "    abc : 5.4596917915621965 5.4596917915621965 5.4596917915621965\n",
       " angles : 85.05026616421641 85.05026616421641 85.05026616421641\n",
       " volume : 161.02187020709744\n",
       "      A : 5.439331385109984 0.0 0.47107169497766643\n",
       "      B : 0.4320379763826813 5.422146171397969 0.47107169497766643\n",
       "      C : 0.0 0.0 5.4596917915621965\n",
       "PeriodicSite: C (1.4678, 1.3555, 1.6005) [0.2500, 0.2500, 0.2500]\n",
       "PeriodicSite: C (4.4035, 4.0666, 4.8014) [0.7500, 0.7500, 0.7500]\n",
       "PeriodicSite: Ca (0.0000, 0.0000, 0.0000) [0.0000, 0.0000, 0.0000]\n",
       "PeriodicSite: Ca (2.9357, 2.7111, 3.2009) [0.5000, 0.5000, 0.5000]\n",
       "PeriodicSite: O (3.4023, 5.1508, 2.0715) [0.5500, 0.9500, 0.2500]\n",
       "PeriodicSite: O (1.5975, 2.9824, 5.5634) [0.2500, 0.5500, 0.9500]\n",
       "PeriodicSite: O (5.2752, 1.3555, 3.5683) [0.9500, 0.2500, 0.5500]\n",
       "PeriodicSite: O (2.4691, 0.2713, 4.3303) [0.4500, 0.0500, 0.7500]\n",
       "PeriodicSite: O (4.2739, 2.4398, 0.8385) [0.7500, 0.4500, 0.0500]\n",
       "PeriodicSite: O (0.5962, 4.0666, 2.8335) [0.0500, 0.7500, 0.4500]"
      ]
     },
     "execution_count": 15,
     "metadata": {},
     "output_type": "execute_result"
    }
   ],
   "source": [
    "from pymatgen import Structure\n",
    "\n",
    "s = Structure(lattice=raw_s['lattice'], species=raw_s['species'], coords=raw_s['coords'])\n",
    "s"
   ]
  },
  {
   "cell_type": "markdown",
   "metadata": {},
   "source": [
    "The following is batched generation."
   ]
  },
  {
   "cell_type": "code",
   "execution_count": 16,
   "metadata": {
    "tags": []
   },
   "outputs": [
    {
     "name": "stdout",
     "output_type": "stream",
     "text": [
      "type of raw_ss: <class 'tuple'>, size: 131\n",
      "CPU times: user 17.3 ms, sys: 3.69 ms, total: 21 ms\n",
      "Wall time: 5.32 ms\n"
     ]
    }
   ],
   "source": [
    "%%time\n",
    "\n",
    "raw_ss = cg.gen_many(100, *cfgs[sp_num])\n",
    "\n",
    "print(f\"type of raw_ss: {raw_ss.__class__}, size: {len(raw_ss)}\")"
   ]
  },
  {
   "cell_type": "markdown",
   "metadata": {},
   "source": [
    "Also, the iterative version"
   ]
  },
  {
   "cell_type": "code",
   "execution_count": 17,
   "metadata": {
    "tags": []
   },
   "outputs": [
    {
     "data": {
      "application/vnd.jupyter.widget-view+json": {
       "model_id": "9a5a43fa49164a8d9dfe3219c1b90182",
       "version_major": 2,
       "version_minor": 0
      },
      "text/plain": [
       "HBox(children=(HTML(value=''), FloatProgress(value=0.0, max=4.0), HTML(value='')))"
      ]
     },
     "metadata": {},
     "output_type": "display_data"
    },
    {
     "name": "stdout",
     "output_type": "stream",
     "text": [
      "configuration: {'C': ['a'], 'Ca': ['b'], 'O': ['e']}, size of structures: 127\n",
      "configuration: {'C': ['b'], 'Ca': ['a'], 'O': ['e']}, size of structures: 82\n",
      "configuration: {'C': ['b'], 'Ca': ['a'], 'O': ['d']}, size of structures: 18\n",
      "configuration: {'C': ['a'], 'Ca': ['b'], 'O': ['d']}, size of structures: 449\n",
      "\n",
      "CPU times: user 123 ms, sys: 10.5 ms, total: 133 ms\n",
      "Wall time: 66.9 ms\n"
     ]
    }
   ],
   "source": [
    "%%time\n",
    "\n",
    "with tqdm(total=len(cfgs[sp_num])) as pbar:\n",
    "    for cfg, structures in cg.gen_many_iter(500, *cfgs[sp_num]):\n",
    "        print(f'configuration: {cfg}, size of structures: {len(structures)}')\n",
    "        pbar.update()"
   ]
  },
  {
   "cell_type": "code",
   "execution_count": null,
   "metadata": {},
   "outputs": [],
   "source": []
  }
 ],
 "metadata": {
  "kernelspec": {
   "display_name": "Python 3 (ipykernel)",
   "language": "python",
   "name": "python3"
  },
  "language_info": {
   "codemirror_mode": {
    "name": "ipython",
    "version": 3
   },
   "file_extension": ".py",
   "mimetype": "text/x-python",
   "name": "python",
   "nbconvert_exporter": "python",
   "pygments_lexer": "ipython3",
   "version": "3.9.12"
  }
 },
 "nbformat": 4,
 "nbformat_minor": 4
}
