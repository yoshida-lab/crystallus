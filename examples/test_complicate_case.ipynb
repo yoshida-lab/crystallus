{
 "cells": [
  {
   "cell_type": "code",
   "execution_count": 1,
   "metadata": {},
   "outputs": [],
   "source": [
    "# user-friendly print\n",
    "from IPython.core.interactiveshell import InteractiveShell\n",
    "InteractiveShell.ast_node_interactivity = \"all\"\n",
    "\n",
    "import numpy as np\n",
    "\n",
    "from collections import defaultdict\n",
    "from crystallus import pbc_all_distances, CrystalGenerator, WyckoffCfgGenerator\n",
    "from pymatgen import Structure\n",
    "from pymatgen.analysis.structure_analyzer import SpacegroupAnalyzer"
   ]
  },
  {
   "cell_type": "markdown",
   "metadata": {},
   "source": [
    "Re-generate with same wyckoff positions"
   ]
  },
  {
   "cell_type": "code",
   "execution_count": null,
   "metadata": {},
   "outputs": [],
   "source": [
    "struct = Structure.from_file('178_224.cif')\n",
    "analyzer = SpacegroupAnalyzer(struct)\n",
    "sym_info = analyzer.get_symmetry_dataset()"
   ]
  },
  {
   "cell_type": "code",
   "execution_count": null,
   "metadata": {},
   "outputs": [],
   "source": [
    "species = [str(s) for s in struct.species]\n",
    "wyckoffs = sym_info['wyckoffs']\n",
    "\n",
    "cfg = defaultdict(list)\n",
    "\n",
    "for e, wy in zip(species, wyckoffs):\n",
    "    if wy not in cfg[e]:\n",
    "        cfg[e].append(wy)\n",
    "        \n",
    "cfg"
   ]
  },
  {
   "cell_type": "code",
   "execution_count": null,
   "metadata": {},
   "outputs": [],
   "source": [
    "cg = CrystalGenerator(\n",
    "    spacegroup_num=sym_info['number'],\n",
    "    estimated_volume=922,\n",
    "    estimated_variance=15,\n",
    "    min_distance_tolerance=0.1,\n",
    "    max_recurrent=5_000,\n",
    "    verbose=True)\n",
    "cg"
   ]
  },
  {
   "cell_type": "code",
   "execution_count": 5,
   "metadata": {},
   "outputs": [
    {
     "ename": "ValueError",
     "evalue": "crystal generator error: `reached the max recurrent number, please try to set `estimated_volume` and/or `min_distance_tolerance` bigger. (in crystal structure generation)`",
     "output_type": "error",
     "traceback": [
      "\u001b[0;31m---------------------------------------------------------------------------\u001b[0m",
      "\u001b[0;31mValueError\u001b[0m                                Traceback (most recent call last)",
      "\u001b[0;32m<ipython-input-5-cb91b261ee09>\u001b[0m in \u001b[0;36m<module>\u001b[0;34m\u001b[0m\n\u001b[0;32m----> 1\u001b[0;31m \u001b[0mcg\u001b[0m\u001b[0;34m.\u001b[0m\u001b[0mgen_one\u001b[0m\u001b[0;34m(\u001b[0m\u001b[0;34m**\u001b[0m\u001b[0mcfg\u001b[0m\u001b[0;34m)\u001b[0m\u001b[0;34m\u001b[0m\u001b[0;34m\u001b[0m\u001b[0m\n\u001b[0m",
      "\u001b[0;32m/usr/local/miniconda3/envs/crystallus/lib/python3.7/site-packages/crystallus/crystal_generator.py\u001b[0m in \u001b[0;36mgen_one\u001b[0;34m(self, check_distance, **cfg)\u001b[0m\n\u001b[1;32m    131\u001b[0m             \u001b[0;32mand\u001b[0m\u001b[0;31m \u001b[0m\u001b[0;31m`\u001b[0m\u001b[0;31m`\u001b[0m\u001b[0mcoords\u001b[0m\u001b[0;34m:\u001b[0m \u001b[0mlist\u001b[0m\u001b[0;31m`\u001b[0m\u001b[0;31m`\u001b[0m\u001b[0;34m.\u001b[0m\u001b[0;34m\u001b[0m\u001b[0;34m\u001b[0m\u001b[0m\n\u001b[1;32m    132\u001b[0m         \"\"\"\n\u001b[0;32m--> 133\u001b[0;31m         \u001b[0;32mreturn\u001b[0m \u001b[0mself\u001b[0m\u001b[0;34m.\u001b[0m\u001b[0m_cg\u001b[0m\u001b[0;34m.\u001b[0m\u001b[0mgen_one\u001b[0m\u001b[0;34m(\u001b[0m\u001b[0mcheck_distance\u001b[0m\u001b[0;34m,\u001b[0m \u001b[0;34m**\u001b[0m\u001b[0mcfg\u001b[0m\u001b[0;34m)\u001b[0m\u001b[0;34m\u001b[0m\u001b[0;34m\u001b[0m\u001b[0m\n\u001b[0m\u001b[1;32m    134\u001b[0m \u001b[0;34m\u001b[0m\u001b[0m\n\u001b[1;32m    135\u001b[0m     def gen_many(\n",
      "\u001b[0;31mValueError\u001b[0m: crystal generator error: `reached the max recurrent number, please try to set `estimated_volume` and/or `min_distance_tolerance` bigger. (in crystal structure generation)`"
     ]
    }
   ],
   "source": [
    "cg.gen_one(**cfg)"
   ]
  },
  {
   "cell_type": "markdown",
   "metadata": {},
   "source": [
    "Test `Ag32Ge4S24`.\n",
    "\n",
    "* Spacegroup 33\n",
    "* Wyckoff positions:\n",
    "    (x,y,z) (-x,-y,z+1/2) (x+1/2,-y+1/2,z) (-x+1/2,y+1/2,z+1/2)\n",
    "* Ground truth:\n",
    "    {Ag: 4a * 8, Ge: 4a, S: 4a * 5}"
   ]
  },
  {
   "cell_type": "code",
   "execution_count": 6,
   "metadata": {},
   "outputs": [
    {
     "data": {
      "text/plain": [
       "WyckoffCfgGenerator(            \n",
       "    max_recurrent=1000,            \n",
       "    n_jobs=-1            \n",
       "    composition={'Ag': 32, 'Ge': 4, 'S': 24}            \n",
       ")"
      ]
     },
     "execution_count": 6,
     "metadata": {},
     "output_type": "execute_result"
    }
   ],
   "source": [
    "wg = WyckoffCfgGenerator(Ag=32, Ge=4, S=24)\n",
    "wg"
   ]
  },
  {
   "cell_type": "code",
   "execution_count": 7,
   "metadata": {},
   "outputs": [
    {
     "data": {
      "text/plain": [
       "[{'Ag': ['a', 'a', 'a', 'a', 'a', 'a', 'a', 'a'],\n",
       "  'Ge': ['a'],\n",
       "  'S': ['a', 'a', 'a', 'a', 'a', 'a']}]"
      ]
     },
     "execution_count": 7,
     "metadata": {},
     "output_type": "execute_result"
    }
   ],
   "source": [
    "cfgs = wg.gen_many(1000, 33)\n",
    "cfgs"
   ]
  },
  {
   "cell_type": "markdown",
   "metadata": {},
   "source": [
    "Because the space group 33 only has one position set, even if we want to find various Wyckoff configurations, the result has one configuration."
   ]
  },
  {
   "cell_type": "code",
   "execution_count": 8,
   "metadata": {},
   "outputs": [
    {
     "data": {
      "text/plain": [
       "CrystalGenerator(            \n",
       "    spacegroup_num=33,            \n",
       "    estimated_volume=1168.45459,            \n",
       "    estimated_variance=15,            \n",
       "    min_distance_tolerance=0.1,            \n",
       "    angle_range=(30.0, 150.0),            \n",
       "    angle_tolerance=20.0,            \n",
       "    max_recurrent=50000,            \n",
       "    n_jobs=-1            \n",
       ")"
      ]
     },
     "execution_count": 8,
     "metadata": {},
     "output_type": "execute_result"
    }
   ],
   "source": [
    "cg = CrystalGenerator(\n",
    "    spacegroup_num=33,\n",
    "    estimated_volume=1168.454590,\n",
    "    estimated_variance=15,\n",
    "    min_distance_tolerance=0.1,\n",
    "    max_recurrent=50_000,\n",
    "    verbose=True)\n",
    "cg"
   ]
  },
  {
   "cell_type": "code",
   "execution_count": 14,
   "metadata": {},
   "outputs": [
    {
     "name": "stdout",
     "output_type": "stream",
     "text": [
      "CPU times: user 745 µs, sys: 832 µs, total: 1.58 ms\n",
      "Wall time: 362 µs\n"
     ]
    }
   ],
   "source": [
    "%%time\n",
    "\n",
    "raw_ss = cg.gen_many(3, cfgs[0], check_distance=False)"
   ]
  },
  {
   "cell_type": "code",
   "execution_count": 16,
   "metadata": {},
   "outputs": [],
   "source": [
    "for i, raw_s in enumerate(raw_ss):\n",
    "    Structure(lattice=raw_s['lattice'], species=raw_s['species'], coords=raw_s['coords']).to('cif', filename=f'Ag32Ge4S24/{i}.cif')"
   ]
  },
  {
   "cell_type": "code",
   "execution_count": null,
   "metadata": {},
   "outputs": [],
   "source": []
  }
 ],
 "metadata": {
  "kernelspec": {
   "display_name": "Python 3",
   "language": "python",
   "name": "python3"
  },
  "language_info": {
   "codemirror_mode": {
    "name": "ipython",
    "version": 3
   },
   "file_extension": ".py",
   "mimetype": "text/x-python",
   "name": "python",
   "nbconvert_exporter": "python",
   "pygments_lexer": "ipython3",
   "version": "3.7.7"
  }
 },
 "nbformat": 4,
 "nbformat_minor": 4
}
