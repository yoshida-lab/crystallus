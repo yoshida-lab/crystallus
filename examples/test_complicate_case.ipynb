{
 "cells": [
  {
   "cell_type": "code",
   "execution_count": 3,
   "metadata": {},
   "outputs": [],
   "source": [
    "# user-friendly print\n",
    "from IPython.core.interactiveshell import InteractiveShell\n",
    "InteractiveShell.ast_node_interactivity = \"all\"\n",
    "\n",
    "import numpy as np\n",
    "import pandas as pd\n",
    "from joblib import Parallel, delayed\n",
    "\n",
    "from matplotlib import pyplot as plt\n",
    "from matplotlib.ticker import FormatStrFormatter, PercentFormatter\n",
    "from collections import defaultdict\n",
    "from crystallus import __version__, CrystalGenerator, WyckoffCfgGenerator\n",
    "from crystallus.utils import WyckoffPositionConverter, build_structure, get_equivalent_coords \n",
    "from pymatgen.core import Structure\n",
    "from pymatgen.analysis.structure_analyzer import SpacegroupAnalyzer"
   ]
  },
  {
   "cell_type": "markdown",
   "metadata": {},
   "source": [
    "#### functions"
   ]
  },
  {
   "cell_type": "code",
   "execution_count": 5,
   "metadata": {},
   "outputs": [],
   "source": [
    "from typing import List\n",
    "\n",
    "def structure_dissimilarity(anchor_structure: Structure,\n",
    "                            other_structures: List[Structure],\n",
    "                            *,\n",
    "                            verbose: int = 1,\n",
    "                            n_jobs: int = 1):\n",
    "    \"\"\"Calculate dissimilarity between anchor and other structures.\n",
    "    Parameters\n",
    "    ----------\n",
    "    anchor_structure:\n",
    "        Anchor structure\n",
    "    other_structures:\n",
    "        Structures will be used to calculate the dissimilarity against the anchor structure.\n",
    "    verbose:\n",
    "        Verbose output when performing parallel calculation, by default 1\n",
    "    n_jobs:\n",
    "        Specify the number of cores for parallel calculation, by default 1\n",
    "    Returns\n",
    "    -------\n",
    "    list\n",
    "        List of dissimilarities.\n",
    "    \"\"\"\n",
    "    # Calculate structure fingerprints.\n",
    "    ssf = SiteStatsFingerprint(CrystalNNFingerprint.from_preset('ops',\n",
    "                                                                distance_cutoffs=None,\n",
    "                                                                x_diff_weight=0),\n",
    "                               stats=('mean', 'std_dev', 'minimum', 'maximum'))\n",
    "    v_anchor = np.array(ssf.featurize(anchor_structure))\n",
    "    tmp = Parallel(n_jobs=n_jobs,\n",
    "                   verbose=verbose)(delayed(ssf.featurize)(s) for s in other_structures)\n",
    "    return [np.linalg.norm(np.array(s) - v_anchor) for s in tmp]"
   ]
  },
  {
   "cell_type": "markdown",
   "metadata": {},
   "source": [
    "## Test case: `Ag32Ge4S24`.\n",
    "\n",
    "* Spacegroup 33\n",
    "* Wyckoff positions:\n",
    "    (x,y,z) (-x,-y,z+1/2) (x+1/2,-y+1/2,z) (-x+1/2,y+1/2,z+1/2)\n",
    "* Ground truth:\n",
    "    {Ag: 4a \\* 8, Ge: 4a, S: 4a \\* 5}"
   ]
  },
  {
   "cell_type": "code",
   "execution_count": 7,
   "metadata": {},
   "outputs": [
    {
     "name": "stdout",
     "output_type": "stream",
     "text": [
      "abc:  (15.313245, 7.626161, 10.743155)\n",
      "angles:  (90.0, 90.0, 90.0)\n"
     ]
    }
   ],
   "source": [
    "ground_truth = Structure.from_file('cifs/mp-9770.cif')\n",
    "\n",
    "print('abc: ', ground_truth.lattice.abc)\n",
    "print('angles: ', ground_truth.lattice.angles)"
   ]
  },
  {
   "cell_type": "code",
   "execution_count": 8,
   "metadata": {},
   "outputs": [
    {
     "data": {
      "text/plain": [
       "WyckoffCfgGenerator(            \n",
       "    max_recurrent=1000,            \n",
       "    n_jobs=-1            \n",
       "    priority=None            \n",
       "    composition={'Ag': 32, 'Ge': 4, 'S': 24}            \n",
       ")"
      ]
     },
     "execution_count": 8,
     "metadata": {},
     "output_type": "execute_result"
    }
   ],
   "source": [
    "wg = WyckoffCfgGenerator(Ag=32, Ge=4, S=24)\n",
    "wg"
   ]
  },
  {
   "cell_type": "code",
   "execution_count": 10,
   "metadata": {},
   "outputs": [
    {
     "data": {
      "text/plain": [
       "[{'Ag': ['a', 'a', 'a', 'a', 'a', 'a', 'a', 'a'],\n",
       "  'Ge': ['a'],\n",
       "  'S': ['a', 'a', 'a', 'a', 'a', 'a']}]"
      ]
     },
     "execution_count": 10,
     "metadata": {},
     "output_type": "execute_result"
    }
   ],
   "source": [
    "cfgs = wg.gen_many(1000, spacegroup_num=33)\n",
    "cfgs"
   ]
  },
  {
   "cell_type": "markdown",
   "metadata": {},
   "source": [
    "Please note that space group 33 only has one Wyckoff position set."
   ]
  },
  {
   "cell_type": "code",
   "execution_count": 11,
   "metadata": {},
   "outputs": [
    {
     "data": {
      "text/plain": [
       "CrystalGenerator(            \n",
       "    spacegroup_num=33,            \n",
       "    volume_of_cell=1168.45459,            \n",
       "    variance_of_volume=15,            \n",
       "    angle_range=(30.0, 150.0),            \n",
       "    angle_tolerance=20.0,            \n",
       "    max_attempts_number=5000,            \n",
       "    lattice=None,            \n",
       "    empirical_coords=None,            \n",
       "    empirical_coords_variance=0.01,            \n",
       "    empirical_coords_sampling_rate=1.0,            \n",
       "    empirical_coords_loose_sampling=True,            \n",
       "    verbose=False            \n",
       "    n_jobs=-1            \n",
       ")"
      ]
     },
     "execution_count": 11,
     "metadata": {},
     "output_type": "execute_result"
    }
   ],
   "source": [
    "cg = CrystalGenerator(\n",
    "    spacegroup_num=33,\n",
    "    volume_of_cell=1168.454590,\n",
    "    variance_of_volume=15,\n",
    "    verbose=False,\n",
    ")\n",
    "cg"
   ]
  },
  {
   "cell_type": "markdown",
   "metadata": {},
   "source": [
    "## Test in most strict conditional"
   ]
  },
  {
   "cell_type": "code",
   "execution_count": null,
   "metadata": {},
   "outputs": [],
   "source": [
    "%%time\n",
    "\n",
    "expect_size = 100_000_000\n",
    "results = []\n",
    "ret = cg.gen_many(expect_size, cfgs[0], distance_scale_factor=0)\n",
    "len(ret)"
   ]
  },
  {
   "cell_type": "markdown",
   "metadata": {},
   "source": [
    "### Calculate the `distance_scale_factor` dependency"
   ]
  },
  {
   "cell_type": "code",
   "execution_count": null,
   "metadata": {
    "tags": []
   },
   "outputs": [],
   "source": [
    "%%time\n",
    "\n",
    "expect_size = 50_000\n",
    "results = []\n",
    "radius = {\"S\": 1.02, \"Ge\": 1.18, \"Ag\": 1.4}\n",
    "raw = np.array(\n",
    "    [0.0, 0, 2.04, 2.20, 2.42, 2.36, 2.58, 2.8]\n",
    ")\n",
    "\n",
    "for d in np.linspace(0.2, 0.5, 16):\n",
    "    ret = cg.gen_many(expect_size, cfgs[0], distance_scale_factor=d)\n",
    "    ratio = len(ret) / expect_size\n",
    "    raw_ = raw * (1 - d)\n",
    "    raw_[0], raw_[1] = d, ratio\n",
    "    results.append(raw_)"
   ]
  },
  {
   "cell_type": "code",
   "execution_count": null,
   "metadata": {},
   "outputs": [],
   "source": [
    "results = pd.DataFrame(results, columns=['scale', 'proportion', 'S-S', 'S-Ge', 'S-Ag', 'Ge-Ge', 'Ge-Ag', 'Ag-Ag'])\n",
    "results.head(3)"
   ]
  },
  {
   "cell_type": "code",
   "execution_count": null,
   "metadata": {},
   "outputs": [],
   "source": [
    "f, ax_tolerance = plt.subplots(figsize=(10, 6), dpi=150)\n",
    "\n",
    "results.plot.line(x='scale', y=['S-S', 'S-Ge', 'S-Ag', 'Ge-Ge', 'Ge-Ag', 'Ag-Ag'], linestyle='dashed', ax=ax_tolerance)\n",
    "ax_tolerance.set_ylim(0, 2.5)\n",
    "ax_tolerance.set_ylabel('Tolerance for atomic distance')\n",
    "ax_tolerance.set_xlabel('Scale factor')\n",
    "ax_tolerance.legend(loc='lower left', title='distance\\ncondition')\n",
    "ax_tolerance.grid(axis='y')\n",
    "ax_tolerance.xaxis.set_major_formatter(FormatStrFormatter('%.2f'))\n",
    "\n",
    "ax_size= ax_tolerance.twinx()\n",
    "ax_size.bar(results.scale, results.proportion, 0.015)\n",
    "ax_size.yaxis.set_major_formatter(PercentFormatter(1))\n",
    "ax_size.set_ylabel('Proportion of successes')\n",
    "ax_size.set_xlim(0.19, 0.51)\n",
    "\n",
    "# f.savefig('Ag32Ge4S24_generation_analysis.png', bbox_inches='tight', dpi=300)"
   ]
  },
  {
   "cell_type": "markdown",
   "metadata": {},
   "source": [
    "From the result of `distance_scale_factor` dependency. Set the `distance_scale_factor` to `0.45` seems to be a good choice.\n",
    "\n",
    "Finally, let's generate some structures and calculate their dissimilarity with most stable structure."
   ]
  },
  {
   "cell_type": "code",
   "execution_count": null,
   "metadata": {},
   "outputs": [],
   "source": [
    "ground_truth = Structure.from_file('cifs/mp-9770.cif')"
   ]
  },
  {
   "cell_type": "code",
   "execution_count": null,
   "metadata": {},
   "outputs": [],
   "source": [
    "%%time\n",
    "\n",
    "expect_size = 1_000_000\n",
    "cfg = {'Ag': ['a', 'a', 'a', 'a', 'a', 'a', 'a', 'a'],\n",
    " 'Ge': ['a'],\n",
    " 'S': ['a', 'a', 'a', 'a', 'a', 'a']\n",
    "}\n",
    "results = []\n",
    "ret = cg.gen_many(expect_size, cfg, distance_scale_factor=0.45)\n",
    "len(ret)"
   ]
  },
  {
   "cell_type": "code",
   "execution_count": null,
   "metadata": {},
   "outputs": [],
   "source": [
    "structures = Parallel(n_jobs=20, verbose=1)(delayed(build_structure)(s) for s in ret)\n",
    "structures = pd.DataFrame(structures)\n",
    "structures.to_pickle('fully_random_generated_structures.pd.xz')"
   ]
  },
  {
   "cell_type": "code",
   "execution_count": null,
   "metadata": {},
   "outputs": [],
   "source": [
    "dissimilarity = structure_dissimilarity(ground_truth, structures.structure.tolist(), verbose=1, n_jobs=20)\n",
    "structures = structures.assign(dissimilarity=dissimilarity)\n",
    "structures.to_pickle('fully_random_generated_structures.pd.xz')"
   ]
  },
  {
   "cell_type": "code",
   "execution_count": null,
   "metadata": {},
   "outputs": [],
   "source": [
    "f, ax = plt.subplots(dpi=200)\n",
    "structures = pd.read_pickle('fully_random_generated_structures.pd.xz')\n",
    "structures.dissimilarity.plot.hist(ax=ax, title='Fully random')"
   ]
  },
  {
   "cell_type": "markdown",
   "metadata": {},
   "source": [
    "## Generation using empirical atomic coordinates\n",
    "\n",
    "### loose pattern"
   ]
  },
  {
   "cell_type": "code",
   "execution_count": null,
   "metadata": {},
   "outputs": [],
   "source": [
    "ag32ge4s24_like = pd.read_pickle('Ag32Ge4S24_like.pd.xz')\n",
    "ag32ge4s24_like"
   ]
  },
  {
   "cell_type": "markdown",
   "metadata": {},
   "source": [
    "There are five compounds has composition `(4:24:32)` in materials project database. We can use their coordinates as an empirical distribution to help our structure generation. \n",
    "First, let's load all these structures."
   ]
  },
  {
   "cell_type": "code",
   "execution_count": null,
   "metadata": {},
   "outputs": [],
   "source": [
    "ss = [Structure.from_file(f'cifs/{idx}.cif') for idx in ag32ge4s24_like.index[1:]]"
   ]
  },
  {
   "cell_type": "markdown",
   "metadata": {},
   "source": [
    "Before going to the next step, I'd like to explain how to use exist coordinates as empirical coordinate distribution.\n",
    "The most straight forward idea is assigning these coordinates to the generated structures by their Wyckoff position letters. Because Wyckoff position in the international table is written as a set of formulas which are something like this\n",
    "\n",
    "```\n",
    "(x,y,1/2)\t(-y,x-y,1/2)\t(-x+y,-x,1/2)\t(-x,-y,1/2)\n",
    "(y,-x+y,1/2)\t(x-y,x,1/2)\t(y,x,1/2)\t(x-y,-y,1/2)\n",
    "(-x,-x+y,1/2)\t(-y,-x,1/2)\t(-x+y,y,1/2)\t(x,x-y,1/2)\n",
    "```\n",
    "\n",
    "So reuse a real coordinate can roughly be separated into the following steps.\n",
    "\n",
    "1. calculate the equivalent coordinates for each site and get their Wyckoff position letter.\n",
    "2. convert the fraction coordinates `(x, y, z)` into Wyckoff position coordinate `(x', y', z')`.\n",
    "3. use converted coordinate to fulfill a structure.\n",
    "\n",
    "We have prepared tool functions `get_equivalent_coords` and `WyckoffPositionConverter` for you to solve 1) and 2). For 3), this is exactly what the meaning of the parameter `empirical_coords` in `CrystalGenerator`."
   ]
  },
  {
   "cell_type": "code",
   "execution_count": null,
   "metadata": {},
   "outputs": [],
   "source": [
    "get_equivalent_coords?"
   ]
  },
  {
   "cell_type": "code",
   "execution_count": null,
   "metadata": {},
   "outputs": [],
   "source": [
    "equivalent_coords = get_equivalent_coords(ss[0])\n",
    "equivalent_coords"
   ]
  },
  {
   "cell_type": "markdown",
   "metadata": {},
   "source": [
    "convert to Wyckoff position format"
   ]
  },
  {
   "cell_type": "code",
   "execution_count": null,
   "metadata": {},
   "outputs": [],
   "source": [
    "spg_num = equivalent_coords.spacegroup_num[0]\n",
    "converter = WyckoffPositionConverter(spg_num)\n",
    "converter?"
   ]
  },
  {
   "cell_type": "code",
   "execution_count": null,
   "metadata": {},
   "outputs": [],
   "source": [
    "xyzs = converter('wyckoff_letter', 'coordinate', data=equivalent_coords)\n",
    "xyzs"
   ]
  },
  {
   "cell_type": "markdown",
   "metadata": {},
   "source": [
    "Apply 1) and 2) for all these five structures. "
   ]
  },
  {
   "cell_type": "code",
   "execution_count": null,
   "metadata": {},
   "outputs": [],
   "source": [
    "equivalent_coords =  pd.concat([get_equivalent_coords(s) for s in ss])\n",
    "xyzs = converter('wyckoff_letter', 'coordinate', data=equivalent_coords)\n",
    "len(xyzs)"
   ]
  },
  {
   "cell_type": "markdown",
   "metadata": {},
   "source": [
    "Give these coordinates to the generator, and set `empirical_coords_variance` to give each coordinate a perturbation.\n",
    "`empirical_coords_variance` has default value 0.01, and will be used to build normal distribution $N(0, \\textrm{empirical_coords_variance})$ "
   ]
  },
  {
   "cell_type": "code",
   "execution_count": null,
   "metadata": {},
   "outputs": [],
   "source": [
    "cg = CrystalGenerator(\n",
    "    spacegroup_num=spg_num,\n",
    "    volume_of_cell=1254.599172,\n",
    "    variance_of_volume=10,\n",
    "    empirical_coords=xyzs,\n",
    "    empirical_coords_variance=0.02,\n",
    "    verbose=False\n",
    ")\n",
    "cg"
   ]
  },
  {
   "cell_type": "markdown",
   "metadata": {},
   "source": [
    "generation"
   ]
  },
  {
   "cell_type": "code",
   "execution_count": null,
   "metadata": {},
   "outputs": [],
   "source": [
    "%%time\n",
    "\n",
    "expect_size = 1_000_000\n",
    "cfg = {'Ag': ['a', 'a', 'a', 'a', 'a', 'a', 'a', 'a'],\n",
    " 'Ge': ['a'],\n",
    " 'S': ['a', 'a', 'a', 'a', 'a', 'a']\n",
    "}\n",
    "results = []\n",
    "ret = cg.gen_many(expect_size, cfg, distance_scale_factor=0.45)\n",
    "len(ret)"
   ]
  },
  {
   "cell_type": "code",
   "execution_count": null,
   "metadata": {
    "tags": []
   },
   "outputs": [],
   "source": [
    "%%time\n",
    "\n",
    "expect_size = 50_000\n",
    "results = []\n",
    "radius = {\"S\": 1.02, \"Ge\": 1.18, \"Ag\": 1.4}\n",
    "raw = np.array(\n",
    "    [0.0, 0, 2.04, 2.20, 2.42, 2.36, 2.58, 2.8]\n",
    ")\n",
    "\n",
    "for d in np.linspace(0.2, 0.5, 16):\n",
    "    ret = cg.gen_many(expect_size, cfgs[0], distance_scale_factor=d)\n",
    "    ratio = len(ret) / expect_size\n",
    "    raw_ = raw * (1 - d)\n",
    "    raw_[0], raw_[1] = d, ratio\n",
    "    results.append(raw_)"
   ]
  },
  {
   "cell_type": "code",
   "execution_count": null,
   "metadata": {},
   "outputs": [],
   "source": [
    "results = pd.DataFrame(results, columns=['scale', 'proportion', 'S-S', 'S-Ge', 'S-Ag', 'Ge-Ge', 'Ge-Ag', 'Ag-Ag'])\n",
    "f, ax_tolerance = plt.subplots(figsize=(10, 6), dpi=150)\n",
    "\n",
    "results.plot.line(x='scale', y=['S-S', 'S-Ge', 'S-Ag', 'Ge-Ge', 'Ge-Ag', 'Ag-Ag'], linestyle='dashed', ax=ax_tolerance)\n",
    "ax_tolerance.set_ylim(0, 2.5)\n",
    "ax_tolerance.set_ylabel('Tolerance for atomic distance')\n",
    "ax_tolerance.set_xlabel('Scale factor')\n",
    "ax_tolerance.legend(loc='lower left', title='distance\\ncondition')\n",
    "ax_tolerance.grid(axis='y')\n",
    "ax_tolerance.xaxis.set_major_formatter(FormatStrFormatter('%.2f'))\n",
    "\n",
    "ax_size= ax_tolerance.twinx()\n",
    "ax_size.bar(results.scale, results.proportion, 0.015)\n",
    "ax_size.yaxis.set_major_formatter(PercentFormatter(1))\n",
    "ax_size.set_ylabel('Proportion of successes')\n",
    "ax_size.set_xlim(0.19, 0.51)\n",
    "\n",
    "# f.savefig('Ag32Ge4S24_generation_analysis.png', bbox_inches='tight', dpi=300)"
   ]
  },
  {
   "cell_type": "code",
   "execution_count": null,
   "metadata": {},
   "outputs": [],
   "source": [
    "%%time\n",
    "\n",
    "expect_size = 1_000_000\n",
    "cfg = {'Ag': ['a', 'a', 'a', 'a', 'a', 'a', 'a', 'a'],\n",
    " 'Ge': ['a'],\n",
    " 'S': ['a', 'a', 'a', 'a', 'a', 'a']\n",
    "}\n",
    "results = []\n",
    "ret = cg.gen_many(expect_size, cfg, distance_scale_factor=0.45)\n",
    "len(ret)"
   ]
  },
  {
   "cell_type": "code",
   "execution_count": null,
   "metadata": {},
   "outputs": [],
   "source": [
    "structures = Parallel(n_jobs=20, verbose=1)(delayed(build_structure)(s) for s in ret)\n",
    "structures = pd.DataFrame(structures)\n",
    "structures.to_pickle('template_based_generated_structures.pd.xz')"
   ]
  },
  {
   "cell_type": "code",
   "execution_count": null,
   "metadata": {},
   "outputs": [],
   "source": [
    "dissimilarity = structure_dissimilarity(ground_truth, structures.structure.tolist(), verbose=1, n_jobs=20)\n",
    "structures = structures.assign(dissimilarity=dissimilarity)\n",
    "structures.to_pickle('template_based_generated_structures.pd.xz')"
   ]
  },
  {
   "cell_type": "code",
   "execution_count": null,
   "metadata": {},
   "outputs": [],
   "source": [
    "f, ax = plt.subplots(dpi=200)\n",
    "structures = pd.read_pickle('template_based_generated_structures.pd.xz')\n",
    "structures.dissimilarity.plot.hist(ax=ax, title='Loose matching')"
   ]
  },
  {
   "cell_type": "markdown",
   "metadata": {},
   "source": [
    "### in strict pattern"
   ]
  },
  {
   "cell_type": "code",
   "execution_count": null,
   "metadata": {},
   "outputs": [],
   "source": [
    "ag32ge4s24_like"
   ]
  },
  {
   "cell_type": "code",
   "execution_count": null,
   "metadata": {},
   "outputs": [],
   "source": [
    "def mapper(elem, wy, mul):\n",
    "    if elem in ['Ag', 'Li', 'Na']:\n",
    "        return 'Ag'\n",
    "    if elem in ['Ti', 'Si']:\n",
    "        return 'Ge'\n",
    "    return 'S'"
   ]
  },
  {
   "cell_type": "code",
   "execution_count": null,
   "metadata": {},
   "outputs": [],
   "source": [
    "equivalent_coords =  pd.concat([get_equivalent_coords(s, mapper=mapper) for s in ss])\n",
    "xyzs = converter('wyckoff_letter', 'coordinate', 'target_element', data=equivalent_coords)\n",
    "len(xyzs)"
   ]
  },
  {
   "cell_type": "code",
   "execution_count": null,
   "metadata": {},
   "outputs": [],
   "source": [
    "cg = CrystalGenerator(\n",
    "    spacegroup_num=spg_num,\n",
    "    volume_of_cell=1254.599172,\n",
    "    variance_of_volume=10,\n",
    "    empirical_coords=xyzs,\n",
    "    empirical_coords_variance=0.02,\n",
    "    empirical_coords_loose_sampling=False,\n",
    "    verbose=False\n",
    ")\n",
    "cg"
   ]
  },
  {
   "cell_type": "markdown",
   "metadata": {},
   "source": [
    "generation"
   ]
  },
  {
   "cell_type": "code",
   "execution_count": null,
   "metadata": {
    "tags": []
   },
   "outputs": [],
   "source": [
    "%%time\n",
    "\n",
    "expect_size = 50_000\n",
    "results = []\n",
    "radius = {\"S\": 1.02, \"Ge\": 1.18, \"Ag\": 1.4}\n",
    "raw = np.array(\n",
    "    [0.0, 0, 2.04, 2.20, 2.42, 2.36, 2.58, 2.8]\n",
    ")\n",
    "\n",
    "for d in np.linspace(0.2, 0.5, 16):\n",
    "    ret = cg.gen_many(expect_size, cfgs[0], distance_scale_factor=d)\n",
    "    ratio = len(ret) / expect_size\n",
    "    raw_ = raw * (1 - d)\n",
    "    raw_[0], raw_[1] = d, ratio\n",
    "    results.append(raw_)"
   ]
  },
  {
   "cell_type": "code",
   "execution_count": null,
   "metadata": {},
   "outputs": [],
   "source": [
    "results = pd.DataFrame(results, columns=['scale', 'proportion', 'S-S', 'S-Ge', 'S-Ag', 'Ge-Ge', 'Ge-Ag', 'Ag-Ag'])\n",
    "f, ax_tolerance = plt.subplots(figsize=(10, 6), dpi=150)\n",
    "\n",
    "results.plot.line(x='scale', y=['S-S', 'S-Ge', 'S-Ag', 'Ge-Ge', 'Ge-Ag', 'Ag-Ag'], linestyle='dashed', ax=ax_tolerance)\n",
    "ax_tolerance.set_ylim(0, 2.5)\n",
    "ax_tolerance.set_ylabel('Tolerance for atomic distance')\n",
    "ax_tolerance.set_xlabel('Scale factor')\n",
    "ax_tolerance.legend(loc='lower left', title='distance\\ncondition')\n",
    "ax_tolerance.grid(axis='y')\n",
    "ax_tolerance.xaxis.set_major_formatter(FormatStrFormatter('%.2f'))\n",
    "\n",
    "ax_size= ax_tolerance.twinx()\n",
    "ax_size.bar(results.scale, results.proportion, 0.015)\n",
    "ax_size.yaxis.set_major_formatter(PercentFormatter(1))\n",
    "ax_size.set_ylabel('Proportion of successes')\n",
    "ax_size.set_xlim(0.19, 0.51)\n",
    "\n",
    "# f.savefig('Ag32Ge4S24_generation_analysis.png', bbox_inches='tight', dpi=300)"
   ]
  },
  {
   "cell_type": "code",
   "execution_count": null,
   "metadata": {},
   "outputs": [],
   "source": [
    "%%time\n",
    "\n",
    "expect_size = 1_000_000\n",
    "cfg = {'Ag': ['a', 'a', 'a', 'a', 'a', 'a', 'a', 'a'],\n",
    " 'Ge': ['a'],\n",
    " 'S': ['a', 'a', 'a', 'a', 'a', 'a']\n",
    "}\n",
    "results = []\n",
    "ret = cg.gen_many(expect_size, cfg, distance_scale_factor=0.45)\n",
    "len(ret)"
   ]
  },
  {
   "cell_type": "code",
   "execution_count": null,
   "metadata": {},
   "outputs": [],
   "source": [
    "structures = Parallel(n_jobs=20, verbose=1)(delayed(build_structure)(s) for s in ret)\n",
    "structures = pd.DataFrame(structures)\n",
    "structures.to_pickle('strict_generated_structures.pd.xz')"
   ]
  },
  {
   "cell_type": "code",
   "execution_count": null,
   "metadata": {},
   "outputs": [],
   "source": [
    "dissimilarity = structure_dissimilarity(ground_truth, structures.structure.tolist(), verbose=1, n_jobs=20)\n",
    "structures = structures.assign(dissimilarity=dissimilarity)\n",
    "structures.to_pickle('strict_generated_structures.pd.xz')"
   ]
  },
  {
   "cell_type": "code",
   "execution_count": null,
   "metadata": {},
   "outputs": [],
   "source": [
    "f, ax = plt.subplots(dpi=200)\n",
    "structures = pd.read_pickle('strict_generated_structures.pd.xz')\n",
    "structures.dissimilarity.plot.hist(ax=ax, title='Strict matching')"
   ]
  },
  {
   "cell_type": "markdown",
   "metadata": {},
   "source": [
    "### sampling from groundtruth coords"
   ]
  },
  {
   "cell_type": "code",
   "execution_count": null,
   "metadata": {},
   "outputs": [],
   "source": [
    "equivalent_coords = get_equivalent_coords(ground_truth)"
   ]
  },
  {
   "cell_type": "code",
   "execution_count": null,
   "metadata": {},
   "outputs": [],
   "source": [
    "spg_num = equivalent_coords.spacegroup_num[0]\n",
    "converter = WyckoffPositionConverter(spg_num)\n",
    "xyzs = converter('wyckoff_letter', 'coordinate', data=equivalent_coords)\n",
    "len(xyzs)"
   ]
  },
  {
   "cell_type": "code",
   "execution_count": null,
   "metadata": {},
   "outputs": [],
   "source": [
    "# loose pattern\n",
    "\n",
    "cg = CrystalGenerator(\n",
    "    spacegroup_num=spg_num,\n",
    "    volume_of_cell=1254.599172,\n",
    "    variance_of_volume=10,\n",
    "    empirical_coords=xyzs,\n",
    "    empirical_coords_variance=0.,\n",
    "    empirical_coords_loose_sampling=True,\n",
    "    verbose=False\n",
    ")\n",
    "cg"
   ]
  },
  {
   "cell_type": "code",
   "execution_count": null,
   "metadata": {
    "tags": []
   },
   "outputs": [],
   "source": [
    "%%time\n",
    "\n",
    "expect_size = 50_000\n",
    "results = []\n",
    "radius = {\"S\": 1.02, \"Ge\": 1.18, \"Ag\": 1.4}\n",
    "raw = np.array(\n",
    "    [0.0, 0, 2.04, 2.20, 2.42, 2.36, 2.58, 2.8]\n",
    ")\n",
    "\n",
    "for d in np.linspace(0.2, 0.5, 16):\n",
    "    ret = cg.gen_many(expect_size, cfgs[0], distance_scale_factor=d)\n",
    "    ratio = len(ret) / expect_size\n",
    "    raw_ = raw * (1 - d)\n",
    "    raw_[0], raw_[1] = d, ratio\n",
    "    results.append(raw_)"
   ]
  },
  {
   "cell_type": "code",
   "execution_count": null,
   "metadata": {},
   "outputs": [],
   "source": [
    "results = pd.DataFrame(results, columns=['scale', 'proportion', 'S-S', 'S-Ge', 'S-Ag', 'Ge-Ge', 'Ge-Ag', 'Ag-Ag'])\n",
    "f, ax_tolerance = plt.subplots(figsize=(10, 6), dpi=150)\n",
    "\n",
    "# results.plot.line(x='scale', y=['S-S', 'S-Ge', 'S-Ag', 'Ge-Ge', 'Ge-Ag', 'Ag-Ag'], linestyle='dashed', ax=ax_tolerance)\n",
    "# ax_tolerance.set_ylim(0, 2.5)\n",
    "# ax_tolerance.set_ylabel('Tolerance for atomic distance')\n",
    "# ax_tolerance.set_xlabel('Scale factor')\n",
    "# ax_tolerance.legend(loc='lower left', title='distance\\ncondition')\n",
    "# ax_tolerance.grid(axis='y')\n",
    "# ax_tolerance.xaxis.set_major_formatter(FormatStrFormatter('%.2f'))\n",
    "\n",
    "# ax_size= ax_tolerance.twinx()\n",
    "ax_size= ax_tolerance\n",
    "ax_size.bar(results.scale, results.proportion, 0.015)\n",
    "ax_size.yaxis.set_major_formatter(PercentFormatter(1))\n",
    "ax_size.set_ylabel('Proportion of successes')\n",
    "ax_size.set_xlim(0.19, 0.51)\n",
    "\n",
    "# f.savefig('Ag32Ge4S24_generation_analysis.png', bbox_inches='tight', dpi=300)"
   ]
  },
  {
   "cell_type": "code",
   "execution_count": null,
   "metadata": {},
   "outputs": [],
   "source": [
    "%%time\n",
    "\n",
    "expect_size = 10_000\n",
    "cfg = {'Ag': ['a'] * 8,\n",
    " 'Ge': ['a'],\n",
    " 'S': ['a'] * 6\n",
    "}\n",
    "results = []\n",
    "ret = cg.gen_many(expect_size, cfg, distance_scale_factor=0.45)\n",
    "len(ret)"
   ]
  },
  {
   "cell_type": "code",
   "execution_count": null,
   "metadata": {},
   "outputs": [],
   "source": [
    "structures = Parallel(n_jobs=20, verbose=1)(delayed(build_structure)(s) for s in ret)\n",
    "structures = pd.DataFrame(structures)\n",
    "structures.to_pickle('real_coord_structures.pd.xz')"
   ]
  },
  {
   "cell_type": "code",
   "execution_count": null,
   "metadata": {},
   "outputs": [],
   "source": [
    "for idx, struct in structures.structure.items():\n",
    "    true_coord = set([str(s) for s in ground_truth.frac_coords])\n",
    "    if not set([str(s) for s in struct.frac_coords]) == true_coord:\n",
    "        print(idx)"
   ]
  },
  {
   "cell_type": "code",
   "execution_count": null,
   "metadata": {},
   "outputs": [],
   "source": [
    "dissimilarity = structure_dissimilarity(ground_truth, structures.structure.tolist(), verbose=1, n_jobs=20)\n",
    "structures = structures.assign(dissimilarity=dissimilarity)\n",
    "structures.to_pickle('real_coord_structures.pd.xz')"
   ]
  },
  {
   "cell_type": "code",
   "execution_count": null,
   "metadata": {},
   "outputs": [],
   "source": [
    "f, ax = plt.subplots(dpi=200)\n",
    "structures = pd.read_pickle('real_coord_structures.pd.xz')\n",
    "structures.dissimilarity.plot.hist(ax=ax, title='Groundtruth coords')"
   ]
  },
  {
   "cell_type": "markdown",
   "metadata": {},
   "source": [
    "generation"
   ]
  },
  {
   "cell_type": "code",
   "execution_count": null,
   "metadata": {},
   "outputs": [],
   "source": [
    "dissimilarity = structure_dissimilarity(ground_truth, ss, verbose=1, n_jobs=1)"
   ]
  },
  {
   "cell_type": "code",
   "execution_count": null,
   "metadata": {},
   "outputs": [],
   "source": [
    "f, ax = plt.subplots(dpi=200)\n",
    "# structures = pd.read_pickle('real_coord_structures.pd.xz')\n",
    "structures.dissimilarity.plot.hist(ax=ax, title='Random Lattice only')"
   ]
  },
  {
   "cell_type": "code",
   "execution_count": null,
   "metadata": {},
   "outputs": [],
   "source": []
  }
 ],
 "metadata": {
  "kernelspec": {
   "display_name": "Python 3 (ipykernel)",
   "language": "python",
   "name": "python3"
  },
  "language_info": {
   "codemirror_mode": {
    "name": "ipython",
    "version": 3
   },
   "file_extension": ".py",
   "mimetype": "text/x-python",
   "name": "python",
   "nbconvert_exporter": "python",
   "pygments_lexer": "ipython3",
   "version": "3.9.12"
  }
 },
 "nbformat": 4,
 "nbformat_minor": 4
}
