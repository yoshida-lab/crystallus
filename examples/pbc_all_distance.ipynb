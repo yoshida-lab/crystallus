{
 "cells": [
  {
   "cell_type": "code",
   "execution_count": null,
   "metadata": {},
   "outputs": [],
   "source": [
    "# user-friendly print\n",
    "from IPython.core.interactiveshell import InteractiveShell\n",
    "InteractiveShell.ast_node_interactivity = \"all\"\n",
    "\n",
    "import numpy as np\n",
    "from crystallus import pbc_all_distances\n",
    "from pymatgen import Structure"
   ]
  },
  {
   "cell_type": "code",
   "execution_count": null,
   "metadata": {},
   "outputs": [],
   "source": [
    "pbc_all_distances?"
   ]
  },
  {
   "cell_type": "markdown",
   "metadata": {},
   "source": [
    "`pbc_all_distance` is the function of calculating all distances between each site. The output is an upper triangular matrix.\n",
    "Let's use the `178_224.cif` structure to compare our implementation with pymatgen."
   ]
  },
  {
   "cell_type": "code",
   "execution_count": null,
   "metadata": {},
   "outputs": [],
   "source": [
    "struct = Structure.from_file('178_224.cif')\n",
    "struct"
   ]
  },
  {
   "cell_type": "markdown",
   "metadata": {},
   "source": [
    "Firstly, you can see that pymatgen will normalize coords automatically when reading structure from CIF file."
   ]
  },
  {
   "cell_type": "code",
   "execution_count": 22,
   "metadata": {},
   "outputs": [
    {
     "data": {
      "text/plain": [
       "array([[0.        , 6.88172759, 6.88172759, ..., 4.90348518, 7.94268292,\n",
       "        4.4593836 ],\n",
       "       [6.88172759, 0.        , 6.88172759, ..., 7.94268292, 4.90348518,\n",
       "        4.4593836 ],\n",
       "       [6.88172759, 6.88172759, 0.        , ..., 4.4593836 , 4.4593836 ,\n",
       "        7.94268292],\n",
       "       ...,\n",
       "       [4.90348518, 7.94268292, 4.4593836 , ..., 0.        , 5.67329127,\n",
       "        6.30652077],\n",
       "       [7.94268292, 4.90348518, 4.4593836 , ..., 5.67329127, 0.        ,\n",
       "        6.30652077],\n",
       "       [4.4593836 , 4.4593836 , 7.94268292, ..., 6.30652077, 6.30652077,\n",
       "        0.        ]])"
      ]
     },
     "execution_count": 22,
     "metadata": {},
     "output_type": "execute_result"
    },
    {
     "data": {
      "text/plain": [
       "array([[0.        , 6.88172759, 6.88172759, ..., 4.90348518, 7.94268292,\n",
       "        4.4593836 ],\n",
       "       [0.        , 0.        , 6.88172759, ..., 7.94268292, 4.90348518,\n",
       "        4.4593836 ],\n",
       "       [0.        , 0.        , 0.        , ..., 4.4593836 , 4.4593836 ,\n",
       "        7.94268292],\n",
       "       ...,\n",
       "       [0.        , 0.        , 0.        , ..., 0.        , 5.67329127,\n",
       "        6.30652077],\n",
       "       [0.        , 0.        , 0.        , ..., 0.        , 0.        ,\n",
       "        6.30652077],\n",
       "       [0.        , 0.        , 0.        , ..., 0.        , 0.        ,\n",
       "        0.        ]])"
      ]
     },
     "execution_count": 22,
     "metadata": {},
     "output_type": "execute_result"
    }
   ],
   "source": [
    "pymatgen_dis = struct.distance_matrix\n",
    "crystallus_dis = pbc_all_distances(struct.lattice.matrix.tolist(), struct.frac_coords.tolist())\n",
    "crystallus_dis = np.array(crystallus_dis)\n",
    "\n",
    "pymatgen_dis\n",
    "crystallus_dis"
   ]
  },
  {
   "cell_type": "markdown",
   "metadata": {},
   "source": [
    "Secondly, our result is similar to that calculated by pymatgen. The only difference is our result has not the lower triangular part."
   ]
  },
  {
   "cell_type": "code",
   "execution_count": 58,
   "metadata": {},
   "outputs": [
    {
     "data": {
      "text/plain": [
       "(array([32, 32, 32, 32, 32, 32, 33, 33, 33, 33, 33, 33, 34, 34, 34, 34, 34,\n",
       "        34, 35, 35, 35, 35, 35, 35, 56, 56, 57, 57, 58, 58, 59, 59, 60, 60,\n",
       "        61, 61, 62, 62, 63, 63, 64, 64, 65, 65, 66, 66, 67, 67]),\n",
       " array([58, 62, 66, 70, 74, 78, 59, 60, 65, 71, 72, 77, 56, 61, 67, 68, 73,\n",
       "        79, 57, 63, 64, 69, 75, 76, 73, 79, 75, 76, 74, 78, 72, 77, 71, 77,\n",
       "        68, 79, 70, 78, 69, 76, 69, 75, 71, 72, 70, 74, 68, 73]))"
      ]
     },
     "execution_count": 58,
     "metadata": {},
     "output_type": "execute_result"
    },
    {
     "data": {
      "text/plain": [
       "0.6042181598031264"
      ]
     },
     "execution_count": 58,
     "metadata": {},
     "output_type": "execute_result"
    },
    {
     "data": {
      "text/plain": [
       "0.6042181598031264"
      ]
     },
     "execution_count": 58,
     "metadata": {},
     "output_type": "execute_result"
    }
   ],
   "source": [
    "np.where((crystallus_dis > 0) & (crystallus_dis < 1))\n",
    "\n",
    "pymatgen_dis[32, 58]\n",
    "crystallus_dis[32, 58]"
   ]
  },
  {
   "cell_type": "markdown",
   "metadata": {},
   "source": [
    "Also, very short distances exist. For example, the [32, 58] is 0.604218"
   ]
  },
  {
   "cell_type": "markdown",
   "metadata": {},
   "source": [
    "Last, let's check the algorithm still usable when the coords are not normalized. The unnormalized coords saved in `unnor_coords.csv` are copied from `178_224.cif`."
   ]
  },
  {
   "cell_type": "code",
   "execution_count": 59,
   "metadata": {},
   "outputs": [
    {
     "data": {
      "text/plain": [
       "('Al', 'Al0', 1, 0.25, 0.25, 0.25, 1)"
      ]
     },
     "execution_count": 59,
     "metadata": {},
     "output_type": "execute_result"
    }
   ],
   "source": [
    "unnor_coords = np.genfromtxt(\n",
    "    'unnor_coords.csv',\n",
    "    delimiter='  ',\n",
    "    dtype=None,\n",
    "    encoding='utf-8'\n",
    ")\n",
    "unnor_coords[0]"
   ]
  },
  {
   "cell_type": "code",
   "execution_count": 61,
   "metadata": {},
   "outputs": [
    {
     "data": {
      "text/plain": [
       "array([[0.        , 8.42836057, 6.88172759, ..., 2.35215889, 2.35215889,\n",
       "        2.35215889],\n",
       "       [0.        , 0.        , 4.86611624, ..., 6.07620169, 6.07620169,\n",
       "        6.07620169],\n",
       "       [0.        , 0.        , 0.        , ..., 5.14370506, 5.14370506,\n",
       "        5.14370506],\n",
       "       ...,\n",
       "       [0.        , 0.        , 0.        , ..., 0.        , 3.84105938,\n",
       "        3.84105938],\n",
       "       [0.        , 0.        , 0.        , ..., 0.        , 0.        ,\n",
       "        3.84105938],\n",
       "       [0.        , 0.        , 0.        , ..., 0.        , 0.        ,\n",
       "        0.        ]])"
      ]
     },
     "execution_count": 61,
     "metadata": {},
     "output_type": "execute_result"
    }
   ],
   "source": [
    "unnor_dis = pbc_all_distances(struct.lattice.matrix.tolist(), unnor_coords[['f3', 'f4', 'f5']].tolist())\n",
    "unnor_dis = np.array(unnor_dis)\n",
    "\n",
    "wrong_dis"
   ]
  },
  {
   "cell_type": "code",
   "execution_count": 63,
   "metadata": {},
   "outputs": [
    {
     "data": {
      "text/plain": [
       "(array([20, 20, 20, 20, 20, 20, 21, 21, 21, 21, 21, 21, 22, 22, 22, 22, 22,\n",
       "        22, 23, 23, 23, 23, 23, 23, 44, 44, 45, 45, 46, 46, 47, 47, 48, 48,\n",
       "        49, 49, 50, 50, 51, 51, 52, 52, 53, 53, 54, 54, 55, 55]),\n",
       " array([46, 50, 54, 58, 62, 66, 47, 48, 53, 59, 60, 65, 44, 49, 55, 56, 61,\n",
       "        67, 45, 51, 52, 57, 63, 64, 61, 67, 63, 64, 62, 66, 60, 65, 59, 65,\n",
       "        56, 67, 58, 66, 57, 64, 57, 63, 59, 60, 58, 62, 56, 61]))"
      ]
     },
     "execution_count": 63,
     "metadata": {},
     "output_type": "execute_result"
    },
    {
     "data": {
      "text/plain": [
       "0.6042181598031264"
      ]
     },
     "execution_count": 63,
     "metadata": {},
     "output_type": "execute_result"
    }
   ],
   "source": [
    "np.where((wrong_dis > 0) & (wrong_dis < 1))\n",
    "\n",
    "wrong_dis[20, 46]"
   ]
  },
  {
   "cell_type": "markdown",
   "metadata": {},
   "source": [
    "You can even the coords are not normalized, the calculation still gives a correct result."
   ]
  },
  {
   "cell_type": "code",
   "execution_count": null,
   "metadata": {},
   "outputs": [],
   "source": []
  }
 ],
 "metadata": {
  "kernelspec": {
   "display_name": "Python 3",
   "language": "python",
   "name": "python3"
  },
  "language_info": {
   "codemirror_mode": {
    "name": "ipython",
    "version": 3
   },
   "file_extension": ".py",
   "mimetype": "text/x-python",
   "name": "python",
   "nbconvert_exporter": "python",
   "pygments_lexer": "ipython3",
   "version": "3.7.7"
  }
 },
 "nbformat": 4,
 "nbformat_minor": 4
}
