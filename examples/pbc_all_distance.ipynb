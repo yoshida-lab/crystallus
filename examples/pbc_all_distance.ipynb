{
 "cells": [
  {
   "cell_type": "code",
   "execution_count": 1,
   "metadata": {},
   "outputs": [],
   "source": [
    "# user-friendly print\n",
    "from IPython.core.interactiveshell import InteractiveShell\n",
    "InteractiveShell.ast_node_interactivity = \"all\"\n",
    "\n",
    "import numpy as np\n",
    "from crystallus import pbc_all_distances\n",
    "from pymatgen import Structure"
   ]
  },
  {
   "cell_type": "code",
   "execution_count": 2,
   "metadata": {
    "tags": []
   },
   "outputs": [
    {
     "data": {
      "text/plain": [
       "\u001b[0;31mSignature:\u001b[0m \u001b[0mpbc_all_distances\u001b[0m\u001b[0;34m(\u001b[0m\u001b[0mlattice\u001b[0m\u001b[0;34m,\u001b[0m \u001b[0mfrac_coords\u001b[0m\u001b[0;34m)\u001b[0m\u001b[0;34m\u001b[0m\u001b[0;34m\u001b[0m\u001b[0m\n",
       "\u001b[0;31mDocstring:\u001b[0m <no docstring>\n",
       "\u001b[0;31mType:\u001b[0m      builtin_function_or_method\n"
      ]
     },
     "metadata": {},
     "output_type": "display_data"
    }
   ],
   "source": [
    "pbc_all_distances?"
   ]
  },
  {
   "cell_type": "markdown",
   "metadata": {},
   "source": [
    "`pbc_all_distance` is the function of calculating all distances between each site. The output is an upper triangular matrix.\n",
    "\n",
    "Let's use the `178_224.cif` as an example to compare our implementation with pymatgen."
   ]
  },
  {
   "cell_type": "code",
   "execution_count": 3,
   "metadata": {},
   "outputs": [
    {
     "data": {
      "text/plain": [
       "Structure Summary\n",
       "Lattice\n",
       "    abc : 9.73223249 9.73223249 9.73223249\n",
       " angles : 90.0 90.0 90.0\n",
       " volume : 921.8015314019882\n",
       "      A : 9.73223249 0.0 5.959273683718187e-16\n",
       "      B : -5.959273683718187e-16 9.73223249 5.959273683718187e-16\n",
       "      C : 0.0 0.0 9.73223249\n",
       "PeriodicSite: Y (4.8661, 4.8661, 4.8661) [0.5000, 0.5000, 0.5000]\n",
       "PeriodicSite: Y (0.0000, 0.0000, 4.8661) [0.0000, 0.0000, 0.5000]\n",
       "PeriodicSite: Y (-0.0000, 4.8661, 0.0000) [0.0000, 0.5000, 0.0000]\n",
       "PeriodicSite: Y (4.8661, 0.0000, 0.0000) [0.5000, 0.0000, 0.0000]\n",
       "PeriodicSite: Y (8.6572, 8.6572, 8.6572) [0.8895, 0.8895, 0.8895]\n",
       "PeriodicSite: Y (5.9412, 5.9412, 8.6572) [0.6105, 0.6105, 0.8895]\n",
       "PeriodicSite: Y (5.9412, 8.6572, 5.9412) [0.6105, 0.8895, 0.6105]\n",
       "PeriodicSite: Y (8.6572, 5.9412, 5.9412) [0.8895, 0.6105, 0.6105]\n",
       "PeriodicSite: Y (3.7911, 3.7911, 1.0750) [0.3895, 0.3895, 0.1105]\n",
       "PeriodicSite: Y (1.0750, 1.0750, 1.0750) [0.1105, 0.1105, 0.1105]\n",
       "PeriodicSite: Y (3.7911, 1.0750, 3.7911) [0.3895, 0.1105, 0.3895]\n",
       "PeriodicSite: Y (1.0750, 3.7911, 3.7911) [0.1105, 0.3895, 0.3895]\n",
       "PeriodicSite: Al (2.4331, 2.4331, 2.4331) [0.2500, 0.2500, 0.2500]\n",
       "PeriodicSite: Al (7.2992, 7.2992, 7.2992) [0.7500, 0.7500, 0.7500]\n",
       "PeriodicSite: Al (2.4331, 7.2992, 7.2992) [0.2500, 0.7500, 0.7500]\n",
       "PeriodicSite: Al (7.2992, 2.4331, 7.2992) [0.7500, 0.2500, 0.7500]\n",
       "PeriodicSite: Al (7.2992, 7.2992, 2.4331) [0.7500, 0.7500, 0.2500]\n",
       "PeriodicSite: Al (2.4331, 7.2992, 2.4331) [0.2500, 0.7500, 0.2500]\n",
       "PeriodicSite: Al (7.2992, 2.4331, 2.4331) [0.7500, 0.2500, 0.2500]\n",
       "PeriodicSite: Al (2.4331, 2.4331, 7.2992) [0.2500, 0.2500, 0.7500]\n",
       "PeriodicSite: Al (4.8661, 2.4331, 7.2992) [0.5000, 0.2500, 0.7500]\n",
       "PeriodicSite: Al (-0.0000, 2.4331, 7.2992) [0.0000, 0.2500, 0.7500]\n",
       "PeriodicSite: Al (7.2992, 4.8661, 2.4331) [0.7500, 0.5000, 0.2500]\n",
       "PeriodicSite: Al (7.2992, 0.0000, 2.4331) [0.7500, 0.0000, 0.2500]\n",
       "PeriodicSite: Al (2.4331, 7.2992, 4.8661) [0.2500, 0.7500, 0.5000]\n",
       "PeriodicSite: Al (2.4331, 7.2992, 0.0000) [0.2500, 0.7500, 0.0000]\n",
       "PeriodicSite: Al (4.8661, 7.2992, 2.4331) [0.5000, 0.7500, 0.2500]\n",
       "PeriodicSite: Al (-0.0000, 7.2992, 2.4331) [0.0000, 0.7500, 0.2500]\n",
       "PeriodicSite: Al (2.4331, 4.8661, 7.2992) [0.2500, 0.5000, 0.7500]\n",
       "PeriodicSite: Al (2.4331, 0.0000, 7.2992) [0.2500, 0.0000, 0.7500]\n",
       "PeriodicSite: Al (7.2992, 2.4331, 4.8661) [0.7500, 0.2500, 0.5000]\n",
       "PeriodicSite: Al (7.2992, 2.4331, 0.0000) [0.7500, 0.2500, 0.0000]\n",
       "PeriodicSite: O (0.0000, 0.0000, 0.0000) [0.0000, 0.0000, 0.0000]\n",
       "PeriodicSite: O (4.8661, 4.8661, 0.0000) [0.5000, 0.5000, 0.0000]\n",
       "PeriodicSite: O (4.8661, 0.0000, 4.8661) [0.5000, 0.0000, 0.5000]\n",
       "PeriodicSite: O (-0.0000, 4.8661, 4.8661) [0.0000, 0.5000, 0.5000]\n",
       "PeriodicSite: O (3.7826, 3.7826, 3.7826) [0.3887, 0.3887, 0.3887]\n",
       "PeriodicSite: O (1.0835, 1.0835, 3.7826) [0.1113, 0.1113, 0.3887]\n",
       "PeriodicSite: O (1.0835, 3.7826, 1.0835) [0.1113, 0.3887, 0.1113]\n",
       "PeriodicSite: O (3.7826, 1.0835, 1.0835) [0.3887, 0.1113, 0.1113]\n",
       "PeriodicSite: O (8.6487, 8.6487, 5.9497) [0.8887, 0.8887, 0.6113]\n",
       "PeriodicSite: O (5.9497, 5.9497, 5.9497) [0.6113, 0.6113, 0.6113]\n",
       "PeriodicSite: O (8.6487, 5.9497, 8.6487) [0.8887, 0.6113, 0.8887]\n",
       "PeriodicSite: O (5.9497, 8.6487, 8.6487) [0.6113, 0.8887, 0.8887]\n",
       "PeriodicSite: O (0.8060, 2.4331, 2.4331) [0.0828, 0.2500, 0.2500]\n",
       "PeriodicSite: O (4.0601, 2.4331, 2.4331) [0.4172, 0.2500, 0.2500]\n",
       "PeriodicSite: O (2.4331, 0.8060, 2.4331) [0.2500, 0.0828, 0.2500]\n",
       "PeriodicSite: O (2.4331, 4.0601, 2.4331) [0.2500, 0.4172, 0.2500]\n",
       "PeriodicSite: O (2.4331, 2.4331, 0.8060) [0.2500, 0.2500, 0.0828]\n",
       "PeriodicSite: O (2.4331, 2.4331, 4.0601) [0.2500, 0.2500, 0.4172]\n",
       "PeriodicSite: O (7.2992, 5.6721, 7.2992) [0.7500, 0.5828, 0.7500]\n",
       "PeriodicSite: O (7.2992, 8.9263, 7.2992) [0.7500, 0.9172, 0.7500]\n",
       "PeriodicSite: O (5.6721, 7.2992, 7.2992) [0.5828, 0.7500, 0.7500]\n",
       "PeriodicSite: O (8.9263, 7.2992, 7.2992) [0.9172, 0.7500, 0.7500]\n",
       "PeriodicSite: O (7.2992, 7.2992, 8.9263) [0.7500, 0.7500, 0.9172]\n",
       "PeriodicSite: O (7.2992, 7.2992, 5.6721) [0.7500, 0.7500, 0.5828]\n",
       "PeriodicSite: O (4.8661, 0.4272, 5.2934) [0.5000, 0.0439, 0.5439]\n",
       "PeriodicSite: O (-0.0000, 4.4389, 5.2934) [0.0000, 0.4561, 0.5439]\n",
       "PeriodicSite: O (-0.0000, 0.4272, 9.3050) [0.0000, 0.0439, 0.9561]\n",
       "PeriodicSite: O (4.8661, 4.4389, 9.3050) [0.5000, 0.4561, 0.9561]\n",
       "PeriodicSite: O (5.2934, 4.8661, 0.4272) [0.5439, 0.5000, 0.0439]\n",
       "PeriodicSite: O (5.2934, 0.0000, 4.4389) [0.5439, 0.0000, 0.4561]\n",
       "PeriodicSite: O (9.3050, 0.0000, 0.4272) [0.9561, 0.0000, 0.0439]\n",
       "PeriodicSite: O (9.3050, 4.8661, 4.4389) [0.9561, 0.5000, 0.4561]\n",
       "PeriodicSite: O (0.4272, 5.2934, 4.8661) [0.0439, 0.5439, 0.5000]\n",
       "PeriodicSite: O (4.4389, 5.2934, 0.0000) [0.4561, 0.5439, 0.0000]\n",
       "PeriodicSite: O (0.4272, 9.3050, 0.0000) [0.0439, 0.9561, 0.0000]\n",
       "PeriodicSite: O (4.4389, 9.3050, 4.8661) [0.4561, 0.9561, 0.5000]\n",
       "PeriodicSite: O (4.8661, 9.3050, 4.4389) [0.5000, 0.9561, 0.4561]\n",
       "PeriodicSite: O (-0.0000, 5.2934, 4.4389) [0.0000, 0.5439, 0.4561]\n",
       "PeriodicSite: O (-0.0000, 9.3050, 0.4272) [0.0000, 0.9561, 0.0439]\n",
       "PeriodicSite: O (4.8661, 5.2934, 0.4272) [0.5000, 0.5439, 0.0439]\n",
       "PeriodicSite: O (4.4389, 4.8661, 9.3050) [0.4561, 0.5000, 0.9561]\n",
       "PeriodicSite: O (4.4389, 0.0000, 5.2934) [0.4561, 0.0000, 0.5439]\n",
       "PeriodicSite: O (0.4272, 0.0000, 9.3050) [0.0439, 0.0000, 0.9561]\n",
       "PeriodicSite: O (0.4272, 4.8661, 5.2934) [0.0439, 0.5000, 0.5439]\n",
       "PeriodicSite: O (9.3050, 4.4389, 4.8661) [0.9561, 0.4561, 0.5000]\n",
       "PeriodicSite: O (5.2934, 4.4389, 0.0000) [0.5439, 0.4561, 0.0000]\n",
       "PeriodicSite: O (9.3050, 0.4272, 0.0000) [0.9561, 0.0439, 0.0000]\n",
       "PeriodicSite: O (5.2934, 0.4272, 4.8661) [0.5439, 0.0439, 0.5000]"
      ]
     },
     "execution_count": 3,
     "metadata": {},
     "output_type": "execute_result"
    }
   ],
   "source": [
    "struct = Structure.from_file('cifs/178_224.cif')\n",
    "struct"
   ]
  },
  {
   "cell_type": "markdown",
   "metadata": {},
   "source": [
    "Firstly, you can see that pymatgen will normalize coords automatically when building structure from CIF file."
   ]
  },
  {
   "cell_type": "code",
   "execution_count": 4,
   "metadata": {},
   "outputs": [
    {
     "data": {
      "text/plain": [
       "array([[0.        , 6.88172759, 6.88172759, ..., 4.90348518, 7.94268292,\n",
       "        4.4593836 ],\n",
       "       [6.88172759, 0.        , 6.88172759, ..., 7.94268292, 4.90348518,\n",
       "        4.4593836 ],\n",
       "       [6.88172759, 6.88172759, 0.        , ..., 4.4593836 , 4.4593836 ,\n",
       "        7.94268292],\n",
       "       ...,\n",
       "       [4.90348518, 7.94268292, 4.4593836 , ..., 0.        , 5.67329127,\n",
       "        6.30652077],\n",
       "       [7.94268292, 4.90348518, 4.4593836 , ..., 5.67329127, 0.        ,\n",
       "        6.30652077],\n",
       "       [4.4593836 , 4.4593836 , 7.94268292, ..., 6.30652077, 6.30652077,\n",
       "        0.        ]])"
      ]
     },
     "execution_count": 4,
     "metadata": {},
     "output_type": "execute_result"
    },
    {
     "data": {
      "text/plain": [
       "array([[0.        , 6.88172759, 6.88172759, ..., 4.90348518, 7.94268292,\n",
       "        4.4593836 ],\n",
       "       [0.        , 0.        , 6.88172759, ..., 7.94268292, 4.90348518,\n",
       "        4.4593836 ],\n",
       "       [0.        , 0.        , 0.        , ..., 4.4593836 , 4.4593836 ,\n",
       "        7.94268292],\n",
       "       ...,\n",
       "       [0.        , 0.        , 0.        , ..., 0.        , 5.67329127,\n",
       "        6.30652077],\n",
       "       [0.        , 0.        , 0.        , ..., 0.        , 0.        ,\n",
       "        6.30652077],\n",
       "       [0.        , 0.        , 0.        , ..., 0.        , 0.        ,\n",
       "        0.        ]])"
      ]
     },
     "execution_count": 4,
     "metadata": {},
     "output_type": "execute_result"
    }
   ],
   "source": [
    "pymatgen_dis = struct.distance_matrix\n",
    "crystallus_dis = pbc_all_distances(struct.lattice.matrix.tolist(), struct.frac_coords.tolist())\n",
    "crystallus_dis = np.array(crystallus_dis)\n",
    "\n",
    "pymatgen_dis\n",
    "crystallus_dis"
   ]
  },
  {
   "cell_type": "markdown",
   "metadata": {},
   "source": [
    "Secondly, our result is the same as that calculated by pymatgen, except that our result doesn't have the lower triangular part."
   ]
  },
  {
   "cell_type": "code",
   "execution_count": 5,
   "metadata": {},
   "outputs": [
    {
     "data": {
      "text/plain": [
       "(array([32, 32, 32, 32, 32, 32, 33, 33, 33, 33, 33, 33, 34, 34, 34, 34, 34,\n",
       "        34, 35, 35, 35, 35, 35, 35, 56, 56, 57, 57, 58, 58, 59, 59, 60, 60,\n",
       "        61, 61, 62, 62, 63, 63, 64, 64, 65, 65, 66, 66, 67, 67]),\n",
       " array([58, 62, 66, 70, 74, 78, 59, 60, 65, 71, 72, 77, 56, 61, 67, 68, 73,\n",
       "        79, 57, 63, 64, 69, 75, 76, 73, 79, 75, 76, 74, 78, 72, 77, 71, 77,\n",
       "        68, 79, 70, 78, 69, 76, 69, 75, 71, 72, 70, 74, 68, 73]))"
      ]
     },
     "execution_count": 5,
     "metadata": {},
     "output_type": "execute_result"
    },
    {
     "data": {
      "text/plain": [
       "0.6042181598031264"
      ]
     },
     "execution_count": 5,
     "metadata": {},
     "output_type": "execute_result"
    },
    {
     "data": {
      "text/plain": [
       "0.6042181598031264"
      ]
     },
     "execution_count": 5,
     "metadata": {},
     "output_type": "execute_result"
    }
   ],
   "source": [
    "np.where((crystallus_dis > 0) & (crystallus_dis < 1))\n",
    "\n",
    "pymatgen_dis[32, 58]\n",
    "crystallus_dis[32, 58]"
   ]
  },
  {
   "cell_type": "markdown",
   "metadata": {},
   "source": [
    "Also, very short distances exist. For example, the \\[32, 58\\] is 0.604218 Å."
   ]
  },
  {
   "cell_type": "markdown",
   "metadata": {},
   "source": [
    "Last, let's check the algorithm's usability when the input coords are not normalized.\n",
    "\n",
    "The unnormalized coords saved in `unnor_coords.csv` are copied from `178_224.cif`."
   ]
  },
  {
   "cell_type": "code",
   "execution_count": 6,
   "metadata": {},
   "outputs": [
    {
     "data": {
      "text/plain": [
       "('Al', 'Al0', 1, 0.25, 0.25, 0.25, 1)"
      ]
     },
     "execution_count": 6,
     "metadata": {},
     "output_type": "execute_result"
    }
   ],
   "source": [
    "unnor_coords = np.genfromtxt(\n",
    "    'unnor_coords.csv',\n",
    "    delimiter='  ',\n",
    "    dtype=None,\n",
    "    encoding='utf-8'\n",
    ")\n",
    "unnor_coords[0]"
   ]
  },
  {
   "cell_type": "code",
   "execution_count": 7,
   "metadata": {},
   "outputs": [
    {
     "data": {
      "text/plain": [
       "array([[0.        , 8.42836057, 6.88172759, ..., 2.35215889, 2.35215889,\n",
       "        2.35215889],\n",
       "       [0.        , 0.        , 4.86611624, ..., 6.07620169, 6.07620169,\n",
       "        6.07620169],\n",
       "       [0.        , 0.        , 0.        , ..., 5.14370506, 5.14370506,\n",
       "        5.14370506],\n",
       "       ...,\n",
       "       [0.        , 0.        , 0.        , ..., 0.        , 3.84105938,\n",
       "        3.84105938],\n",
       "       [0.        , 0.        , 0.        , ..., 0.        , 0.        ,\n",
       "        3.84105938],\n",
       "       [0.        , 0.        , 0.        , ..., 0.        , 0.        ,\n",
       "        0.        ]])"
      ]
     },
     "execution_count": 7,
     "metadata": {},
     "output_type": "execute_result"
    }
   ],
   "source": [
    "unnor_dis = pbc_all_distances(struct.lattice.matrix.tolist(), unnor_coords[['f3', 'f4', 'f5']].tolist())\n",
    "unnor_dis = np.array(unnor_dis)\n",
    "\n",
    "unnor_dis"
   ]
  },
  {
   "cell_type": "code",
   "execution_count": 8,
   "metadata": {},
   "outputs": [
    {
     "data": {
      "text/plain": [
       "(array([20, 20, 20, 20, 20, 20, 21, 21, 21, 21, 21, 21, 22, 22, 22, 22, 22,\n",
       "        22, 23, 23, 23, 23, 23, 23, 44, 44, 45, 45, 46, 46, 47, 47, 48, 48,\n",
       "        49, 49, 50, 50, 51, 51, 52, 52, 53, 53, 54, 54, 55, 55]),\n",
       " array([46, 50, 54, 58, 62, 66, 47, 48, 53, 59, 60, 65, 44, 49, 55, 56, 61,\n",
       "        67, 45, 51, 52, 57, 63, 64, 61, 67, 63, 64, 62, 66, 60, 65, 59, 65,\n",
       "        56, 67, 58, 66, 57, 64, 57, 63, 59, 60, 58, 62, 56, 61]))"
      ]
     },
     "execution_count": 8,
     "metadata": {},
     "output_type": "execute_result"
    },
    {
     "data": {
      "text/plain": [
       "0.6042181598031264"
      ]
     },
     "execution_count": 8,
     "metadata": {},
     "output_type": "execute_result"
    }
   ],
   "source": [
    "np.where((unnor_dis > 0) & (unnor_dis < 1))\n",
    "\n",
    "unnor_dis[20, 46]"
   ]
  },
  {
   "cell_type": "markdown",
   "metadata": {},
   "source": [
    "You can see that even the coords are not normalized, the calculation still gives a correct result."
   ]
  }
 ],
 "metadata": {
  "kernelspec": {
   "display_name": "Python 3",
   "language": "python",
   "name": "python3"
  },
  "language_info": {
   "codemirror_mode": {
    "name": "ipython",
    "version": 3
   },
   "file_extension": ".py",
   "mimetype": "text/x-python",
   "name": "python",
   "nbconvert_exporter": "python",
   "pygments_lexer": "ipython3",
   "version": "3.7.9"
  }
 },
 "nbformat": 4,
 "nbformat_minor": 4
}
