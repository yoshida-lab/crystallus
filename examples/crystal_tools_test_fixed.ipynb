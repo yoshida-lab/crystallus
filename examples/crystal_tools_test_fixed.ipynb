{
 "cells": [
  {
   "cell_type": "code",
   "execution_count": 1,
   "metadata": {},
   "outputs": [],
   "source": [
    "import re\n",
    "import json\n",
    "import operator\n",
    "import numpy as np\n",
    "\n",
    "from pprint import pprint\n",
    "from functools import reduce\n",
    "\n",
    "from itertools import chain\n",
    "from collections import Counter, defaultdict\n",
    "from pymatgen import Structure, PeriodicSite, Lattice, Element\n",
    "from pymatgen.symmetry.analyzer import SpacegroupAnalyzer\n",
    "from multiprocessing import Pool\n",
    "from numpy.random import uniform\n",
    "\n",
    "from crystallus import WyckoffCfgGenerator, CrystalGenerator, SpaceGroupDB"
   ]
  },
  {
   "cell_type": "markdown",
   "metadata": {},
   "source": [
    "## Build DB\n",
    "\n",
    "The step is to build a DB which contains Wyckoff information for each space group. The DB will be searched in Wyckoff position generation."
   ]
  },
  {
   "cell_type": "markdown",
   "metadata": {},
   "source": [
    "## Structure generator\n",
    "\n",
    "To generate legal structure under a given space group with specific chemical composition, basicly the following four steps are needed.\n",
    "\n",
    "1. calculate possible Wyckoff configurations under a given space group for each chemical composition.\n",
    "2. generate fraction positions for each element with given a Wyckoff configuration which is calculated from step 1), randomly.\n",
    "3. generate lattice for the given space group which is used in step 1), randomly.\n",
    "4. combine the results from step 2) and 3) to obtain a legal structure.\n",
    "\n",
    "The following codes implement step 1) ~ 4), respectively."
   ]
  },
  {
   "cell_type": "markdown",
   "metadata": {},
   "source": [
    "### Wyckoff position generation\n",
    "\n",
    "Wyckoff position in the international tabel is a schema which has something like this:\n",
    "\n",
    "```\n",
    "(x,y,1/2)\t(-y,x-y,1/2)\t(-x+y,-x,1/2)\t(-x,-y,1/2)\n",
    "(y,-x+y,1/2)\t(x-y,x,1/2)\t(y,x,1/2)\t(x-y,-y,1/2)\n",
    "(-x,-x+y,1/2)\t(-y,-x,1/2)\t(-x+y,y,1/2)\t(x,x-y,1/2)\n",
    "```\n",
    "\n",
    "We need to build a simple parser to convert the schema to a calculator on the fly. This work can be splitted into 2 steps:\n",
    "1. generate one coordinate for `x`, `y` or `z` axis.\n",
    "2. loop step 1) for each axis."
   ]
  },
  {
   "cell_type": "code",
   "execution_count": 2,
   "metadata": {},
   "outputs": [],
   "source": [
    "class Coordinate:\n",
    "    patten = re.compile(r'(?P<xyz>-?\\d?[xyz])|(?P<cons_frac>\\d\\/\\d?)|(?P<cons>\\d)')\n",
    "    \n",
    "    def __call__(self, coordinates):\n",
    "        const = 0\n",
    "        x_coeff, y_coeff, z_coeff, const = 0, 0, 0, 0\n",
    "\n",
    "        for e in self.patten.findall(coordinates):\n",
    "\n",
    "            if e[0] != '':\n",
    "                s = e[0].lower()\n",
    "                if 'x' in s:\n",
    "                    if '-' in s:\n",
    "                        x_coeff = -1\n",
    "                    else:\n",
    "                        x_coeff = 1\n",
    "                    if '2' in s:\n",
    "                        x_coeff *= 2\n",
    "                    continue\n",
    "\n",
    "                if 'y' in s:\n",
    "                    if '-' in s:\n",
    "                        y_coeff = -1\n",
    "                    else:\n",
    "                        y_coeff = 1\n",
    "                    if '2' in s:\n",
    "                        y_coeff *= 2\n",
    "                    continue\n",
    "\n",
    "                if 'z' in s:\n",
    "                    if '-' in s:\n",
    "                        z_coeff = -1\n",
    "                    else:\n",
    "                        z_coeff = 1\n",
    "                    if '2' in s:\n",
    "                        z_coeff *= 2\n",
    "                    continue\n",
    "\n",
    "            if e[1] != '':\n",
    "                s = e[1].split('/')\n",
    "                const = float(s[0]) / float(s[1])\n",
    "                continue\n",
    "                \n",
    "            if e[2] != '':\n",
    "                const = float(e[2])\n",
    "                continue\n",
    "\n",
    "        return x_coeff, y_coeff, z_coeff, const"
   ]
  },
  {
   "cell_type": "code",
   "execution_count": 3,
   "metadata": {},
   "outputs": [
    {
     "output_type": "execute_result",
     "data": {
      "text/plain": [
       "(-2, 0, 0, 0.5)"
      ]
     },
     "metadata": {},
     "execution_count": 3
    }
   ],
   "source": [
    "Coordinate()('-2x+1/2')"
   ]
  },
  {
   "cell_type": "code",
   "execution_count": 4,
   "metadata": {},
   "outputs": [],
   "source": [
    "class Particle():\n",
    "    patten = re.compile(r',\\s*')\n",
    "    \n",
    "    def __init__(self):\n",
    "        self.Coordinate = Coordinate()\n",
    "        \n",
    "    def __call__(self, position):\n",
    "        return [self.Coordinate(coor) for coor in self.patten.split(position)]\n",
    "        "
   ]
  },
  {
   "cell_type": "code",
   "execution_count": 5,
   "metadata": {},
   "outputs": [
    {
     "output_type": "execute_result",
     "data": {
      "text/plain": [
       "[(1, 0, 0, 0), (0, 0, 0, 0.5), (0, 0, -1, 0)]"
      ]
     },
     "metadata": {},
     "execution_count": 5
    }
   ],
   "source": [
    "Particle()('(x,1/2,-z)'[1:-1])"
   ]
  },
  {
   "cell_type": "code",
   "execution_count": 6,
   "metadata": {},
   "outputs": [],
   "source": [
    "def index(idx, id):\n",
    "    try:\n",
    "        return idx.index(id) + 1\n",
    "    except ValueError:\n",
    "        return ''"
   ]
  },
  {
   "cell_type": "code",
   "execution_count": 7,
   "metadata": {},
   "outputs": [],
   "source": [
    "multiplicity_table = defaultdict(dict)\n",
    "\n",
    "with open('wyckoffs.json', 'r') as f:\n",
    "    wyckoff_table = json.load(f)\n",
    "\n",
    "for i, sg in enumerate(wyckoff_table):\n",
    "    for wy, info in sg.items():\n",
    "        multiplicity_table[i + 1][wy] = info[0]"
   ]
  },
  {
   "cell_type": "code",
   "execution_count": 8,
   "metadata": {},
   "outputs": [],
   "source": [
    "def reformat_wy_info(spg, data):\n",
    "    l = []\n",
    "    for k, v in data.items():\n",
    "        l += [k] * int(v / multiplicity_table[spg][k])\n",
    "    return tuple(sorted(l))"
   ]
  },
  {
   "cell_type": "code",
   "execution_count": 9,
   "metadata": {},
   "outputs": [],
   "source": [
    "def count_wy(wys, elems):\n",
    "    counter = defaultdict(lambda: defaultdict(int))\n",
    "\n",
    "    for wy, e in zip(wys, elems):\n",
    "        if isinstance(e, Element):\n",
    "            e = e.symbol\n",
    "        counter[e][wy] += 1\n",
    "\n",
    "    # to dict\n",
    "    return {k: dict(v) for k, v in counter.items()}"
   ]
  },
  {
   "cell_type": "code",
   "execution_count": 20,
   "metadata": {},
   "outputs": [],
   "source": [
    "from pymatgen import Structure\n",
    "from tqdm.notebook import tqdm\n",
    "import gc\n",
    "import pandas as pd\n",
    "\n",
    "def parse_structure(structure_list):\n",
    "    gc.disable()\n",
    "\n",
    "    structure_cans = []\n",
    "    for s in tqdm(structure_list, desc='parsing structures'):\n",
    "        tmp = {}\n",
    "        struct = Structure(lattice=s['lattice'], species=s['species'], coords=s['coords'])\n",
    "        tmp['structure'] = struct.get_primitive_structure()\n",
    "        tmp['volume'] = s['volume']\n",
    "        tmp['wy_letters'] = s['wyckoff_letters']\n",
    "        tmp['spacegroup_num'] = s['spacegroup_num']\n",
    "        tmp['species'] = s['species']\n",
    "        tmp['composition'] = dict(struct.composition.as_dict())\n",
    "        tmp['formula'] = struct.composition.formula\n",
    "        tmp['reduced_formula'] = struct.composition.reduced_formula\n",
    "        tmp['num_atoms'] = struct.composition.num_atoms\n",
    "        structure_cans.append(tmp)\n",
    "\n",
    "    gc.enable()\n",
    "    gc.collect()\n",
    "    \n",
    "    return pd.DataFrame(structure_cans)"
   ]
  },
  {
   "cell_type": "code",
   "execution_count": 11,
   "metadata": {},
   "outputs": [],
   "source": [
    "true_struct = Structure.from_file('cifs/mp-9770.cif')\n",
    "analyzer = SpacegroupAnalyzer(true_struct)\n",
    "true_spg = analyzer.get_space_group_number()\n",
    "\n",
    "if true_spg not in [146, 148, 155, 160, 161, 166, 167]:\n",
    "    true_struct = SpacegroupAnalyzer(true_struct).get_conventional_standard_structure()\n",
    "sa = SpacegroupAnalyzer(true_struct).get_symmetry_dataset()\n",
    "ss_symbol = sa['site_symmetry_symbols']\n",
    "wy_data = sa['wyckoffs']\n",
    "\n",
    "true_wy_count = count_wy(wy_data, true_struct.species)\n",
    "true_wy_reformat = {k: reformat_wy_info(true_spg, v) for k, v in true_wy_count.items()}\n",
    "true_wy_pattern = tuple(sorted([v for v in true_wy_reformat.values()]))\n",
    "true_wy_pattern_loose = tuple(sorted(reduce(operator.add, true_wy_pattern)))\n",
    "true_wy_unique = tuple(sorted(set(true_wy_pattern_loose)))"
   ]
  },
  {
   "cell_type": "code",
   "execution_count": 12,
   "metadata": {},
   "outputs": [],
   "source": [
    "class WyckoffPos():\n",
    "    patten = re.compile(r'(?<=\\)),\\s*')\n",
    "    \n",
    "    def __init__(self, spacegroup_num):\n",
    "        wys = SpaceGroupDB.get(SpaceGroupDB.spacegroup_num == spacegroup_num).wyckoffs\n",
    "        self.particle = Particle()\n",
    "        self.wyckoff_pos = {wy.letter: self.patten.split(wy.positions)[0][1:-1] for wy in wys}\n",
    "        \n",
    "    def __call__(self, wy_letter, b):\n",
    "        a = np.array(self.particle(self.wyckoff_pos[wy_letter]))\n",
    "        idx = []\n",
    "\n",
    "        if np.count_nonzero(a[:, 0]):\n",
    "            idx.append(0)\n",
    "        if np.count_nonzero(a[:, 1]):\n",
    "            idx.append(1)\n",
    "        if np.count_nonzero(a[:, 2]):\n",
    "            idx.append(2)\n",
    "        b[idx] -= a[idx, -1]\n",
    "\n",
    "        if len(idx) > 1:\n",
    "            solves = np.linalg.solve(a[idx][:, idx], b[idx] - a[idx, -1])\n",
    "            b[idx] = solves\n",
    "\n",
    "        return b.copy()"
   ]
  },
  {
   "cell_type": "code",
   "execution_count": 13,
   "metadata": {},
   "outputs": [
    {
     "output_type": "execute_result",
     "data": {
      "text/plain": [
       "array([0.9949, 0.095 , 0.7716])"
      ]
     },
     "metadata": {},
     "execution_count": 13
    }
   ],
   "source": [
    "b = np.array([0.9949, 0.0950, 0.7716])\n",
    "xyz = WyckoffPos(true_spg)('a', b)\n",
    "xyz"
   ]
  },
  {
   "cell_type": "code",
   "execution_count": 15,
   "metadata": {},
   "outputs": [
    {
     "output_type": "execute_result",
     "data": {
      "text/plain": [
       "CrystalGenerator(            \n",
       "    spacegroup_num=33,            \n",
       "    estimated_volume=1254.599172,            \n",
       "    estimated_variance=10,            \n",
       "    angle_range=(30.0, 150.0),            \n",
       "    angle_tolerance=20.0,            \n",
       "    max_attempts_number=5000,            \n",
       "    empirical_coords=...,            \n",
       "    empirical_coords_variance=0,            \n",
       "    n_jobs=-1            \n",
       ")"
      ]
     },
     "metadata": {},
     "execution_count": 15
    }
   ],
   "source": [
    "cg = CrystalGenerator(\n",
    "    spacegroup_num=true_spg,\n",
    "    estimated_volume=1254.599172,\n",
    "    estimated_variance=10,\n",
    "    empirical_coords=dict(\n",
    "        a=[tuple(xyz.tolist())]\n",
    "    ),\n",
    "    empirical_coords_variance=0\n",
    ")\n",
    "cg"
   ]
  },
  {
   "cell_type": "code",
   "execution_count": 25,
   "metadata": {},
   "outputs": [
    {
     "output_type": "display_data",
     "data": {
      "text/plain": "HBox(children=(HTML(value='parsing structures'), FloatProgress(value=0.0, max=1.0), HTML(value='')))",
      "application/vnd.jupyter.widget-view+json": {
       "version_major": 2,
       "version_minor": 0,
       "model_id": "81f98839486445d3adfa73d950714092"
      }
     },
     "metadata": {}
    },
    {
     "output_type": "stream",
     "name": "stdout",
     "text": [
      "\n"
     ]
    },
    {
     "output_type": "execute_result",
     "data": {
      "text/plain": [
       "Structure Summary\n",
       "Lattice\n",
       "    abc : 7.66624283213384 9.852965708621726 9.852965708621726\n",
       " angles : 79.80557030551672 67.10570345167348 67.10570345167348\n",
       " volume : 631.3188867798196\n",
       "      A : -0.0 -0.0 7.66624283213384\n",
       "      B : 6.320548652632781 6.514505214877541 3.8331214160669207\n",
       "      C : -6.320548652632782 6.514505214877541 3.83312141606692\n",
       "PeriodicSite: Ag (-0.0000, 1.2378, 5.9153) [0.6766, 0.0950, 0.0950]\n",
       "PeriodicSite: Ag (-0.0000, 11.7913, 9.7484) [0.3666, 0.9050, 0.9050]"
      ]
     },
     "metadata": {},
     "execution_count": 25
    }
   ],
   "source": [
    "ss = cg.gen_one(Ag=['a'])\n",
    "ss = parse_structure([ss])\n",
    "ss.structure[0]"
   ]
  },
  {
   "cell_type": "code",
   "execution_count": 26,
   "metadata": {},
   "outputs": [
    {
     "output_type": "display_data",
     "data": {
      "text/plain": "HBox(children=(HTML(value='parsing structures'), FloatProgress(value=0.0, max=1.0), HTML(value='')))",
      "application/vnd.jupyter.widget-view+json": {
       "version_major": 2,
       "version_minor": 0,
       "model_id": "9a1d643326fa46eba5a07ee469ea8f07"
      }
     },
     "metadata": {}
    },
    {
     "output_type": "stream",
     "name": "stdout",
     "text": [
      "\n"
     ]
    },
    {
     "output_type": "execute_result",
     "data": {
      "text/plain": [
       "Structure Summary\n",
       "Lattice\n",
       "    abc : 6.010835927601179 10.705249074328446 10.705249074328446\n",
       " angles : 82.94616563169949 73.69547795017682 73.69547795017682\n",
       " volume : 633.8390683893151\n",
       "      A : 3.680575489468348e-16 -6.010835927601179 -3.680575489468348e-16\n",
       "      B : -7.089745184856023 -3.0054179638005896 -7.436755597710979\n",
       "      C : 7.089745184856023 -3.0054179638005896 -7.436755597710979\n",
       "PeriodicSite: Ag (-0.0000, -5.4398, -3.3971) [0.6766, 0.2284, 0.2284]\n",
       "PeriodicSite: Ag (0.0000, -6.5819, -10.8339) [0.3666, 0.7284, 0.7284]"
      ]
     },
     "metadata": {},
     "execution_count": 26
    }
   ],
   "source": [
    "ss = cg.gen_one(Ag=['a'])\n",
    "ss = parse_structure([ss])\n",
    "ss.structure[0]"
   ]
  },
  {
   "cell_type": "code",
   "execution_count": 157,
   "metadata": {},
   "outputs": [
    {
     "data": {
      "text/plain": [
       "{'Ag': ('a', 'a', 'a', 'a', 'a', 'a', 'a', 'a'),\n",
       " 'Ge': ('a',),\n",
       " 'S': ('a', 'a', 'a', 'a', 'a', 'a')}"
      ]
     },
     "execution_count": 157,
     "metadata": {},
     "output_type": "execute_result"
    }
   ],
   "source": [
    "true_wy_reformat"
   ]
  },
  {
   "cell_type": "code",
   "execution_count": 149,
   "metadata": {},
   "outputs": [
    {
     "data": {
      "text/plain": [
       "Structure Summary\n",
       "Lattice\n",
       "    abc : 7.62616066 10.74315461 15.31324474\n",
       " angles : 90.0 90.0 90.0\n",
       " volume : 1254.5991812902842\n",
       "      A : 7.62616066 0.0 4.669676621026233e-16\n",
       "      B : 1.7276310257318973e-15 10.74315461 6.578284952940816e-16\n",
       "      C : 0.0 0.0 15.31324474\n",
       "PeriodicSite: Ag (7.5876, 1.0208, 11.8156) [0.9949, 0.0950, 0.7716]\n",
       "PeriodicSite: Ag (6.6626, 4.3578, 11.3221) [0.8737, 0.4056, 0.7394]\n",
       "PeriodicSite: Ag (0.9635, 9.7294, 3.9911) [0.1263, 0.9056, 0.2606]\n",
       "PeriodicSite: Ag (4.7766, 4.3578, 3.6655) [0.6263, 0.4056, 0.2394]\n",
       "PeriodicSite: Ag (3.9392, 1.2013, 7.4041) [0.5165, 0.1118, 0.4835]\n",
       "PeriodicSite: Ag (3.6869, 6.5729, 7.9091) [0.4835, 0.6118, 0.5165]\n",
       "PeriodicSite: Ag (7.5000, 1.2013, 15.0607) [0.9835, 0.1118, 0.9835]\n",
       "PeriodicSite: Ag (0.1261, 6.5729, 0.2525) [0.0165, 0.6118, 0.0165]\n",
       "PeriodicSite: Ag (6.7044, 2.0538, 3.5062) [0.8791, 0.1912, 0.2290]\n",
       "PeriodicSite: Ag (0.9218, 7.4253, 11.8070) [0.1209, 0.6912, 0.7710]\n",
       "PeriodicSite: Ag (4.7349, 2.0538, 11.1629) [0.6209, 0.1912, 0.7290]\n",
       "PeriodicSite: Ag (2.8913, 7.4253, 4.1504) [0.3791, 0.6912, 0.2710]\n",
       "PeriodicSite: Ag (4.6586, 2.0458, 1.3420) [0.6109, 0.1904, 0.0876]\n",
       "PeriodicSite: Ag (2.9676, 7.4174, 13.9712) [0.3891, 0.6904, 0.9124]\n",
       "PeriodicSite: Ag (6.7806, 2.0458, 8.9986) [0.8891, 0.1904, 0.5876]\n",
       "PeriodicSite: Ag (0.8455, 7.4174, 6.3146) [0.1109, 0.6904, 0.4124]\n",
       "PeriodicSite: Ag (0.0386, 6.3924, 3.4977) [0.0051, 0.5950, 0.2284]\n",
       "PeriodicSite: Ag (2.8495, 9.7294, 11.6477) [0.3737, 0.9056, 0.7606]\n",
       "PeriodicSite: Ag (3.7745, 6.3924, 11.1543) [0.4949, 0.5950, 0.7284]\n",
       "PeriodicSite: Ag (3.8516, 1.0208, 4.1590) [0.5051, 0.0950, 0.2716]\n",
       "PeriodicSite: Ag (4.3205, 5.6085, 1.0170) [0.5665, 0.5221, 0.0664]\n",
       "PeriodicSite: Ag (3.3056, 0.2369, 14.2963) [0.4335, 0.0221, 0.9336]\n",
       "PeriodicSite: Ag (7.1187, 5.6085, 8.6736) [0.9335, 0.5221, 0.5664]\n",
       "PeriodicSite: Ag (0.5074, 0.2369, 6.6397) [0.0665, 0.0221, 0.4336]\n",
       "PeriodicSite: Ag (5.5964, 3.6052, 6.6901) [0.7338, 0.3356, 0.4369]\n",
       "PeriodicSite: Ag (2.0298, 8.9768, 8.6232) [0.2662, 0.8356, 0.5631]\n",
       "PeriodicSite: Ag (5.8429, 3.6052, 14.3467) [0.7662, 0.3356, 0.9369]\n",
       "PeriodicSite: Ag (1.7833, 8.9768, 0.9666) [0.2338, 0.8356, 0.0631]\n",
       "PeriodicSite: Ag (5.8763, 9.3452, 5.6737) [0.7705, 0.8699, 0.3705]\n",
       "PeriodicSite: Ag (1.7498, 3.9736, 9.6396) [0.2295, 0.3699, 0.6295]\n",
       "PeriodicSite: Ag (5.5629, 9.3452, 13.3303) [0.7295, 0.8699, 0.8705]\n",
       "PeriodicSite: Ag (2.0632, 3.9736, 1.9830) [0.2705, 0.3699, 0.1295]\n",
       "PeriodicSite: Ge (5.5961, 9.1359, 1.8962) [0.7338, 0.8504, 0.1238]\n",
       "PeriodicSite: Ge (2.0301, 3.7643, 13.4170) [0.2662, 0.3504, 0.8762]\n",
       "PeriodicSite: Ge (5.8431, 9.1359, 9.5529) [0.7662, 0.8504, 0.6238]\n",
       "PeriodicSite: Ge (1.7830, 3.7643, 5.7604) [0.2338, 0.3504, 0.3762]\n",
       "PeriodicSite: S (5.8374, 1.1348, 5.7616) [0.7654, 0.1056, 0.3763]\n",
       "PeriodicSite: S (1.7887, 6.5064, 9.5516) [0.2346, 0.6056, 0.6237]\n",
       "PeriodicSite: S (5.6018, 1.1348, 13.4183) [0.7346, 0.1056, 0.8763]\n",
       "PeriodicSite: S (2.0244, 6.5064, 1.8950) [0.2654, 0.6056, 0.1237]\n",
       "PeriodicSite: S (6.1977, 3.9519, 1.7187) [0.8127, 0.3679, 0.1122]\n",
       "PeriodicSite: S (1.4285, 9.3235, 13.5945) [0.1873, 0.8679, 0.8878]\n",
       "PeriodicSite: S (5.2416, 3.9519, 9.3753) [0.6873, 0.3679, 0.6122]\n",
       "PeriodicSite: S (2.3846, 9.3235, 5.9379) [0.3127, 0.8679, 0.3878]\n",
       "PeriodicSite: S (5.5337, 7.8185, 3.7041) [0.7256, 0.7278, 0.2419]\n",
       "PeriodicSite: S (2.0925, 2.4469, 11.6092) [0.2744, 0.2278, 0.7581]\n",
       "PeriodicSite: S (5.9055, 7.8185, 11.3607) [0.7744, 0.7278, 0.7419]\n",
       "PeriodicSite: S (1.7206, 2.4469, 3.9525) [0.2256, 0.2278, 0.2581]\n",
       "PeriodicSite: S (7.4250, 10.4615, 1.9425) [0.9736, 0.9738, 0.1268]\n",
       "PeriodicSite: S (0.2012, 5.0899, 13.3708) [0.0264, 0.4738, 0.8732]\n",
       "PeriodicSite: S (4.0143, 10.4615, 9.5991) [0.5264, 0.9738, 0.6268]\n",
       "PeriodicSite: S (3.6119, 5.0899, 5.7142) [0.4736, 0.4738, 0.3732]\n",
       "PeriodicSite: S (5.8664, 7.8189, 7.7363) [0.7693, 0.7278, 0.5052]\n",
       "PeriodicSite: S (1.7597, 2.4473, 7.5769) [0.2307, 0.2278, 0.4948]\n",
       "PeriodicSite: S (5.5728, 7.8189, 0.0797) [0.7307, 0.7278, 0.0052]\n",
       "PeriodicSite: S (2.0534, 2.4473, 15.2336) [0.2693, 0.2278, 0.9948]\n",
       "PeriodicSite: S (7.6025, 5.1040, 5.8073) [0.9969, 0.4751, 0.3792]\n",
       "PeriodicSite: S (0.0237, 10.4756, 9.5059) [0.0031, 0.9751, 0.6208]\n",
       "PeriodicSite: S (3.8368, 5.1040, 13.4639) [0.5031, 0.4751, 0.8792]\n",
       "PeriodicSite: S (3.7894, 10.4756, 1.8493) [0.4969, 0.9751, 0.1208]"
      ]
     },
     "execution_count": 149,
     "metadata": {},
     "output_type": "execute_result"
    }
   ],
   "source": [
    "true_struct"
   ]
  },
  {
   "cell_type": "code",
   "execution_count": 148,
   "metadata": {},
   "outputs": [
    {
     "output_type": "error",
     "ename": "Error",
     "evalue": "Pip module debugpy is required for debugging cells. You will need to install it to debug cells.",
     "traceback": [
      "Error: Pip module debugpy is required for debugging cells. You will need to install it to debug cells.",
      "at E.promptToInstallDebugger (/Users/liuchang/.vscode/extensions/ms-python.python-2020.9.114305/out/client/extension.js:56:423323)",
      "at runMicrotasks (<anonymous>)",
      "at processTicksAndRejections (internal/process/task_queues.js:94:5)"
     ]
    }
   ],
   "source": [
    "a = SpacegroupAnalyzer(true_struct)\n",
    "s = a.get_symmetrized_structure()"
   ]
  },
  {
   "cell_type": "code",
   "execution_count": 41,
   "metadata": {},
   "outputs": [],
   "source": [
    "def to_s(x):\n",
    "    return \"%0.6f\" % x"
   ]
  },
  {
   "cell_type": "code",
   "execution_count": 43,
   "metadata": {},
   "outputs": [
    {
     "output_type": "stream",
     "name": "stdout",
     "text": [
      "['0', 'Ag', '0.994945', '0.095017', '0.771593', '4a']\n['1', 'Ag', '0.873654', '0.405638', '0.739368', '4a']\n['2', 'Ag', '0.516540', '0.111819', '0.483510', '4a']\n['3', 'Ag', '0.879130', '0.191169', '0.228967', '4a']\n['4', 'Ag', '0.610870', '0.190429', '0.087637', '4a']\n['5', 'Ag', '0.566539', '0.522052', '0.066411', '4a']\n['6', 'Ag', '0.733839', '0.335581', '0.436881', '4a']\n['7', 'Ag', '0.770548', '0.869876', '0.370507', '4a']\n['8', 'Ge', '0.733802', '0.850394', '0.123830', '4a']\n['9', 'S', '0.765449', '0.105633', '0.376252', '4a']\n['10', 'S', '0.812687', '0.367857', '0.112236', '4a']\n['11', 'S', '0.725622', '0.727762', '0.241888', '4a']\n['12', 'S', '0.973621', '0.973780', '0.126849', '4a']\n['13', 'S', '0.769252', '0.727800', '0.505203', '4a']\n['14', 'S', '0.996893', '0.475094', '0.379234', '4a']\n"
     ]
    }
   ],
   "source": [
    "for i, sites in enumerate(s.equivalent_sites):\n",
    "    site = sites[0]\n",
    "    row = [str(i), site.species_string]\n",
    "    row.extend([to_s(j) for j in site.frac_coords])\n",
    "    row.append(s.wyckoff_symbols[i])\n",
    "    print(row)"
   ]
  },
  {
   "cell_type": "code",
   "execution_count": null,
   "metadata": {},
   "outputs": [],
   "source": []
  }
 ],
 "metadata": {
  "kernelspec": {
   "name": "python37664bitcrystalluscondacde6328031c145059620737ef4407483",
   "display_name": "Python 3.7.6 64-bit ('crystallus': conda)"
  },
  "language_info": {
   "codemirror_mode": {
    "name": "ipython",
    "version": 3
   },
   "file_extension": ".py",
   "mimetype": "text/x-python",
   "name": "python",
   "nbconvert_exporter": "python",
   "pygments_lexer": "ipython3",
   "version": "3.7.9-final"
  }
 },
 "nbformat": 4,
 "nbformat_minor": 4
}